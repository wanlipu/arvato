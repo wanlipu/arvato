{
 "cells": [
  {
   "cell_type": "markdown",
   "metadata": {},
   "source": [
    "# Capstone Project: Create a Customer Segmentation Report for Arvato Financial Services\n",
    "\n",
    "In this project, you will analyze demographics data for customers of a mail-order sales company in Germany, comparing it against demographics information for the general population. You'll use unsupervised learning techniques to perform customer segmentation, identifying the parts of the population that best describe the core customer base of the company. Then, you'll apply what you've learned on a third dataset with demographics information for targets of a marketing campaign for the company, and use a model to predict which individuals are most likely to convert into becoming customers for the company. The data that you will use has been provided by our partners at Bertelsmann Arvato Analytics, and represents a real-life data science task.\n",
    "\n",
    "If you completed the first term of this program, you will be familiar with the first part of this project, from the unsupervised learning project. The versions of those two datasets used in this project will include many more features and has not been pre-cleaned. You are also free to choose whatever approach you'd like to analyzing the data rather than follow pre-determined steps. In your work on this project, make sure that you carefully document your steps and decisions, since your main deliverable for this project will be a blog post reporting your findings."
   ]
  },
  {
   "cell_type": "code",
   "execution_count": 1,
   "metadata": {},
   "outputs": [],
   "source": [
    "# import libraries here; add more as necessary\n",
    "import numpy as np\n",
    "import pandas as pd\n",
    "import matplotlib.pyplot as plt\n",
    "import seaborn as sns\n",
    "\n",
    "# magic word for producing visualizations in notebook\n",
    "%matplotlib inline\n",
    "\n",
    "from sklearn.base import BaseEstimator, TransformerMixin\n",
    "from joblib import dump, load\n",
    "\n",
    "from sklearn.impute import SimpleImputer\n",
    "\n",
    "\n",
    "from sklearn.pipeline import Pipeline\n",
    "from sklearn.preprocessing import StandardScaler\n",
    "from sklearn.preprocessing import OneHotEncoder\n",
    "from sklearn.compose import ColumnTransformer\n",
    "\n",
    "from sklearn.decomposition import PCA\n",
    "from sklearn.cluster import KMeans\n",
    "\n",
    "from sklearn.linear_model import LogisticRegression\n",
    "from sklearn.ensemble import RandomForestClassifier, AdaBoostClassifier, GradientBoostingClassifier\n",
    "from sklearn.model_selection import learning_curve\n",
    "from sklearn.model_selection import GridSearchCV"
   ]
  },
  {
   "cell_type": "markdown",
   "metadata": {},
   "source": [
    "## Part 0: Get to Know the Data\n",
    "\n",
    "There are four data files associated with this project:\n",
    "\n",
    "- `Udacity_AZDIAS_052018.csv`: Demographics data for the general population of Germany; 891 211 persons (rows) x 366 features (columns).\n",
    "- `Udacity_CUSTOMERS_052018.csv`: Demographics data for customers of a mail-order company; 191 652 persons (rows) x 369 features (columns).\n",
    "- `Udacity_MAILOUT_052018_TRAIN.csv`: Demographics data for individuals who were targets of a marketing campaign; 42 982 persons (rows) x 367 (columns).\n",
    "- `Udacity_MAILOUT_052018_TEST.csv`: Demographics data for individuals who were targets of a marketing campaign; 42 833 persons (rows) x 366 (columns).\n",
    "\n",
    "Each row of the demographics files represents a single person, but also includes information outside of individuals, including information about their household, building, and neighborhood. Use the information from the first two files to figure out how customers (\"CUSTOMERS\") are similar to or differ from the general population at large (\"AZDIAS\"), then use your analysis to make predictions on the other two files (\"MAILOUT\"), predicting which recipients are most likely to become a customer for the mail-order company.\n",
    "\n",
    "The \"CUSTOMERS\" file contains three extra columns ('CUSTOMER_GROUP', 'ONLINE_PURCHASE', and 'PRODUCT_GROUP'), which provide broad information about the customers depicted in the file. The original \"MAILOUT\" file included one additional column, \"RESPONSE\", which indicated whether or not each recipient became a customer of the company. For the \"TRAIN\" subset, this column has been retained, but in the \"TEST\" subset it has been removed; it is against that withheld column that your final predictions will be assessed in the Kaggle competition.\n",
    "\n",
    "Otherwise, all of the remaining columns are the same between the three data files. For more information about the columns depicted in the files, you can refer to two Excel spreadsheets provided in the workspace. [One of them](./DIAS Information Levels - Attributes 2017.xlsx) is a top-level list of attributes and descriptions, organized by informational category. [The other](./DIAS Attributes - Values 2017.xlsx) is a detailed mapping of data values for each feature in alphabetical order.\n",
    "\n",
    "In the below cell, we've provided some initial code to load in the first two datasets. Note for all of the `.csv` data files in this project that they're semicolon (`;`) delimited, so an additional argument in the [`read_csv()`](https://pandas.pydata.org/pandas-docs/stable/generated/pandas.read_csv.html) call has been included to read in the data properly. Also, considering the size of the datasets, it may take some time for them to load completely.\n",
    "\n",
    "You'll notice when the data is loaded in that a warning message will immediately pop up. Before you really start digging into the modeling and analysis, you're going to need to perform some cleaning. Take some time to browse the structure of the data and look over the informational spreadsheets to understand the data values. Make some decisions on which features to keep, which features to drop, and if any revisions need to be made on data formats. It'll be a good idea to create a function with pre-processing steps, since you'll need to clean all of the datasets before you work with them."
   ]
  },
  {
   "cell_type": "code",
   "execution_count": 2,
   "metadata": {},
   "outputs": [],
   "source": [
    "# !cp ../../data/Term2/capstone/arvato_data/Udacity_AZDIAS_052018.csv ./data/\n",
    "# !cp ../../data/Term2/capstone/arvato_data/Udacity_CUSTOMERS_052018.csv ./data/\n",
    "# !cp ../../data/Term2/capstone/arvato_data/Udacity_MAILOUT_052018_TRAIN.csv ./data/\n",
    "# !cp ../../data/Term2/capstone/arvato_data/Udacity_MAILOUT_052018_TEST.csv ./data/"
   ]
  },
  {
   "cell_type": "markdown",
   "metadata": {},
   "source": [
    "## Part 0-0: Load Data"
   ]
  },
  {
   "cell_type": "code",
   "execution_count": 3,
   "metadata": {
    "scrolled": true
   },
   "outputs": [
    {
     "name": "stderr",
     "output_type": "stream",
     "text": [
      "C:\\Miniconda3\\lib\\site-packages\\IPython\\core\\interactiveshell.py:3058: DtypeWarning: Columns (18,19) have mixed types. Specify dtype option on import or set low_memory=False.\n",
      "  interactivity=interactivity, compiler=compiler, result=result)\n"
     ]
    }
   ],
   "source": [
    "# load in the data of general population as azdias_orig\n",
    "azdias_orig = pd.read_csv('./data/Udacity_AZDIAS_052018.csv', sep=';')"
   ]
  },
  {
   "cell_type": "code",
   "execution_count": 2,
   "metadata": {},
   "outputs": [
    {
     "name": "stderr",
     "output_type": "stream",
     "text": [
      "C:\\Miniconda3\\lib\\site-packages\\IPython\\core\\interactiveshell.py:3058: DtypeWarning: Columns (18,19) have mixed types. Specify dtype option on import or set low_memory=False.\n",
      "  interactivity=interactivity, compiler=compiler, result=result)\n"
     ]
    }
   ],
   "source": [
    "# load in the data of customers as customers_orig\n",
    "customers_orig = pd.read_csv('./data/Udacity_CUSTOMERS_052018.csv', sep=';')"
   ]
  },
  {
   "cell_type": "markdown",
   "metadata": {},
   "source": [
    "I have compile a summary file (`AZDIAS_Attributes_Info.csv`) based on `DIAS Attributes - Values 2017.xlsx`, and this summary file will be used for data preprocessing"
   ]
  },
  {
   "cell_type": "code",
   "execution_count": 5,
   "metadata": {},
   "outputs": [],
   "source": [
    "# load in azdias attribute_info csv file\n",
    "azdias_attribute_info = pd.read_csv('./data/AZDIAS_Attributes_Info.csv', sep=',')"
   ]
  },
  {
   "cell_type": "code",
   "execution_count": 6,
   "metadata": {},
   "outputs": [],
   "source": [
    "# load in mailout train dataset\n",
    "mailout_train = pd.read_csv('./data/Udacity_MAILOUT_052018_TRAIN.csv', sep=';')"
   ]
  },
  {
   "cell_type": "code",
   "execution_count": 7,
   "metadata": {},
   "outputs": [],
   "source": [
    "# load in mailout test dataset\n",
    "mailout_test = pd.read_csv('./data/Udacity_MAILOUT_052018_TEST.csv', sep=';')"
   ]
  },
  {
   "cell_type": "markdown",
   "metadata": {},
   "source": [
    "### Demographics data for the general population"
   ]
  },
  {
   "cell_type": "code",
   "execution_count": 8,
   "metadata": {},
   "outputs": [
    {
     "name": "stdout",
     "output_type": "stream",
     "text": [
      "(891221, 366)\n"
     ]
    },
    {
     "data": {
      "text/html": [
       "<div>\n",
       "<style scoped>\n",
       "    .dataframe tbody tr th:only-of-type {\n",
       "        vertical-align: middle;\n",
       "    }\n",
       "\n",
       "    .dataframe tbody tr th {\n",
       "        vertical-align: top;\n",
       "    }\n",
       "\n",
       "    .dataframe thead th {\n",
       "        text-align: right;\n",
       "    }\n",
       "</style>\n",
       "<table border=\"1\" class=\"dataframe\">\n",
       "  <thead>\n",
       "    <tr style=\"text-align: right;\">\n",
       "      <th></th>\n",
       "      <th>LNR</th>\n",
       "      <th>AGER_TYP</th>\n",
       "      <th>AKT_DAT_KL</th>\n",
       "      <th>ALTER_HH</th>\n",
       "      <th>ALTER_KIND1</th>\n",
       "      <th>ALTER_KIND2</th>\n",
       "      <th>ALTER_KIND3</th>\n",
       "      <th>ALTER_KIND4</th>\n",
       "      <th>ALTERSKATEGORIE_FEIN</th>\n",
       "      <th>ANZ_HAUSHALTE_AKTIV</th>\n",
       "      <th>...</th>\n",
       "      <th>VHN</th>\n",
       "      <th>VK_DHT4A</th>\n",
       "      <th>VK_DISTANZ</th>\n",
       "      <th>VK_ZG11</th>\n",
       "      <th>W_KEIT_KIND_HH</th>\n",
       "      <th>WOHNDAUER_2008</th>\n",
       "      <th>WOHNLAGE</th>\n",
       "      <th>ZABEOTYP</th>\n",
       "      <th>ANREDE_KZ</th>\n",
       "      <th>ALTERSKATEGORIE_GROB</th>\n",
       "    </tr>\n",
       "  </thead>\n",
       "  <tbody>\n",
       "    <tr>\n",
       "      <th>0</th>\n",
       "      <td>910215</td>\n",
       "      <td>-1</td>\n",
       "      <td>NaN</td>\n",
       "      <td>NaN</td>\n",
       "      <td>NaN</td>\n",
       "      <td>NaN</td>\n",
       "      <td>NaN</td>\n",
       "      <td>NaN</td>\n",
       "      <td>NaN</td>\n",
       "      <td>NaN</td>\n",
       "      <td>...</td>\n",
       "      <td>NaN</td>\n",
       "      <td>NaN</td>\n",
       "      <td>NaN</td>\n",
       "      <td>NaN</td>\n",
       "      <td>NaN</td>\n",
       "      <td>NaN</td>\n",
       "      <td>NaN</td>\n",
       "      <td>3</td>\n",
       "      <td>1</td>\n",
       "      <td>2</td>\n",
       "    </tr>\n",
       "    <tr>\n",
       "      <th>1</th>\n",
       "      <td>910220</td>\n",
       "      <td>-1</td>\n",
       "      <td>9.0</td>\n",
       "      <td>0.0</td>\n",
       "      <td>NaN</td>\n",
       "      <td>NaN</td>\n",
       "      <td>NaN</td>\n",
       "      <td>NaN</td>\n",
       "      <td>21.0</td>\n",
       "      <td>11.0</td>\n",
       "      <td>...</td>\n",
       "      <td>4.0</td>\n",
       "      <td>8.0</td>\n",
       "      <td>11.0</td>\n",
       "      <td>10.0</td>\n",
       "      <td>3.0</td>\n",
       "      <td>9.0</td>\n",
       "      <td>4.0</td>\n",
       "      <td>5</td>\n",
       "      <td>2</td>\n",
       "      <td>1</td>\n",
       "    </tr>\n",
       "    <tr>\n",
       "      <th>2</th>\n",
       "      <td>910225</td>\n",
       "      <td>-1</td>\n",
       "      <td>9.0</td>\n",
       "      <td>17.0</td>\n",
       "      <td>NaN</td>\n",
       "      <td>NaN</td>\n",
       "      <td>NaN</td>\n",
       "      <td>NaN</td>\n",
       "      <td>17.0</td>\n",
       "      <td>10.0</td>\n",
       "      <td>...</td>\n",
       "      <td>2.0</td>\n",
       "      <td>9.0</td>\n",
       "      <td>9.0</td>\n",
       "      <td>6.0</td>\n",
       "      <td>3.0</td>\n",
       "      <td>9.0</td>\n",
       "      <td>2.0</td>\n",
       "      <td>5</td>\n",
       "      <td>2</td>\n",
       "      <td>3</td>\n",
       "    </tr>\n",
       "    <tr>\n",
       "      <th>3</th>\n",
       "      <td>910226</td>\n",
       "      <td>2</td>\n",
       "      <td>1.0</td>\n",
       "      <td>13.0</td>\n",
       "      <td>NaN</td>\n",
       "      <td>NaN</td>\n",
       "      <td>NaN</td>\n",
       "      <td>NaN</td>\n",
       "      <td>13.0</td>\n",
       "      <td>1.0</td>\n",
       "      <td>...</td>\n",
       "      <td>0.0</td>\n",
       "      <td>7.0</td>\n",
       "      <td>10.0</td>\n",
       "      <td>11.0</td>\n",
       "      <td>NaN</td>\n",
       "      <td>9.0</td>\n",
       "      <td>7.0</td>\n",
       "      <td>3</td>\n",
       "      <td>2</td>\n",
       "      <td>4</td>\n",
       "    </tr>\n",
       "    <tr>\n",
       "      <th>4</th>\n",
       "      <td>910241</td>\n",
       "      <td>-1</td>\n",
       "      <td>1.0</td>\n",
       "      <td>20.0</td>\n",
       "      <td>NaN</td>\n",
       "      <td>NaN</td>\n",
       "      <td>NaN</td>\n",
       "      <td>NaN</td>\n",
       "      <td>14.0</td>\n",
       "      <td>3.0</td>\n",
       "      <td>...</td>\n",
       "      <td>2.0</td>\n",
       "      <td>3.0</td>\n",
       "      <td>5.0</td>\n",
       "      <td>4.0</td>\n",
       "      <td>2.0</td>\n",
       "      <td>9.0</td>\n",
       "      <td>3.0</td>\n",
       "      <td>4</td>\n",
       "      <td>1</td>\n",
       "      <td>3</td>\n",
       "    </tr>\n",
       "  </tbody>\n",
       "</table>\n",
       "<p>5 rows × 366 columns</p>\n",
       "</div>"
      ],
      "text/plain": [
       "      LNR  AGER_TYP  AKT_DAT_KL  ALTER_HH  ALTER_KIND1  ALTER_KIND2  \\\n",
       "0  910215        -1         NaN       NaN          NaN          NaN   \n",
       "1  910220        -1         9.0       0.0          NaN          NaN   \n",
       "2  910225        -1         9.0      17.0          NaN          NaN   \n",
       "3  910226         2         1.0      13.0          NaN          NaN   \n",
       "4  910241        -1         1.0      20.0          NaN          NaN   \n",
       "\n",
       "   ALTER_KIND3  ALTER_KIND4  ALTERSKATEGORIE_FEIN  ANZ_HAUSHALTE_AKTIV  ...  \\\n",
       "0          NaN          NaN                   NaN                  NaN  ...   \n",
       "1          NaN          NaN                  21.0                 11.0  ...   \n",
       "2          NaN          NaN                  17.0                 10.0  ...   \n",
       "3          NaN          NaN                  13.0                  1.0  ...   \n",
       "4          NaN          NaN                  14.0                  3.0  ...   \n",
       "\n",
       "   VHN  VK_DHT4A  VK_DISTANZ  VK_ZG11  W_KEIT_KIND_HH  WOHNDAUER_2008  \\\n",
       "0  NaN       NaN         NaN      NaN             NaN             NaN   \n",
       "1  4.0       8.0        11.0     10.0             3.0             9.0   \n",
       "2  2.0       9.0         9.0      6.0             3.0             9.0   \n",
       "3  0.0       7.0        10.0     11.0             NaN             9.0   \n",
       "4  2.0       3.0         5.0      4.0             2.0             9.0   \n",
       "\n",
       "   WOHNLAGE ZABEOTYP ANREDE_KZ ALTERSKATEGORIE_GROB  \n",
       "0       NaN        3         1                    2  \n",
       "1       4.0        5         2                    1  \n",
       "2       2.0        5         2                    3  \n",
       "3       7.0        3         2                    4  \n",
       "4       3.0        4         1                    3  \n",
       "\n",
       "[5 rows x 366 columns]"
      ]
     },
     "execution_count": 8,
     "metadata": {},
     "output_type": "execute_result"
    }
   ],
   "source": [
    "# print the shape of the population dataframe, and print the first few rows\n",
    "print(azdias_orig.shape)\n",
    "azdias_orig.head()"
   ]
  },
  {
   "cell_type": "code",
   "execution_count": 9,
   "metadata": {
    "scrolled": false
   },
   "outputs": [
    {
     "name": "stdout",
     "output_type": "stream",
     "text": [
      "<class 'pandas.core.frame.DataFrame'>\n",
      "RangeIndex: 891221 entries, 0 to 891220\n",
      "Data columns (total 366 columns):\n",
      "LNR                            int64\n",
      "AGER_TYP                       int64\n",
      "AKT_DAT_KL                     float64\n",
      "ALTER_HH                       float64\n",
      "ALTER_KIND1                    float64\n",
      "ALTER_KIND2                    float64\n",
      "ALTER_KIND3                    float64\n",
      "ALTER_KIND4                    float64\n",
      "ALTERSKATEGORIE_FEIN           float64\n",
      "ANZ_HAUSHALTE_AKTIV            float64\n",
      "ANZ_HH_TITEL                   float64\n",
      "ANZ_KINDER                     float64\n",
      "ANZ_PERSONEN                   float64\n",
      "ANZ_STATISTISCHE_HAUSHALTE     float64\n",
      "ANZ_TITEL                      float64\n",
      "ARBEIT                         float64\n",
      "BALLRAUM                       float64\n",
      "CAMEO_DEU_2015                 object\n",
      "CAMEO_DEUG_2015                object\n",
      "CAMEO_INTL_2015                object\n",
      "CJT_GESAMTTYP                  float64\n",
      "CJT_KATALOGNUTZER              float64\n",
      "CJT_TYP_1                      float64\n",
      "CJT_TYP_2                      float64\n",
      "CJT_TYP_3                      float64\n",
      "CJT_TYP_4                      float64\n",
      "CJT_TYP_5                      float64\n",
      "CJT_TYP_6                      float64\n",
      "D19_BANKEN_ANZ_12              int64\n",
      "D19_BANKEN_ANZ_24              int64\n",
      "D19_BANKEN_DATUM               int64\n",
      "D19_BANKEN_DIREKT              int64\n",
      "D19_BANKEN_GROSS               int64\n",
      "D19_BANKEN_LOKAL               int64\n",
      "D19_BANKEN_OFFLINE_DATUM       int64\n",
      "D19_BANKEN_ONLINE_DATUM        int64\n",
      "D19_BANKEN_ONLINE_QUOTE_12     float64\n",
      "D19_BANKEN_REST                int64\n",
      "D19_BEKLEIDUNG_GEH             int64\n",
      "D19_BEKLEIDUNG_REST            int64\n",
      "D19_BILDUNG                    int64\n",
      "D19_BIO_OEKO                   int64\n",
      "D19_BUCH_CD                    int64\n",
      "D19_DIGIT_SERV                 int64\n",
      "D19_DROGERIEARTIKEL            int64\n",
      "D19_ENERGIE                    int64\n",
      "D19_FREIZEIT                   int64\n",
      "D19_GARTEN                     int64\n",
      "D19_GESAMT_ANZ_12              int64\n",
      "D19_GESAMT_ANZ_24              int64\n",
      "D19_GESAMT_DATUM               int64\n",
      "D19_GESAMT_OFFLINE_DATUM       int64\n",
      "D19_GESAMT_ONLINE_DATUM        int64\n",
      "D19_GESAMT_ONLINE_QUOTE_12     float64\n",
      "D19_HANDWERK                   int64\n",
      "D19_HAUS_DEKO                  int64\n",
      "D19_KINDERARTIKEL              int64\n",
      "D19_KONSUMTYP                  float64\n",
      "D19_KONSUMTYP_MAX              int64\n",
      "D19_KOSMETIK                   int64\n",
      "D19_LEBENSMITTEL               int64\n",
      "D19_LETZTER_KAUF_BRANCHE       object\n",
      "D19_LOTTO                      float64\n",
      "D19_NAHRUNGSERGAENZUNG         int64\n",
      "D19_RATGEBER                   int64\n",
      "D19_REISEN                     int64\n",
      "D19_SAMMELARTIKEL              int64\n",
      "D19_SCHUHE                     int64\n",
      "D19_SONSTIGE                   int64\n",
      "D19_SOZIALES                   float64\n",
      "D19_TECHNIK                    int64\n",
      "D19_TELKO_ANZ_12               int64\n",
      "D19_TELKO_ANZ_24               int64\n",
      "D19_TELKO_DATUM                int64\n",
      "D19_TELKO_MOBILE               int64\n",
      "D19_TELKO_OFFLINE_DATUM        int64\n",
      "D19_TELKO_ONLINE_DATUM         int64\n",
      "D19_TELKO_ONLINE_QUOTE_12      float64\n",
      "D19_TELKO_REST                 int64\n",
      "D19_TIERARTIKEL                int64\n",
      "D19_VERSAND_ANZ_12             int64\n",
      "D19_VERSAND_ANZ_24             int64\n",
      "D19_VERSAND_DATUM              int64\n",
      "D19_VERSAND_OFFLINE_DATUM      int64\n",
      "D19_VERSAND_ONLINE_DATUM       int64\n",
      "D19_VERSAND_ONLINE_QUOTE_12    float64\n",
      "D19_VERSAND_REST               int64\n",
      "D19_VERSI_ANZ_12               int64\n",
      "D19_VERSI_ANZ_24               int64\n",
      "D19_VERSI_DATUM                int64\n",
      "D19_VERSI_OFFLINE_DATUM        int64\n",
      "D19_VERSI_ONLINE_DATUM         int64\n",
      "D19_VERSI_ONLINE_QUOTE_12      float64\n",
      "D19_VERSICHERUNGEN             int64\n",
      "D19_VOLLSORTIMENT              int64\n",
      "D19_WEIN_FEINKOST              int64\n",
      "DSL_FLAG                       float64\n",
      "EINGEFUEGT_AM                  object\n",
      "EINGEZOGENAM_HH_JAHR           float64\n",
      "EWDICHTE                       float64\n",
      "EXTSEL992                      float64\n",
      "FINANZ_ANLEGER                 int64\n",
      "FINANZ_HAUSBAUER               int64\n",
      "FINANZ_MINIMALIST              int64\n",
      "FINANZ_SPARER                  int64\n",
      "FINANZ_UNAUFFAELLIGER          int64\n",
      "FINANZ_VORSORGER               int64\n",
      "FINANZTYP                      int64\n",
      "FIRMENDICHTE                   float64\n",
      "GEBAEUDETYP                    float64\n",
      "GEBAEUDETYP_RASTER             float64\n",
      "GEBURTSJAHR                    int64\n",
      "GEMEINDETYP                    float64\n",
      "GFK_URLAUBERTYP                float64\n",
      "GREEN_AVANTGARDE               int64\n",
      "HEALTH_TYP                     int64\n",
      "HH_DELTA_FLAG                  float64\n",
      "HH_EINKOMMEN_SCORE             float64\n",
      "INNENSTADT                     float64\n",
      "KBA05_ALTER1                   float64\n",
      "KBA05_ALTER2                   float64\n",
      "KBA05_ALTER3                   float64\n",
      "KBA05_ALTER4                   float64\n",
      "KBA05_ANHANG                   float64\n",
      "KBA05_ANTG1                    float64\n",
      "KBA05_ANTG2                    float64\n",
      "KBA05_ANTG3                    float64\n",
      "KBA05_ANTG4                    float64\n",
      "KBA05_AUTOQUOT                 float64\n",
      "KBA05_BAUMAX                   float64\n",
      "KBA05_CCM1                     float64\n",
      "KBA05_CCM2                     float64\n",
      "KBA05_CCM3                     float64\n",
      "KBA05_CCM4                     float64\n",
      "KBA05_DIESEL                   float64\n",
      "KBA05_FRAU                     float64\n",
      "KBA05_GBZ                      float64\n",
      "KBA05_HERST1                   float64\n",
      "KBA05_HERST2                   float64\n",
      "KBA05_HERST3                   float64\n",
      "KBA05_HERST4                   float64\n",
      "KBA05_HERST5                   float64\n",
      "KBA05_HERSTTEMP                float64\n",
      "KBA05_KRSAQUOT                 float64\n",
      "KBA05_KRSHERST1                float64\n",
      "KBA05_KRSHERST2                float64\n",
      "KBA05_KRSHERST3                float64\n",
      "KBA05_KRSKLEIN                 float64\n",
      "KBA05_KRSOBER                  float64\n",
      "KBA05_KRSVAN                   float64\n",
      "KBA05_KRSZUL                   float64\n",
      "KBA05_KW1                      float64\n",
      "KBA05_KW2                      float64\n",
      "KBA05_KW3                      float64\n",
      "KBA05_MAXAH                    float64\n",
      "KBA05_MAXBJ                    float64\n",
      "KBA05_MAXHERST                 float64\n",
      "KBA05_MAXSEG                   float64\n",
      "KBA05_MAXVORB                  float64\n",
      "KBA05_MOD1                     float64\n",
      "KBA05_MOD2                     float64\n",
      "KBA05_MOD3                     float64\n",
      "KBA05_MOD4                     float64\n",
      "KBA05_MOD8                     float64\n",
      "KBA05_MODTEMP                  float64\n",
      "KBA05_MOTOR                    float64\n",
      "KBA05_MOTRAD                   float64\n",
      "KBA05_SEG1                     float64\n",
      "KBA05_SEG10                    float64\n",
      "KBA05_SEG2                     float64\n",
      "KBA05_SEG3                     float64\n",
      "KBA05_SEG4                     float64\n",
      "KBA05_SEG5                     float64\n",
      "KBA05_SEG6                     float64\n",
      "KBA05_SEG7                     float64\n",
      "KBA05_SEG8                     float64\n",
      "KBA05_SEG9                     float64\n",
      "KBA05_VORB0                    float64\n",
      "KBA05_VORB1                    float64\n",
      "KBA05_VORB2                    float64\n",
      "KBA05_ZUL1                     float64\n",
      "KBA05_ZUL2                     float64\n",
      "KBA05_ZUL3                     float64\n",
      "KBA05_ZUL4                     float64\n",
      "KBA13_ALTERHALTER_30           float64\n",
      "KBA13_ALTERHALTER_45           float64\n",
      "KBA13_ALTERHALTER_60           float64\n",
      "KBA13_ALTERHALTER_61           float64\n",
      "KBA13_ANTG1                    float64\n",
      "KBA13_ANTG2                    float64\n",
      "KBA13_ANTG3                    float64\n",
      "KBA13_ANTG4                    float64\n",
      "KBA13_ANZAHL_PKW               float64\n",
      "KBA13_AUDI                     float64\n",
      "KBA13_AUTOQUOTE                float64\n",
      "KBA13_BAUMAX                   float64\n",
      "KBA13_BJ_1999                  float64\n",
      "KBA13_BJ_2000                  float64\n",
      "KBA13_BJ_2004                  float64\n",
      "KBA13_BJ_2006                  float64\n",
      "KBA13_BJ_2008                  float64\n",
      "KBA13_BJ_2009                  float64\n",
      "KBA13_BMW                      float64\n",
      "KBA13_CCM_0_1400               float64\n",
      "KBA13_CCM_1000                 float64\n",
      "KBA13_CCM_1200                 float64\n",
      "KBA13_CCM_1400                 float64\n",
      "KBA13_CCM_1401_2500            float64\n",
      "KBA13_CCM_1500                 float64\n",
      "KBA13_CCM_1600                 float64\n",
      "KBA13_CCM_1800                 float64\n",
      "KBA13_CCM_2000                 float64\n",
      "KBA13_CCM_2500                 float64\n",
      "KBA13_CCM_2501                 float64\n",
      "KBA13_CCM_3000                 float64\n",
      "KBA13_CCM_3001                 float64\n",
      "KBA13_FAB_ASIEN                float64\n",
      "KBA13_FAB_SONSTIGE             float64\n",
      "KBA13_FIAT                     float64\n",
      "KBA13_FORD                     float64\n",
      "KBA13_GBZ                      float64\n",
      "KBA13_HALTER_20                float64\n",
      "KBA13_HALTER_25                float64\n",
      "KBA13_HALTER_30                float64\n",
      "KBA13_HALTER_35                float64\n",
      "KBA13_HALTER_40                float64\n",
      "KBA13_HALTER_45                float64\n",
      "KBA13_HALTER_50                float64\n",
      "KBA13_HALTER_55                float64\n",
      "KBA13_HALTER_60                float64\n",
      "KBA13_HALTER_65                float64\n",
      "KBA13_HALTER_66                float64\n",
      "KBA13_HERST_ASIEN              float64\n",
      "KBA13_HERST_AUDI_VW            float64\n",
      "KBA13_HERST_BMW_BENZ           float64\n",
      "KBA13_HERST_EUROPA             float64\n",
      "KBA13_HERST_FORD_OPEL          float64\n",
      "KBA13_HERST_SONST              float64\n",
      "KBA13_HHZ                      float64\n",
      "KBA13_KMH_0_140                float64\n",
      "KBA13_KMH_110                  float64\n",
      "KBA13_KMH_140                  float64\n",
      "KBA13_KMH_140_210              float64\n",
      "KBA13_KMH_180                  float64\n",
      "KBA13_KMH_210                  float64\n",
      "KBA13_KMH_211                  float64\n",
      "KBA13_KMH_250                  float64\n",
      "KBA13_KMH_251                  float64\n",
      "KBA13_KRSAQUOT                 float64\n",
      "KBA13_KRSHERST_AUDI_VW         float64\n",
      "KBA13_KRSHERST_BMW_BENZ        float64\n",
      "KBA13_KRSHERST_FORD_OPEL       float64\n",
      "KBA13_KRSSEG_KLEIN             float64\n",
      "KBA13_KRSSEG_OBER              float64\n",
      "KBA13_KRSSEG_VAN               float64\n",
      "KBA13_KRSZUL_NEU               float64\n",
      "KBA13_KW_0_60                  float64\n",
      "KBA13_KW_110                   float64\n",
      "KBA13_KW_120                   float64\n",
      "KBA13_KW_121                   float64\n",
      "KBA13_KW_30                    float64\n",
      "KBA13_KW_40                    float64\n",
      "KBA13_KW_50                    float64\n",
      "KBA13_KW_60                    float64\n",
      "KBA13_KW_61_120                float64\n",
      "KBA13_KW_70                    float64\n",
      "KBA13_KW_80                    float64\n",
      "KBA13_KW_90                    float64\n",
      "KBA13_MAZDA                    float64\n",
      "KBA13_MERCEDES                 float64\n",
      "KBA13_MOTOR                    float64\n",
      "KBA13_NISSAN                   float64\n",
      "KBA13_OPEL                     float64\n",
      "KBA13_PEUGEOT                  float64\n",
      "KBA13_RENAULT                  float64\n",
      "KBA13_SEG_GELAENDEWAGEN        float64\n",
      "KBA13_SEG_GROSSRAUMVANS        float64\n",
      "KBA13_SEG_KLEINST              float64\n",
      "KBA13_SEG_KLEINWAGEN           float64\n",
      "KBA13_SEG_KOMPAKTKLASSE        float64\n",
      "KBA13_SEG_MINIVANS             float64\n",
      "KBA13_SEG_MINIWAGEN            float64\n",
      "KBA13_SEG_MITTELKLASSE         float64\n",
      "KBA13_SEG_OBEREMITTELKLASSE    float64\n",
      "KBA13_SEG_OBERKLASSE           float64\n",
      "KBA13_SEG_SONSTIGE             float64\n",
      "KBA13_SEG_SPORTWAGEN           float64\n",
      "KBA13_SEG_UTILITIES            float64\n",
      "KBA13_SEG_VAN                  float64\n",
      "KBA13_SEG_WOHNMOBILE           float64\n",
      "KBA13_SITZE_4                  float64\n",
      "KBA13_SITZE_5                  float64\n",
      "KBA13_SITZE_6                  float64\n",
      "KBA13_TOYOTA                   float64\n",
      "KBA13_VORB_0                   float64\n",
      "KBA13_VORB_1                   float64\n",
      "KBA13_VORB_1_2                 float64\n",
      "KBA13_VORB_2                   float64\n",
      "KBA13_VORB_3                   float64\n",
      "KBA13_VW                       float64\n",
      "KK_KUNDENTYP                   float64\n",
      "KKK                            float64\n",
      "KOMBIALTER                     int64\n",
      "KONSUMNAEHE                    float64\n",
      "KONSUMZELLE                    float64\n",
      "LP_FAMILIE_FEIN                float64\n",
      "LP_FAMILIE_GROB                float64\n",
      "LP_LEBENSPHASE_FEIN            float64\n",
      "LP_LEBENSPHASE_GROB            float64\n",
      "LP_STATUS_FEIN                 float64\n",
      "LP_STATUS_GROB                 float64\n",
      "MIN_GEBAEUDEJAHR               float64\n",
      "MOBI_RASTER                    float64\n",
      "MOBI_REGIO                     float64\n",
      "NATIONALITAET_KZ               int64\n",
      "ONLINE_AFFINITAET              float64\n",
      "ORTSGR_KLS9                    float64\n",
      "OST_WEST_KZ                    object\n",
      "PLZ8_ANTG1                     float64\n",
      "PLZ8_ANTG2                     float64\n",
      "PLZ8_ANTG3                     float64\n",
      "PLZ8_ANTG4                     float64\n",
      "PLZ8_BAUMAX                    float64\n",
      "PLZ8_GBZ                       float64\n",
      "PLZ8_HHZ                       float64\n",
      "PRAEGENDE_JUGENDJAHRE          int64\n",
      "REGIOTYP                       float64\n",
      "RELAT_AB                       float64\n",
      "RETOURTYP_BK_S                 float64\n",
      "RT_KEIN_ANREIZ                 float64\n",
      "RT_SCHNAEPPCHEN                float64\n",
      "RT_UEBERGROESSE                float64\n",
      "SEMIO_DOM                      int64\n",
      "SEMIO_ERL                      int64\n",
      "SEMIO_FAM                      int64\n",
      "SEMIO_KAEM                     int64\n",
      "SEMIO_KRIT                     int64\n",
      "SEMIO_KULT                     int64\n",
      "SEMIO_LUST                     int64\n",
      "SEMIO_MAT                      int64\n",
      "SEMIO_PFLICHT                  int64\n",
      "SEMIO_RAT                      int64\n",
      "SEMIO_REL                      int64\n",
      "SEMIO_SOZ                      int64\n",
      "SEMIO_TRADV                    int64\n",
      "SEMIO_VERT                     int64\n",
      "SHOPPER_TYP                    int64\n",
      "SOHO_KZ                        float64\n",
      "STRUKTURTYP                    float64\n",
      "TITEL_KZ                       float64\n",
      "UMFELD_ALT                     float64\n",
      "UMFELD_JUNG                    float64\n",
      "UNGLEICHENN_FLAG               float64\n",
      "VERDICHTUNGSRAUM               float64\n",
      "VERS_TYP                       int64\n",
      "VHA                            float64\n",
      "VHN                            float64\n",
      "VK_DHT4A                       float64\n",
      "VK_DISTANZ                     float64\n",
      "VK_ZG11                        float64\n",
      "W_KEIT_KIND_HH                 float64\n",
      "WOHNDAUER_2008                 float64\n",
      "WOHNLAGE                       float64\n",
      "ZABEOTYP                       int64\n",
      "ANREDE_KZ                      int64\n",
      "ALTERSKATEGORIE_GROB           int64\n",
      "dtypes: float64(267), int64(93), object(6)\n",
      "memory usage: 2.4+ GB\n"
     ]
    }
   ],
   "source": [
    "# print the population dataframe general information\n",
    "azdias_orig.info(verbose=True)"
   ]
  },
  {
   "cell_type": "code",
   "execution_count": 10,
   "metadata": {},
   "outputs": [
    {
     "data": {
      "text/plain": [
       "float64    267\n",
       "int64       93\n",
       "object       6\n",
       "dtype: int64"
      ]
     },
     "execution_count": 10,
     "metadata": {},
     "output_type": "execute_result"
    }
   ],
   "source": [
    "# print the population dataframe datatypes counts\n",
    "azdias_orig.dtypes.value_counts()"
   ]
  },
  {
   "cell_type": "code",
   "execution_count": 11,
   "metadata": {},
   "outputs": [
    {
     "data": {
      "text/html": [
       "<div>\n",
       "<style scoped>\n",
       "    .dataframe tbody tr th:only-of-type {\n",
       "        vertical-align: middle;\n",
       "    }\n",
       "\n",
       "    .dataframe tbody tr th {\n",
       "        vertical-align: top;\n",
       "    }\n",
       "\n",
       "    .dataframe thead th {\n",
       "        text-align: right;\n",
       "    }\n",
       "</style>\n",
       "<table border=\"1\" class=\"dataframe\">\n",
       "  <thead>\n",
       "    <tr style=\"text-align: right;\">\n",
       "      <th></th>\n",
       "      <th>CAMEO_DEU_2015</th>\n",
       "      <th>CAMEO_DEUG_2015</th>\n",
       "      <th>CAMEO_INTL_2015</th>\n",
       "      <th>D19_LETZTER_KAUF_BRANCHE</th>\n",
       "      <th>EINGEFUEGT_AM</th>\n",
       "      <th>OST_WEST_KZ</th>\n",
       "    </tr>\n",
       "  </thead>\n",
       "  <tbody>\n",
       "    <tr>\n",
       "      <th>count</th>\n",
       "      <td>792242</td>\n",
       "      <td>792242</td>\n",
       "      <td>792242</td>\n",
       "      <td>634108</td>\n",
       "      <td>798073</td>\n",
       "      <td>798073</td>\n",
       "    </tr>\n",
       "    <tr>\n",
       "      <th>unique</th>\n",
       "      <td>45</td>\n",
       "      <td>19</td>\n",
       "      <td>43</td>\n",
       "      <td>35</td>\n",
       "      <td>5162</td>\n",
       "      <td>2</td>\n",
       "    </tr>\n",
       "    <tr>\n",
       "      <th>top</th>\n",
       "      <td>6B</td>\n",
       "      <td>8</td>\n",
       "      <td>51</td>\n",
       "      <td>D19_UNBEKANNT</td>\n",
       "      <td>1992-02-10 00:00:00</td>\n",
       "      <td>W</td>\n",
       "    </tr>\n",
       "    <tr>\n",
       "      <th>freq</th>\n",
       "      <td>56672</td>\n",
       "      <td>78023</td>\n",
       "      <td>77576</td>\n",
       "      <td>195338</td>\n",
       "      <td>383738</td>\n",
       "      <td>629528</td>\n",
       "    </tr>\n",
       "  </tbody>\n",
       "</table>\n",
       "</div>"
      ],
      "text/plain": [
       "       CAMEO_DEU_2015 CAMEO_DEUG_2015 CAMEO_INTL_2015  \\\n",
       "count          792242          792242          792242   \n",
       "unique             45              19              43   \n",
       "top                6B               8              51   \n",
       "freq            56672           78023           77576   \n",
       "\n",
       "       D19_LETZTER_KAUF_BRANCHE        EINGEFUEGT_AM OST_WEST_KZ  \n",
       "count                    634108               798073      798073  \n",
       "unique                       35                 5162           2  \n",
       "top               D19_UNBEKANNT  1992-02-10 00:00:00           W  \n",
       "freq                     195338               383738      629528  "
      ]
     },
     "execution_count": 11,
     "metadata": {},
     "output_type": "execute_result"
    }
   ],
   "source": [
    "# find out the 'object' columns \n",
    "azdias_orig.loc[:, azdias_orig.dtypes=='object'].describe(include='object')"
   ]
  },
  {
   "cell_type": "code",
   "execution_count": 12,
   "metadata": {},
   "outputs": [
    {
     "data": {
      "text/html": [
       "<div>\n",
       "<style scoped>\n",
       "    .dataframe tbody tr th:only-of-type {\n",
       "        vertical-align: middle;\n",
       "    }\n",
       "\n",
       "    .dataframe tbody tr th {\n",
       "        vertical-align: top;\n",
       "    }\n",
       "\n",
       "    .dataframe thead th {\n",
       "        text-align: right;\n",
       "    }\n",
       "</style>\n",
       "<table border=\"1\" class=\"dataframe\">\n",
       "  <thead>\n",
       "    <tr style=\"text-align: right;\">\n",
       "      <th></th>\n",
       "      <th>CAMEO_DEU_2015</th>\n",
       "      <th>CAMEO_DEUG_2015</th>\n",
       "      <th>CAMEO_INTL_2015</th>\n",
       "      <th>D19_LETZTER_KAUF_BRANCHE</th>\n",
       "      <th>EINGEFUEGT_AM</th>\n",
       "      <th>OST_WEST_KZ</th>\n",
       "    </tr>\n",
       "  </thead>\n",
       "  <tbody>\n",
       "    <tr>\n",
       "      <th>count</th>\n",
       "      <td>792242</td>\n",
       "      <td>792242</td>\n",
       "      <td>792242</td>\n",
       "      <td>634108</td>\n",
       "      <td>798073</td>\n",
       "      <td>798073</td>\n",
       "    </tr>\n",
       "    <tr>\n",
       "      <th>unique</th>\n",
       "      <td>45</td>\n",
       "      <td>19</td>\n",
       "      <td>43</td>\n",
       "      <td>35</td>\n",
       "      <td>5162</td>\n",
       "      <td>2</td>\n",
       "    </tr>\n",
       "    <tr>\n",
       "      <th>top</th>\n",
       "      <td>6B</td>\n",
       "      <td>8</td>\n",
       "      <td>51</td>\n",
       "      <td>D19_UNBEKANNT</td>\n",
       "      <td>1992-02-10 00:00:00</td>\n",
       "      <td>W</td>\n",
       "    </tr>\n",
       "    <tr>\n",
       "      <th>freq</th>\n",
       "      <td>56672</td>\n",
       "      <td>78023</td>\n",
       "      <td>77576</td>\n",
       "      <td>195338</td>\n",
       "      <td>383738</td>\n",
       "      <td>629528</td>\n",
       "    </tr>\n",
       "  </tbody>\n",
       "</table>\n",
       "</div>"
      ],
      "text/plain": [
       "       CAMEO_DEU_2015 CAMEO_DEUG_2015 CAMEO_INTL_2015  \\\n",
       "count          792242          792242          792242   \n",
       "unique             45              19              43   \n",
       "top                6B               8              51   \n",
       "freq            56672           78023           77576   \n",
       "\n",
       "       D19_LETZTER_KAUF_BRANCHE        EINGEFUEGT_AM OST_WEST_KZ  \n",
       "count                    634108               798073      798073  \n",
       "unique                       35                 5162           2  \n",
       "top               D19_UNBEKANNT  1992-02-10 00:00:00           W  \n",
       "freq                     195338               383738      629528  "
      ]
     },
     "execution_count": 12,
     "metadata": {},
     "output_type": "execute_result"
    }
   ],
   "source": [
    "azdias_orig.loc[:, azdias_orig.dtypes=='object'].describe(include='object')"
   ]
  },
  {
   "cell_type": "markdown",
   "metadata": {},
   "source": [
    "## azdias attribute info"
   ]
  },
  {
   "cell_type": "markdown",
   "metadata": {},
   "source": [
    "This file is based on `DIAS Attributes - Values 2017.xlsx`. After looking through all attributes properties, I assign data types, missing values, and whether to convert certain value 10 to 0 for the column."
   ]
  },
  {
   "cell_type": "code",
   "execution_count": 13,
   "metadata": {},
   "outputs": [
    {
     "name": "stdout",
     "output_type": "stream",
     "text": [
      "(366, 5)\n"
     ]
    },
    {
     "data": {
      "text/html": [
       "<div>\n",
       "<style scoped>\n",
       "    .dataframe tbody tr th:only-of-type {\n",
       "        vertical-align: middle;\n",
       "    }\n",
       "\n",
       "    .dataframe tbody tr th {\n",
       "        vertical-align: top;\n",
       "    }\n",
       "\n",
       "    .dataframe thead th {\n",
       "        text-align: right;\n",
       "    }\n",
       "</style>\n",
       "<table border=\"1\" class=\"dataframe\">\n",
       "  <thead>\n",
       "    <tr style=\"text-align: right;\">\n",
       "      <th></th>\n",
       "      <th>attribute</th>\n",
       "      <th>type</th>\n",
       "      <th>missing_or_unknown</th>\n",
       "      <th>information_level</th>\n",
       "      <th>convert_10_to_0</th>\n",
       "    </tr>\n",
       "  </thead>\n",
       "  <tbody>\n",
       "    <tr>\n",
       "      <th>0</th>\n",
       "      <td>AGER_TYP</td>\n",
       "      <td>categorical</td>\n",
       "      <td>[-1,0]</td>\n",
       "      <td>person</td>\n",
       "      <td>NaN</td>\n",
       "    </tr>\n",
       "    <tr>\n",
       "      <th>1</th>\n",
       "      <td>ALTERSKATEGORIE_GROB</td>\n",
       "      <td>ordinal</td>\n",
       "      <td>[-1,0,9]</td>\n",
       "      <td>person</td>\n",
       "      <td>NaN</td>\n",
       "    </tr>\n",
       "    <tr>\n",
       "      <th>2</th>\n",
       "      <td>ALTER_HH</td>\n",
       "      <td>interval</td>\n",
       "      <td>[0]</td>\n",
       "      <td>household</td>\n",
       "      <td>NaN</td>\n",
       "    </tr>\n",
       "    <tr>\n",
       "      <th>3</th>\n",
       "      <td>ANREDE_KZ</td>\n",
       "      <td>categorical</td>\n",
       "      <td>[-1,0]</td>\n",
       "      <td>person</td>\n",
       "      <td>NaN</td>\n",
       "    </tr>\n",
       "    <tr>\n",
       "      <th>4</th>\n",
       "      <td>ANZ_HAUSHALTE_AKTIV</td>\n",
       "      <td>numeric</td>\n",
       "      <td>[]</td>\n",
       "      <td>building</td>\n",
       "      <td>NaN</td>\n",
       "    </tr>\n",
       "    <tr>\n",
       "      <th>5</th>\n",
       "      <td>ANZ_HH_TITEL</td>\n",
       "      <td>numeric</td>\n",
       "      <td>[]</td>\n",
       "      <td>building</td>\n",
       "      <td>NaN</td>\n",
       "    </tr>\n",
       "    <tr>\n",
       "      <th>6</th>\n",
       "      <td>ANZ_PERSONEN</td>\n",
       "      <td>numeric</td>\n",
       "      <td>[]</td>\n",
       "      <td>household</td>\n",
       "      <td>NaN</td>\n",
       "    </tr>\n",
       "    <tr>\n",
       "      <th>7</th>\n",
       "      <td>ANZ_TITEL</td>\n",
       "      <td>numeric</td>\n",
       "      <td>[]</td>\n",
       "      <td>household</td>\n",
       "      <td>NaN</td>\n",
       "    </tr>\n",
       "    <tr>\n",
       "      <th>8</th>\n",
       "      <td>BALLRAUM</td>\n",
       "      <td>ordinal</td>\n",
       "      <td>[-1]</td>\n",
       "      <td>postcode</td>\n",
       "      <td>NaN</td>\n",
       "    </tr>\n",
       "    <tr>\n",
       "      <th>9</th>\n",
       "      <td>CAMEO_DEUG_2015</td>\n",
       "      <td>categorical</td>\n",
       "      <td>[-1,X]</td>\n",
       "      <td>microcell_rr4</td>\n",
       "      <td>NaN</td>\n",
       "    </tr>\n",
       "  </tbody>\n",
       "</table>\n",
       "</div>"
      ],
      "text/plain": [
       "              attribute         type missing_or_unknown information_level  \\\n",
       "0              AGER_TYP  categorical             [-1,0]            person   \n",
       "1  ALTERSKATEGORIE_GROB      ordinal           [-1,0,9]            person   \n",
       "2              ALTER_HH     interval                [0]         household   \n",
       "3             ANREDE_KZ  categorical             [-1,0]            person   \n",
       "4   ANZ_HAUSHALTE_AKTIV      numeric                 []          building   \n",
       "5          ANZ_HH_TITEL      numeric                 []          building   \n",
       "6          ANZ_PERSONEN      numeric                 []         household   \n",
       "7             ANZ_TITEL      numeric                 []         household   \n",
       "8              BALLRAUM      ordinal               [-1]          postcode   \n",
       "9       CAMEO_DEUG_2015  categorical             [-1,X]     microcell_rr4   \n",
       "\n",
       "   convert_10_to_0  \n",
       "0              NaN  \n",
       "1              NaN  \n",
       "2              NaN  \n",
       "3              NaN  \n",
       "4              NaN  \n",
       "5              NaN  \n",
       "6              NaN  \n",
       "7              NaN  \n",
       "8              NaN  \n",
       "9              NaN  "
      ]
     },
     "execution_count": 13,
     "metadata": {},
     "output_type": "execute_result"
    }
   ],
   "source": [
    "print (azdias_attribute_info.shape)\n",
    "azdias_attribute_info.head(10)"
   ]
  },
  {
   "cell_type": "code",
   "execution_count": 14,
   "metadata": {},
   "outputs": [
    {
     "data": {
      "text/plain": [
       "ordinal        285\n",
       "categorical     52\n",
       "numeric         19\n",
       "mixed            7\n",
       "onehot           1\n",
       "interval         1\n",
       "binary           1\n",
       "Name: type, dtype: int64"
      ]
     },
     "execution_count": 14,
     "metadata": {},
     "output_type": "execute_result"
    }
   ],
   "source": [
    "azdias_attribute_info.type.value_counts()"
   ]
  },
  {
   "cell_type": "code",
   "execution_count": 15,
   "metadata": {},
   "outputs": [],
   "source": [
    "# record all columns where 10 needs to be converted to 0\n",
    "convert_10_to_0_list = list(azdias_attribute_info[azdias_attribute_info.convert_10_to_0==1].attribute.values)"
   ]
  },
  {
   "cell_type": "code",
   "execution_count": 16,
   "metadata": {},
   "outputs": [
    {
     "name": "stdout",
     "output_type": "stream",
     "text": [
      "There are 366 attributes info included\n"
     ]
    }
   ],
   "source": [
    "# attribute names which are included in DIAS Attributes - Values 2017.xlsx\n",
    "azdias_attribute_info_names = list(azdias_attribute_info.attribute.values)\n",
    "print(f'There are {len(azdias_attribute_info_names)} attributes info included')"
   ]
  },
  {
   "cell_type": "code",
   "execution_count": 17,
   "metadata": {},
   "outputs": [
    {
     "name": "stdout",
     "output_type": "stream",
     "text": [
      "There are 366 columns\n"
     ]
    }
   ],
   "source": [
    "# column names in original azdias files\n",
    "azdias_column_names = list(azdias_orig.columns)\n",
    "print(f'There are {len(azdias_column_names)} columns')"
   ]
  },
  {
   "cell_type": "code",
   "execution_count": 18,
   "metadata": {},
   "outputs": [
    {
     "name": "stdout",
     "output_type": "stream",
     "text": [
      "There are 3 columns missing in the info file, and they are ['LNR', 'EINGEFUEGT_AM', 'KK_KUNDENTYP']\n"
     ]
    }
   ],
   "source": [
    "# find out the three columns which are note included in the attribute info file\n",
    "azdias_column_names_missing = [name for name in azdias_column_names if name not in azdias_attribute_info_names]\n",
    "print(f'There are {len(azdias_column_names_missing)} columns missing in the info file, and they are {azdias_column_names_missing}')"
   ]
  },
  {
   "cell_type": "code",
   "execution_count": 19,
   "metadata": {},
   "outputs": [
    {
     "name": "stdout",
     "output_type": "stream",
     "text": [
      "There are 363 columns left\n"
     ]
    }
   ],
   "source": [
    "# remove ['LNR', 'EINGEFUEGT_AM', 'KK_KUNDENTYP']\n",
    "azdias_orig.drop(azdias_column_names_missing, axis=1, inplace=True)\n",
    "print(f'There are {azdias_orig.shape[1]} columns left')"
   ]
  },
  {
   "cell_type": "markdown",
   "metadata": {},
   "source": [
    "Drop these three columns for all dataframes"
   ]
  },
  {
   "cell_type": "code",
   "execution_count": 20,
   "metadata": {},
   "outputs": [
    {
     "name": "stdout",
     "output_type": "stream",
     "text": [
      "There are 369 columns\n",
      "There are 367 columns\n",
      "There are 366 columns\n",
      "There are 366 columns left\n",
      "There are 364 columns left\n",
      "There are 363 columns left\n"
     ]
    }
   ],
   "source": [
    "print(f'There are {customers_orig.shape[1]} columns')\n",
    "print(f'There are {mailout_train.shape[1]} columns')\n",
    "print(f'There are {mailout_test.shape[1]} columns')\n",
    "customers_orig.drop(azdias_column_names_missing, axis=1, inplace=True)\n",
    "mailout_train.drop(azdias_column_names_missing, axis=1, inplace=True)\n",
    "mailout_test.drop(azdias_column_names_missing, axis=1, inplace=True)\n",
    "print(f'There are {customers_orig.shape[1]} columns left')\n",
    "print(f'There are {mailout_train.shape[1]} columns left')\n",
    "print(f'There are {mailout_test.shape[1]} columns left')"
   ]
  },
  {
   "cell_type": "markdown",
   "metadata": {},
   "source": [
    "## Part 0-1: Data Processing"
   ]
  },
  {
   "cell_type": "markdown",
   "metadata": {},
   "source": [
    "## process missing data"
   ]
  },
  {
   "cell_type": "code",
   "execution_count": 21,
   "metadata": {},
   "outputs": [
    {
     "name": "stdout",
     "output_type": "stream",
     "text": [
      "ALTER_KIND4               0.998648\n",
      "ALTER_KIND3               0.993077\n",
      "ALTER_KIND2               0.966900\n",
      "ALTER_KIND1               0.909048\n",
      "EXTSEL992                 0.733996\n",
      "                            ...   \n",
      "D19_VERSI_ONLINE_DATUM    0.000000\n",
      "D19_VERSICHERUNGEN        0.000000\n",
      "D19_VOLLSORTIMENT         0.000000\n",
      "D19_WEIN_FEINKOST         0.000000\n",
      "AGER_TYP                  0.000000\n",
      "Length: 363, dtype: float64\n"
     ]
    },
    {
     "data": {
      "image/png": "[encoded data removed]",
      "text/plain": [
       "<Figure size 720x432 with 1 Axes>"
      ]
     },
     "metadata": {
      "needs_background": "light"
     },
     "output_type": "display_data"
    }
   ],
   "source": [
    "# check missing value fractions for each column\n",
    "nan_num_frac = azdias_orig.isnull().mean()\n",
    "print (nan_num_frac.sort_values(ascending=False))\n",
    "nan_num_frac.sort_values().plot(kind='hist', bins=15, figsize=(10, 6))\n",
    "plt.title('Original Missing Value Fraction Histogram')\n",
    "plt.savefig('./outputs/orig_missing_value_hist.png')"
   ]
  },
  {
   "cell_type": "code",
   "execution_count": 22,
   "metadata": {},
   "outputs": [],
   "source": [
    "# Define Class ProcessMissingValues which replace all missing values with np.nan \n",
    "class ProcessMissingValues(BaseEstimator, TransformerMixin):\n",
    "    def __init__(self, attr_info):\n",
    "        self.map = {}\n",
    "        for i in range(len(attr_info)):\n",
    "            missing_str = attr_info.missing_or_unknown[i]\n",
    "            missing_list = missing_str.strip('[]').split(',')\n",
    "            missing_list = [item for item in missing_list if item]\n",
    "            for j in range(len(missing_list)):\n",
    "                try:\n",
    "                    num = int(missing_list[j])\n",
    "                    missing_list.append(num)\n",
    "                except:\n",
    "                    continue\n",
    "            self.map[attr_info.attribute[i]] = missing_list\n",
    "\n",
    "    \n",
    "    def fit(self, X, y=None):\n",
    "        return self\n",
    "    \n",
    "    def transform(self, X, y=None):\n",
    "        X = X.copy()\n",
    "        X_columns = list(X.columns)\n",
    "        for col_name in self.map:\n",
    "            if col_name in X_columns:\n",
    "                print (f'replacing {col_name} missing values ... ')\n",
    "                for item in self.map[col_name]:\n",
    "                    X.loc[X[col_name]==item, col_name]=np.nan\n",
    "        return X"
   ]
  },
  {
   "cell_type": "code",
   "execution_count": 23,
   "metadata": {
    "scrolled": false
   },
   "outputs": [
    {
     "name": "stdout",
     "output_type": "stream",
     "text": [
      "replacing AGER_TYP missing values ... \n"
     ]
    },
    {
     "name": "stderr",
     "output_type": "stream",
     "text": [
      "C:\\Miniconda3\\lib\\site-packages\\pandas\\core\\ops\\__init__.py:1115: FutureWarning: elementwise comparison failed; returning scalar instead, but in the future will perform elementwise comparison\n",
      "  result = method(y)\n"
     ]
    },
    {
     "name": "stdout",
     "output_type": "stream",
     "text": [
      "replacing ALTERSKATEGORIE_GROB missing values ... \n",
      "replacing ALTER_HH missing values ... \n",
      "replacing ANREDE_KZ missing values ... \n",
      "replacing ANZ_HAUSHALTE_AKTIV missing values ... \n",
      "replacing ANZ_HH_TITEL missing values ... \n",
      "replacing ANZ_PERSONEN missing values ... \n",
      "replacing ANZ_TITEL missing values ... \n",
      "replacing BALLRAUM missing values ... \n",
      "replacing CAMEO_DEUG_2015 missing values ... \n",
      "replacing CAMEO_DEU_2015 missing values ... \n",
      "replacing CAMEO_INTL_2015 missing values ... \n",
      "replacing CJT_GESAMTTYP missing values ... \n",
      "replacing D19_BANKEN_ANZ_12 missing values ... \n",
      "replacing D19_BANKEN_ANZ_24 missing values ... \n",
      "replacing D19_BANKEN_DATUM missing values ... \n",
      "replacing D19_BANKEN_DIREKT missing values ... \n",
      "replacing D19_BANKEN_GROSS missing values ... \n",
      "replacing D19_BANKEN_LOKAL missing values ... \n",
      "replacing D19_BANKEN_OFFLINE_DATUM missing values ... \n",
      "replacing D19_BANKEN_ONLINE_DATUM missing values ... \n",
      "replacing D19_BANKEN_ONLINE_QUOTE_12 missing values ... \n",
      "replacing D19_BANKEN_REST missing values ... \n",
      "replacing D19_BEKLEIDUNG_GEH missing values ... \n",
      "replacing D19_BEKLEIDUNG_REST missing values ... \n",
      "replacing D19_BILDUNG missing values ... \n",
      "replacing D19_BIO_OEKO missing values ... \n",
      "replacing D19_BUCH_CD missing values ... \n",
      "replacing D19_DIGIT_SERV missing values ... \n",
      "replacing D19_DROGERIEARTIKEL missing values ... \n",
      "replacing D19_ENERGIE missing values ... \n",
      "replacing D19_FREIZEIT missing values ... \n",
      "replacing D19_GARTEN missing values ... \n",
      "replacing D19_GESAMT_ANZ_12 missing values ... \n",
      "replacing D19_GESAMT_ANZ_24 missing values ... \n",
      "replacing D19_GESAMT_DATUM missing values ... \n",
      "replacing D19_GESAMT_OFFLINE_DATUM missing values ... \n",
      "replacing D19_GESAMT_ONLINE_DATUM missing values ... \n",
      "replacing D19_GESAMT_ONLINE_QUOTE_12 missing values ... \n",
      "replacing D19_HANDWERK missing values ... \n",
      "replacing D19_HAUS_DEKO missing values ... \n",
      "replacing D19_KINDERARTIKEL missing values ... \n",
      "replacing D19_KONSUMTYP missing values ... \n",
      "replacing D19_KOSMETIK missing values ... \n",
      "replacing D19_LEBENSMITTEL missing values ... \n",
      "replacing D19_LOTTO missing values ... \n",
      "replacing D19_NAHRUNGSERGAENZUNG missing values ... \n",
      "replacing D19_RATGEBER missing values ... \n",
      "replacing D19_REISEN missing values ... \n",
      "replacing D19_SAMMELARTIKEL missing values ... \n",
      "replacing D19_SCHUHE missing values ... \n",
      "replacing D19_SONSTIGE missing values ... \n",
      "replacing D19_TECHNIK missing values ... \n",
      "replacing D19_TELKO_ANZ_12 missing values ... \n",
      "replacing D19_TELKO_ANZ_24 missing values ... \n",
      "replacing D19_TELKO_DATUM missing values ... \n",
      "replacing D19_TELKO_MOBILE missing values ... \n",
      "replacing D19_TELKO_OFFLINE_DATUM missing values ... \n",
      "replacing D19_TELKO_ONLINE_DATUM missing values ... \n",
      "replacing D19_TELKO_REST missing values ... \n",
      "replacing D19_TIERARTIKEL missing values ... \n",
      "replacing D19_VERSAND_ANZ_12 missing values ... \n",
      "replacing D19_VERSAND_ANZ_24 missing values ... \n",
      "replacing D19_VERSAND_DATUM missing values ... \n",
      "replacing D19_VERSAND_OFFLINE_DATUM missing values ... \n",
      "replacing D19_VERSAND_ONLINE_DATUM missing values ... \n",
      "replacing D19_VERSAND_ONLINE_QUOTE_12 missing values ... \n",
      "replacing D19_VERSAND_REST missing values ... \n",
      "replacing D19_VERSICHERUNGEN missing values ... \n",
      "replacing D19_VERSI_ANZ_12 missing values ... \n",
      "replacing D19_VERSI_ANZ_24 missing values ... \n",
      "replacing D19_VOLLSORTIMENT missing values ... \n",
      "replacing D19_WEIN_FEINKOST missing values ... \n",
      "replacing EWDICHTE missing values ... \n",
      "replacing FINANZTYP missing values ... \n",
      "replacing FINANZ_ANLEGER missing values ... \n",
      "replacing FINANZ_HAUSBAUER missing values ... \n",
      "replacing FINANZ_MINIMALIST missing values ... \n",
      "replacing FINANZ_SPARER missing values ... \n",
      "replacing FINANZ_UNAUFFAELLIGER missing values ... \n",
      "replacing FINANZ_VORSORGER missing values ... \n",
      "replacing GEBAEUDETYP missing values ... \n",
      "replacing GEBAEUDETYP_RASTER missing values ... \n",
      "replacing GEBURTSJAHR missing values ... \n",
      "replacing GFK_URLAUBERTYP missing values ... \n",
      "replacing GREEN_AVANTGARDE missing values ... \n",
      "replacing HEALTH_TYP missing values ... \n",
      "replacing HH_EINKOMMEN_SCORE missing values ... \n",
      "replacing INNENSTADT missing values ... \n",
      "replacing KBA05_ALTER1 missing values ... \n",
      "replacing KBA05_ALTER2 missing values ... \n",
      "replacing KBA05_ALTER3 missing values ... \n",
      "replacing KBA05_ALTER4 missing values ... \n",
      "replacing KBA05_ANHANG missing values ... \n",
      "replacing KBA05_ANTG1 missing values ... \n",
      "replacing KBA05_ANTG2 missing values ... \n",
      "replacing KBA05_ANTG3 missing values ... \n",
      "replacing KBA05_ANTG4 missing values ... \n",
      "replacing KBA05_AUTOQUOT missing values ... \n",
      "replacing KBA05_BAUMAX missing values ... \n",
      "replacing KBA05_CCM1 missing values ... \n",
      "replacing KBA05_CCM2 missing values ... \n",
      "replacing KBA05_CCM3 missing values ... \n",
      "replacing KBA05_CCM4 missing values ... \n",
      "replacing KBA05_DIESEL missing values ... \n",
      "replacing KBA05_FRAU missing values ... \n",
      "replacing KBA05_GBZ missing values ... \n",
      "replacing KBA05_HERST1 missing values ... \n",
      "replacing KBA05_HERST2 missing values ... \n",
      "replacing KBA05_HERST3 missing values ... \n",
      "replacing KBA05_HERST4 missing values ... \n",
      "replacing KBA05_HERST5 missing values ... \n",
      "replacing KBA05_HERSTTEMP missing values ... \n",
      "replacing KBA05_KRSAQUOT missing values ... \n",
      "replacing KBA05_KRSHERST1 missing values ... \n",
      "replacing KBA05_KRSHERST2 missing values ... \n",
      "replacing KBA05_KRSHERST3 missing values ... \n",
      "replacing KBA05_KRSKLEIN missing values ... \n",
      "replacing KBA05_KRSOBER missing values ... \n",
      "replacing KBA05_KRSVAN missing values ... \n",
      "replacing KBA05_KRSZUL missing values ... \n",
      "replacing KBA05_KW1 missing values ... \n",
      "replacing KBA05_KW2 missing values ... \n",
      "replacing KBA05_KW3 missing values ... \n",
      "replacing KBA05_MAXAH missing values ... \n",
      "replacing KBA05_MAXBJ missing values ... \n",
      "replacing KBA05_MAXHERST missing values ... \n",
      "replacing KBA05_MAXSEG missing values ... \n",
      "replacing KBA05_MAXVORB missing values ... \n",
      "replacing KBA05_MOD1 missing values ... \n",
      "replacing KBA05_MOD2 missing values ... \n",
      "replacing KBA05_MOD3 missing values ... \n",
      "replacing KBA05_MOD4 missing values ... \n",
      "replacing KBA05_MOD8 missing values ... \n",
      "replacing KBA05_MODTEMP missing values ... \n",
      "replacing KBA05_MOTOR missing values ... \n",
      "replacing KBA05_MOTRAD missing values ... \n",
      "replacing KBA05_SEG1 missing values ... \n",
      "replacing KBA05_SEG10 missing values ... \n",
      "replacing KBA05_SEG2 missing values ... \n",
      "replacing KBA05_SEG3 missing values ... \n",
      "replacing KBA05_SEG4 missing values ... \n",
      "replacing KBA05_SEG5 missing values ... \n",
      "replacing KBA05_SEG6 missing values ... \n",
      "replacing KBA05_SEG7 missing values ... \n",
      "replacing KBA05_SEG8 missing values ... \n",
      "replacing KBA05_SEG9 missing values ... \n",
      "replacing KBA05_VORB0 missing values ... \n",
      "replacing KBA05_VORB1 missing values ... \n",
      "replacing KBA05_VORB2 missing values ... \n",
      "replacing KBA05_ZUL1 missing values ... \n",
      "replacing KBA05_ZUL2 missing values ... \n",
      "replacing KBA05_ZUL3 missing values ... \n",
      "replacing KBA05_ZUL4 missing values ... \n",
      "replacing KBA13_ALTERHALTER_30 missing values ... \n",
      "replacing KBA13_ALTERHALTER_45 missing values ... \n",
      "replacing KBA13_ALTERHALTER_60 missing values ... \n",
      "replacing KBA13_ALTERHALTER_61 missing values ... \n",
      "replacing KBA13_ANZAHL_PKW missing values ... \n",
      "replacing KBA13_AUDI missing values ... \n",
      "replacing KBA13_AUTOQUOTE missing values ... \n",
      "replacing KBA13_BJ_1999 missing values ... \n",
      "replacing KBA13_BJ_2000 missing values ... \n",
      "replacing KBA13_BJ_2004 missing values ... \n",
      "replacing KBA13_BJ_2006 missing values ... \n",
      "replacing KBA13_BJ_2008 missing values ... \n",
      "replacing KBA13_BJ_2009 missing values ... \n",
      "replacing KBA13_BMW missing values ... \n",
      "replacing KBA13_CCM_1000 missing values ... \n",
      "replacing KBA13_CCM_1200 missing values ... \n",
      "replacing KBA13_CCM_1400 missing values ... \n",
      "replacing KBA13_CCM_0_1400 missing values ... \n",
      "replacing KBA13_CCM_1500 missing values ... \n",
      "replacing KBA13_CCM_1600 missing values ... \n",
      "replacing KBA13_CCM_1800 missing values ... \n",
      "replacing KBA13_CCM_2000 missing values ... \n",
      "replacing KBA13_CCM_2500 missing values ... \n",
      "replacing KBA13_CCM_2501 missing values ... \n",
      "replacing KBA13_CCM_3000 missing values ... \n",
      "replacing KBA13_CCM_3001 missing values ... \n",
      "replacing KBA13_FAB_ASIEN missing values ... \n",
      "replacing KBA13_FAB_SONSTIGE missing values ... \n",
      "replacing KBA13_FIAT missing values ... \n",
      "replacing KBA13_FORD missing values ... \n",
      "replacing KBA13_HALTER_20 missing values ... \n",
      "replacing KBA13_HALTER_25 missing values ... \n",
      "replacing KBA13_HALTER_30 missing values ... \n",
      "replacing KBA13_HALTER_35 missing values ... \n",
      "replacing KBA13_HALTER_40 missing values ... \n",
      "replacing KBA13_HALTER_45 missing values ... \n"
     ]
    },
    {
     "name": "stdout",
     "output_type": "stream",
     "text": [
      "replacing KBA13_HALTER_50 missing values ... \n",
      "replacing KBA13_HALTER_55 missing values ... \n",
      "replacing KBA13_HALTER_60 missing values ... \n",
      "replacing KBA13_HALTER_65 missing values ... \n",
      "replacing KBA13_HALTER_66 missing values ... \n",
      "replacing KBA13_HERST_ASIEN missing values ... \n",
      "replacing KBA13_HERST_AUDI_VW missing values ... \n",
      "replacing KBA13_HERST_BMW_BENZ missing values ... \n",
      "replacing KBA13_HERST_EUROPA missing values ... \n",
      "replacing KBA13_HERST_FORD_OPEL missing values ... \n",
      "replacing KBA13_HERST_SONST missing values ... \n",
      "replacing KBA13_KMH_110 missing values ... \n",
      "replacing KBA13_KMH_140 missing values ... \n",
      "replacing KBA13_KMH_180 missing values ... \n",
      "replacing KBA13_KMH_0_140 missing values ... \n",
      "replacing KBA13_KMH_140_210 missing values ... \n",
      "replacing KBA13_KMH_211 missing values ... \n",
      "replacing KBA13_KMH_250 missing values ... \n",
      "replacing KBA13_KMH_251 missing values ... \n",
      "replacing KBA13_KRSAQUOT missing values ... \n",
      "replacing KBA13_KRSHERST_AUDI_VW missing values ... \n",
      "replacing KBA13_KRSHERST_BMW_BENZ missing values ... \n",
      "replacing KBA13_KRSHERST_FORD_OPEL missing values ... \n",
      "replacing KBA13_KRSSEG_KLEIN missing values ... \n",
      "replacing KBA13_KRSSEG_OBER missing values ... \n",
      "replacing KBA13_KRSSEG_VAN missing values ... \n",
      "replacing KBA13_KRSZUL_NEU missing values ... \n",
      "replacing KBA13_KW_30 missing values ... \n",
      "replacing KBA13_KW_40 missing values ... \n",
      "replacing KBA13_KW_50 missing values ... \n",
      "replacing KBA13_KW_60 missing values ... \n",
      "replacing KBA13_KW_0_60 missing values ... \n",
      "replacing KBA13_KW_70 missing values ... \n",
      "replacing KBA13_KW_61_120 missing values ... \n",
      "replacing KBA13_KW_80 missing values ... \n",
      "replacing KBA13_KW_90 missing values ... \n",
      "replacing KBA13_KW_110 missing values ... \n",
      "replacing KBA13_KW_120 missing values ... \n",
      "replacing KBA13_KW_121 missing values ... \n",
      "replacing KBA13_MAZDA missing values ... \n",
      "replacing KBA13_MERCEDES missing values ... \n",
      "replacing KBA13_MOTOR missing values ... \n",
      "replacing KBA13_NISSAN missing values ... \n",
      "replacing KBA13_OPEL missing values ... \n",
      "replacing KBA13_PEUGEOT missing values ... \n",
      "replacing KBA13_RENAULT missing values ... \n",
      "replacing KBA13_SEG_GELAENDEWAGEN missing values ... \n",
      "replacing KBA13_SEG_GROSSRAUMVANS missing values ... \n",
      "replacing KBA13_SEG_KLEINST missing values ... \n",
      "replacing KBA13_SEG_KLEINWAGEN missing values ... \n",
      "replacing KBA13_SEG_KOMPAKTKLASSE missing values ... \n",
      "replacing KBA13_SEG_MINIVANS missing values ... \n",
      "replacing KBA13_SEG_MINIWAGEN missing values ... \n",
      "replacing KBA13_SEG_MITTELKLASSE missing values ... \n",
      "replacing KBA13_SEG_OBEREMITTELKLASSE missing values ... \n",
      "replacing KBA13_SEG_OBERKLASSE missing values ... \n",
      "replacing KBA13_SEG_SONSTIGE missing values ... \n",
      "replacing KBA13_SEG_SPORTWAGEN missing values ... \n",
      "replacing KBA13_SEG_UTILITIES missing values ... \n",
      "replacing KBA13_SEG_VAN missing values ... \n",
      "replacing KBA13_SEG_WOHNMOBILE missing values ... \n",
      "replacing KBA13_SITZE_4 missing values ... \n",
      "replacing KBA13_SITZE_5 missing values ... \n",
      "replacing KBA13_SITZE_6 missing values ... \n",
      "replacing KBA13_TOYOTA missing values ... \n",
      "replacing KBA13_VORB_0 missing values ... \n",
      "replacing KBA13_VORB_1 missing values ... \n",
      "replacing KBA13_VORB_1_2 missing values ... \n",
      "replacing KBA13_VORB_2 missing values ... \n",
      "replacing KBA13_VORB_3 missing values ... \n",
      "replacing KBA13_VW missing values ... \n",
      "replacing KKK missing values ... \n",
      "replacing KONSUMNAEHE missing values ... \n",
      "replacing LP_FAMILIE_FEIN missing values ... \n",
      "replacing LP_FAMILIE_GROB missing values ... \n",
      "replacing LP_LEBENSPHASE_FEIN missing values ... \n",
      "replacing LP_LEBENSPHASE_GROB missing values ... \n",
      "replacing LP_STATUS_FEIN missing values ... \n",
      "replacing LP_STATUS_GROB missing values ... \n",
      "replacing MIN_GEBAEUDEJAHR missing values ... \n",
      "replacing MOBI_REGIO missing values ... \n",
      "replacing NATIONALITAET_KZ missing values ... \n",
      "replacing ONLINE_AFFINITAET missing values ... \n",
      "replacing ORTSGR_KLS9 missing values ... \n",
      "replacing OST_WEST_KZ missing values ... \n",
      "replacing PLZ8_ANTG1 missing values ... \n",
      "replacing PLZ8_ANTG2 missing values ... \n",
      "replacing PLZ8_ANTG3 missing values ... \n",
      "replacing PLZ8_ANTG4 missing values ... \n",
      "replacing PLZ8_BAUMAX missing values ... \n",
      "replacing PLZ8_GBZ missing values ... \n",
      "replacing PLZ8_HHZ missing values ... \n",
      "replacing PRAEGENDE_JUGENDJAHRE missing values ... \n",
      "replacing REGIOTYP missing values ... \n",
      "replacing RELAT_AB missing values ... \n",
      "replacing RETOURTYP_BK_S missing values ... \n",
      "replacing SEMIO_DOM missing values ... \n",
      "replacing SEMIO_ERL missing values ... \n",
      "replacing SEMIO_FAM missing values ... \n",
      "replacing SEMIO_KAEM missing values ... \n",
      "replacing SEMIO_KRIT missing values ... \n",
      "replacing SEMIO_KULT missing values ... \n",
      "replacing SEMIO_LUST missing values ... \n",
      "replacing SEMIO_MAT missing values ... \n",
      "replacing SEMIO_PFLICHT missing values ... \n",
      "replacing SEMIO_RAT missing values ... \n",
      "replacing SEMIO_REL missing values ... \n",
      "replacing SEMIO_SOZ missing values ... \n",
      "replacing SEMIO_TRADV missing values ... \n",
      "replacing SEMIO_VERT missing values ... \n",
      "replacing SHOPPER_TYP missing values ... \n",
      "replacing SOHO_KZ missing values ... \n",
      "replacing TITEL_KZ missing values ... \n",
      "replacing VERS_TYP missing values ... \n",
      "replacing WOHNDAUER_2008 missing values ... \n",
      "replacing WOHNLAGE missing values ... \n",
      "replacing W_KEIT_KIND_HH missing values ... \n",
      "replacing ZABEOTYP missing values ... \n",
      "replacing ARBEIT missing values ... \n",
      "replacing AKT_DAT_KL missing values ... \n",
      "replacing ALTERSKATEGORIE_FEIN missing values ... \n",
      "replacing ALTER_KIND1 missing values ... \n",
      "replacing ALTER_KIND2 missing values ... \n",
      "replacing ALTER_KIND3 missing values ... \n",
      "replacing ALTER_KIND4 missing values ... \n",
      "replacing ANZ_KINDER missing values ... \n",
      "replacing ANZ_STATISTISCHE_HAUSHALTE missing values ... \n",
      "replacing CJT_KATALOGNUTZER missing values ... \n",
      "replacing CJT_TYP_1 missing values ... \n",
      "replacing CJT_TYP_2 missing values ... \n",
      "replacing CJT_TYP_3 missing values ... \n",
      "replacing CJT_TYP_4 missing values ... \n",
      "replacing CJT_TYP_5 missing values ... \n",
      "replacing CJT_TYP_6 missing values ... \n",
      "replacing D19_KONSUMTYP_MAX missing values ... \n",
      "replacing D19_SOZIALES missing values ... \n",
      "replacing D19_TELKO_ONLINE_QUOTE_12 missing values ... \n",
      "replacing D19_VERSI_DATUM missing values ... \n",
      "replacing D19_VERSI_OFFLINE_DATUM missing values ... \n",
      "replacing D19_VERSI_ONLINE_DATUM missing values ... \n",
      "replacing D19_VERSI_ONLINE_QUOTE_12 missing values ... \n",
      "replacing DSL_FLAG missing values ... \n",
      "replacing EINGEZOGENAM_HH_JAHR missing values ... \n",
      "replacing EXTSEL992 missing values ... \n",
      "replacing FIRMENDICHTE missing values ... \n",
      "replacing HH_DELTA_FLAG missing values ... \n",
      "replacing KBA13_ANTG1 missing values ... \n",
      "replacing KBA13_ANTG2 missing values ... \n",
      "replacing KBA13_ANTG3 missing values ... \n",
      "replacing KBA13_ANTG4 missing values ... \n",
      "replacing KBA13_CCM_1401_2500 missing values ... \n",
      "replacing KBA13_GBZ missing values ... \n",
      "replacing KBA13_HHZ missing values ... \n",
      "replacing KBA13_KMH_210 missing values ... \n",
      "replacing KOMBIALTER missing values ... \n",
      "replacing KONSUMZELLE missing values ... \n",
      "replacing MOBI_RASTER missing values ... \n",
      "replacing RT_KEIN_ANREIZ missing values ... \n",
      "replacing RT_SCHNAEPPCHEN missing values ... \n",
      "replacing RT_UEBERGROESSE missing values ... \n",
      "replacing STRUKTURTYP missing values ... \n",
      "replacing UMFELD_ALT missing values ... \n",
      "replacing UMFELD_JUNG missing values ... \n",
      "replacing UNGLEICHENN_FLAG missing values ... \n",
      "replacing VERDICHTUNGSRAUM missing values ... \n",
      "replacing VHA missing values ... \n",
      "replacing VHN missing values ... \n",
      "replacing VK_DHT4A missing values ... \n",
      "replacing VK_DISTANZ missing values ... \n",
      "replacing VK_ZG11 missing values ... \n",
      "replacing KBA13_BAUMAX missing values ... \n",
      "replacing GEMEINDETYP missing values ... \n",
      "replacing D19_LETZTER_KAUF_BRANCHE missing values ... \n"
     ]
    }
   ],
   "source": [
    "# this step takes long to finish, the process results will be saved to a csv file \n",
    "process_missing_value = ProcessMissingValues(attr_info=azdias_attribute_info)\n",
    "azdias_nan = process_missing_value.fit_transform(azdias_orig)"
   ]
  },
  {
   "cell_type": "code",
   "execution_count": 24,
   "metadata": {
    "scrolled": false
   },
   "outputs": [
    {
     "name": "stdout",
     "output_type": "stream",
     "text": [
      "replacing AGER_TYP missing values ... \n",
      "replacing ALTERSKATEGORIE_GROB missing values ... \n",
      "replacing ALTER_HH missing values ... \n",
      "replacing ANREDE_KZ missing values ... \n",
      "replacing ANZ_HAUSHALTE_AKTIV missing values ... \n",
      "replacing ANZ_HH_TITEL missing values ... \n",
      "replacing ANZ_PERSONEN missing values ... \n",
      "replacing ANZ_TITEL missing values ... \n",
      "replacing BALLRAUM missing values ... \n",
      "replacing CAMEO_DEUG_2015 missing values ... \n",
      "replacing CAMEO_DEU_2015 missing values ... \n",
      "replacing CAMEO_INTL_2015 missing values ... \n",
      "replacing CJT_GESAMTTYP missing values ... \n",
      "replacing D19_BANKEN_ANZ_12 missing values ... \n",
      "replacing D19_BANKEN_ANZ_24 missing values ... \n",
      "replacing D19_BANKEN_DATUM missing values ... \n",
      "replacing D19_BANKEN_DIREKT missing values ... \n",
      "replacing D19_BANKEN_GROSS missing values ... \n",
      "replacing D19_BANKEN_LOKAL missing values ... \n",
      "replacing D19_BANKEN_OFFLINE_DATUM missing values ... \n",
      "replacing D19_BANKEN_ONLINE_DATUM missing values ... \n",
      "replacing D19_BANKEN_ONLINE_QUOTE_12 missing values ... \n",
      "replacing D19_BANKEN_REST missing values ... \n",
      "replacing D19_BEKLEIDUNG_GEH missing values ... \n",
      "replacing D19_BEKLEIDUNG_REST missing values ... \n",
      "replacing D19_BILDUNG missing values ... \n",
      "replacing D19_BIO_OEKO missing values ... \n",
      "replacing D19_BUCH_CD missing values ... \n",
      "replacing D19_DIGIT_SERV missing values ... \n",
      "replacing D19_DROGERIEARTIKEL missing values ... \n",
      "replacing D19_ENERGIE missing values ... \n",
      "replacing D19_FREIZEIT missing values ... \n",
      "replacing D19_GARTEN missing values ... \n",
      "replacing D19_GESAMT_ANZ_12 missing values ... \n",
      "replacing D19_GESAMT_ANZ_24 missing values ... \n",
      "replacing D19_GESAMT_DATUM missing values ... \n",
      "replacing D19_GESAMT_OFFLINE_DATUM missing values ... \n",
      "replacing D19_GESAMT_ONLINE_DATUM missing values ... \n",
      "replacing D19_GESAMT_ONLINE_QUOTE_12 missing values ... \n",
      "replacing D19_HANDWERK missing values ... \n",
      "replacing D19_HAUS_DEKO missing values ... \n",
      "replacing D19_KINDERARTIKEL missing values ... \n",
      "replacing D19_KONSUMTYP missing values ... \n",
      "replacing D19_KOSMETIK missing values ... \n",
      "replacing D19_LEBENSMITTEL missing values ... \n",
      "replacing D19_LOTTO missing values ... \n",
      "replacing D19_NAHRUNGSERGAENZUNG missing values ... \n",
      "replacing D19_RATGEBER missing values ... \n",
      "replacing D19_REISEN missing values ... \n",
      "replacing D19_SAMMELARTIKEL missing values ... \n",
      "replacing D19_SCHUHE missing values ... \n",
      "replacing D19_SONSTIGE missing values ... \n",
      "replacing D19_TECHNIK missing values ... \n",
      "replacing D19_TELKO_ANZ_12 missing values ... \n",
      "replacing D19_TELKO_ANZ_24 missing values ... \n",
      "replacing D19_TELKO_DATUM missing values ... \n",
      "replacing D19_TELKO_MOBILE missing values ... \n",
      "replacing D19_TELKO_OFFLINE_DATUM missing values ... \n",
      "replacing D19_TELKO_ONLINE_DATUM missing values ... \n",
      "replacing D19_TELKO_REST missing values ... \n",
      "replacing D19_TIERARTIKEL missing values ... \n",
      "replacing D19_VERSAND_ANZ_12 missing values ... \n",
      "replacing D19_VERSAND_ANZ_24 missing values ... \n",
      "replacing D19_VERSAND_DATUM missing values ... \n",
      "replacing D19_VERSAND_OFFLINE_DATUM missing values ... \n",
      "replacing D19_VERSAND_ONLINE_DATUM missing values ... \n",
      "replacing D19_VERSAND_ONLINE_QUOTE_12 missing values ... \n",
      "replacing D19_VERSAND_REST missing values ... \n",
      "replacing D19_VERSICHERUNGEN missing values ... \n",
      "replacing D19_VERSI_ANZ_12 missing values ... \n",
      "replacing D19_VERSI_ANZ_24 missing values ... \n",
      "replacing D19_VOLLSORTIMENT missing values ... \n",
      "replacing D19_WEIN_FEINKOST missing values ... \n",
      "replacing EWDICHTE missing values ... \n",
      "replacing FINANZTYP missing values ... \n",
      "replacing FINANZ_ANLEGER missing values ... \n",
      "replacing FINANZ_HAUSBAUER missing values ... \n",
      "replacing FINANZ_MINIMALIST missing values ... \n",
      "replacing FINANZ_SPARER missing values ... \n",
      "replacing FINANZ_UNAUFFAELLIGER missing values ... \n",
      "replacing FINANZ_VORSORGER missing values ... \n",
      "replacing GEBAEUDETYP missing values ... \n",
      "replacing GEBAEUDETYP_RASTER missing values ... \n",
      "replacing GEBURTSJAHR missing values ... \n",
      "replacing GFK_URLAUBERTYP missing values ... \n",
      "replacing GREEN_AVANTGARDE missing values ... \n",
      "replacing HEALTH_TYP missing values ... \n",
      "replacing HH_EINKOMMEN_SCORE missing values ... \n",
      "replacing INNENSTADT missing values ... \n",
      "replacing KBA05_ALTER1 missing values ... \n",
      "replacing KBA05_ALTER2 missing values ... \n",
      "replacing KBA05_ALTER3 missing values ... \n",
      "replacing KBA05_ALTER4 missing values ... \n",
      "replacing KBA05_ANHANG missing values ... \n",
      "replacing KBA05_ANTG1 missing values ... \n",
      "replacing KBA05_ANTG2 missing values ... \n",
      "replacing KBA05_ANTG3 missing values ... \n",
      "replacing KBA05_ANTG4 missing values ... \n",
      "replacing KBA05_AUTOQUOT missing values ... \n",
      "replacing KBA05_BAUMAX missing values ... \n",
      "replacing KBA05_CCM1 missing values ... \n",
      "replacing KBA05_CCM2 missing values ... \n",
      "replacing KBA05_CCM3 missing values ... \n",
      "replacing KBA05_CCM4 missing values ... \n",
      "replacing KBA05_DIESEL missing values ... \n",
      "replacing KBA05_FRAU missing values ... \n",
      "replacing KBA05_GBZ missing values ... \n",
      "replacing KBA05_HERST1 missing values ... \n",
      "replacing KBA05_HERST2 missing values ... \n",
      "replacing KBA05_HERST3 missing values ... \n",
      "replacing KBA05_HERST4 missing values ... \n",
      "replacing KBA05_HERST5 missing values ... \n",
      "replacing KBA05_HERSTTEMP missing values ... \n",
      "replacing KBA05_KRSAQUOT missing values ... \n",
      "replacing KBA05_KRSHERST1 missing values ... \n",
      "replacing KBA05_KRSHERST2 missing values ... \n",
      "replacing KBA05_KRSHERST3 missing values ... \n",
      "replacing KBA05_KRSKLEIN missing values ... \n",
      "replacing KBA05_KRSOBER missing values ... \n",
      "replacing KBA05_KRSVAN missing values ... \n",
      "replacing KBA05_KRSZUL missing values ... \n",
      "replacing KBA05_KW1 missing values ... \n",
      "replacing KBA05_KW2 missing values ... \n",
      "replacing KBA05_KW3 missing values ... \n",
      "replacing KBA05_MAXAH missing values ... \n",
      "replacing KBA05_MAXBJ missing values ... \n",
      "replacing KBA05_MAXHERST missing values ... \n",
      "replacing KBA05_MAXSEG missing values ... \n",
      "replacing KBA05_MAXVORB missing values ... \n",
      "replacing KBA05_MOD1 missing values ... \n",
      "replacing KBA05_MOD2 missing values ... \n",
      "replacing KBA05_MOD3 missing values ... \n",
      "replacing KBA05_MOD4 missing values ... \n",
      "replacing KBA05_MOD8 missing values ... \n",
      "replacing KBA05_MODTEMP missing values ... \n",
      "replacing KBA05_MOTOR missing values ... \n",
      "replacing KBA05_MOTRAD missing values ... \n",
      "replacing KBA05_SEG1 missing values ... \n",
      "replacing KBA05_SEG10 missing values ... \n",
      "replacing KBA05_SEG2 missing values ... \n",
      "replacing KBA05_SEG3 missing values ... \n",
      "replacing KBA05_SEG4 missing values ... \n",
      "replacing KBA05_SEG5 missing values ... \n",
      "replacing KBA05_SEG6 missing values ... \n",
      "replacing KBA05_SEG7 missing values ... \n",
      "replacing KBA05_SEG8 missing values ... \n",
      "replacing KBA05_SEG9 missing values ... \n",
      "replacing KBA05_VORB0 missing values ... \n",
      "replacing KBA05_VORB1 missing values ... \n",
      "replacing KBA05_VORB2 missing values ... \n",
      "replacing KBA05_ZUL1 missing values ... \n",
      "replacing KBA05_ZUL2 missing values ... \n",
      "replacing KBA05_ZUL3 missing values ... \n",
      "replacing KBA05_ZUL4 missing values ... \n",
      "replacing KBA13_ALTERHALTER_30 missing values ... \n",
      "replacing KBA13_ALTERHALTER_45 missing values ... \n",
      "replacing KBA13_ALTERHALTER_60 missing values ... \n",
      "replacing KBA13_ALTERHALTER_61 missing values ... \n",
      "replacing KBA13_ANZAHL_PKW missing values ... \n",
      "replacing KBA13_AUDI missing values ... \n",
      "replacing KBA13_AUTOQUOTE missing values ... \n",
      "replacing KBA13_BJ_1999 missing values ... \n",
      "replacing KBA13_BJ_2000 missing values ... \n",
      "replacing KBA13_BJ_2004 missing values ... \n",
      "replacing KBA13_BJ_2006 missing values ... \n",
      "replacing KBA13_BJ_2008 missing values ... \n",
      "replacing KBA13_BJ_2009 missing values ... \n",
      "replacing KBA13_BMW missing values ... \n",
      "replacing KBA13_CCM_1000 missing values ... \n",
      "replacing KBA13_CCM_1200 missing values ... \n",
      "replacing KBA13_CCM_1400 missing values ... \n",
      "replacing KBA13_CCM_0_1400 missing values ... \n",
      "replacing KBA13_CCM_1500 missing values ... \n",
      "replacing KBA13_CCM_1600 missing values ... \n",
      "replacing KBA13_CCM_1800 missing values ... \n",
      "replacing KBA13_CCM_2000 missing values ... \n",
      "replacing KBA13_CCM_2500 missing values ... \n",
      "replacing KBA13_CCM_2501 missing values ... \n",
      "replacing KBA13_CCM_3000 missing values ... \n",
      "replacing KBA13_CCM_3001 missing values ... \n",
      "replacing KBA13_FAB_ASIEN missing values ... \n",
      "replacing KBA13_FAB_SONSTIGE missing values ... \n",
      "replacing KBA13_FIAT missing values ... \n",
      "replacing KBA13_FORD missing values ... \n",
      "replacing KBA13_HALTER_20 missing values ... \n",
      "replacing KBA13_HALTER_25 missing values ... \n",
      "replacing KBA13_HALTER_30 missing values ... \n",
      "replacing KBA13_HALTER_35 missing values ... \n",
      "replacing KBA13_HALTER_40 missing values ... \n",
      "replacing KBA13_HALTER_45 missing values ... \n"
     ]
    },
    {
     "name": "stdout",
     "output_type": "stream",
     "text": [
      "replacing KBA13_HALTER_50 missing values ... \n",
      "replacing KBA13_HALTER_55 missing values ... \n",
      "replacing KBA13_HALTER_60 missing values ... \n",
      "replacing KBA13_HALTER_65 missing values ... \n",
      "replacing KBA13_HALTER_66 missing values ... \n",
      "replacing KBA13_HERST_ASIEN missing values ... \n",
      "replacing KBA13_HERST_AUDI_VW missing values ... \n",
      "replacing KBA13_HERST_BMW_BENZ missing values ... \n",
      "replacing KBA13_HERST_EUROPA missing values ... \n",
      "replacing KBA13_HERST_FORD_OPEL missing values ... \n",
      "replacing KBA13_HERST_SONST missing values ... \n",
      "replacing KBA13_KMH_110 missing values ... \n",
      "replacing KBA13_KMH_140 missing values ... \n",
      "replacing KBA13_KMH_180 missing values ... \n",
      "replacing KBA13_KMH_0_140 missing values ... \n",
      "replacing KBA13_KMH_140_210 missing values ... \n",
      "replacing KBA13_KMH_211 missing values ... \n",
      "replacing KBA13_KMH_250 missing values ... \n",
      "replacing KBA13_KMH_251 missing values ... \n",
      "replacing KBA13_KRSAQUOT missing values ... \n",
      "replacing KBA13_KRSHERST_AUDI_VW missing values ... \n",
      "replacing KBA13_KRSHERST_BMW_BENZ missing values ... \n",
      "replacing KBA13_KRSHERST_FORD_OPEL missing values ... \n",
      "replacing KBA13_KRSSEG_KLEIN missing values ... \n",
      "replacing KBA13_KRSSEG_OBER missing values ... \n",
      "replacing KBA13_KRSSEG_VAN missing values ... \n",
      "replacing KBA13_KRSZUL_NEU missing values ... \n",
      "replacing KBA13_KW_30 missing values ... \n",
      "replacing KBA13_KW_40 missing values ... \n",
      "replacing KBA13_KW_50 missing values ... \n",
      "replacing KBA13_KW_60 missing values ... \n",
      "replacing KBA13_KW_0_60 missing values ... \n",
      "replacing KBA13_KW_70 missing values ... \n",
      "replacing KBA13_KW_61_120 missing values ... \n",
      "replacing KBA13_KW_80 missing values ... \n",
      "replacing KBA13_KW_90 missing values ... \n",
      "replacing KBA13_KW_110 missing values ... \n",
      "replacing KBA13_KW_120 missing values ... \n",
      "replacing KBA13_KW_121 missing values ... \n",
      "replacing KBA13_MAZDA missing values ... \n",
      "replacing KBA13_MERCEDES missing values ... \n",
      "replacing KBA13_MOTOR missing values ... \n",
      "replacing KBA13_NISSAN missing values ... \n",
      "replacing KBA13_OPEL missing values ... \n",
      "replacing KBA13_PEUGEOT missing values ... \n",
      "replacing KBA13_RENAULT missing values ... \n",
      "replacing KBA13_SEG_GELAENDEWAGEN missing values ... \n",
      "replacing KBA13_SEG_GROSSRAUMVANS missing values ... \n",
      "replacing KBA13_SEG_KLEINST missing values ... \n",
      "replacing KBA13_SEG_KLEINWAGEN missing values ... \n",
      "replacing KBA13_SEG_KOMPAKTKLASSE missing values ... \n",
      "replacing KBA13_SEG_MINIVANS missing values ... \n",
      "replacing KBA13_SEG_MINIWAGEN missing values ... \n",
      "replacing KBA13_SEG_MITTELKLASSE missing values ... \n",
      "replacing KBA13_SEG_OBEREMITTELKLASSE missing values ... \n",
      "replacing KBA13_SEG_OBERKLASSE missing values ... \n",
      "replacing KBA13_SEG_SONSTIGE missing values ... \n",
      "replacing KBA13_SEG_SPORTWAGEN missing values ... \n",
      "replacing KBA13_SEG_UTILITIES missing values ... \n",
      "replacing KBA13_SEG_VAN missing values ... \n",
      "replacing KBA13_SEG_WOHNMOBILE missing values ... \n",
      "replacing KBA13_SITZE_4 missing values ... \n",
      "replacing KBA13_SITZE_5 missing values ... \n",
      "replacing KBA13_SITZE_6 missing values ... \n",
      "replacing KBA13_TOYOTA missing values ... \n",
      "replacing KBA13_VORB_0 missing values ... \n",
      "replacing KBA13_VORB_1 missing values ... \n",
      "replacing KBA13_VORB_1_2 missing values ... \n",
      "replacing KBA13_VORB_2 missing values ... \n",
      "replacing KBA13_VORB_3 missing values ... \n",
      "replacing KBA13_VW missing values ... \n",
      "replacing KKK missing values ... \n",
      "replacing KONSUMNAEHE missing values ... \n",
      "replacing LP_FAMILIE_FEIN missing values ... \n",
      "replacing LP_FAMILIE_GROB missing values ... \n",
      "replacing LP_LEBENSPHASE_FEIN missing values ... \n",
      "replacing LP_LEBENSPHASE_GROB missing values ... \n",
      "replacing LP_STATUS_FEIN missing values ... \n",
      "replacing LP_STATUS_GROB missing values ... \n",
      "replacing MIN_GEBAEUDEJAHR missing values ... \n",
      "replacing MOBI_REGIO missing values ... \n",
      "replacing NATIONALITAET_KZ missing values ... \n",
      "replacing ONLINE_AFFINITAET missing values ... \n",
      "replacing ORTSGR_KLS9 missing values ... \n",
      "replacing OST_WEST_KZ missing values ... \n",
      "replacing PLZ8_ANTG1 missing values ... \n",
      "replacing PLZ8_ANTG2 missing values ... \n",
      "replacing PLZ8_ANTG3 missing values ... \n",
      "replacing PLZ8_ANTG4 missing values ... \n",
      "replacing PLZ8_BAUMAX missing values ... \n",
      "replacing PLZ8_GBZ missing values ... \n",
      "replacing PLZ8_HHZ missing values ... \n",
      "replacing PRAEGENDE_JUGENDJAHRE missing values ... \n",
      "replacing REGIOTYP missing values ... \n",
      "replacing RELAT_AB missing values ... \n",
      "replacing RETOURTYP_BK_S missing values ... \n",
      "replacing SEMIO_DOM missing values ... \n",
      "replacing SEMIO_ERL missing values ... \n",
      "replacing SEMIO_FAM missing values ... \n",
      "replacing SEMIO_KAEM missing values ... \n",
      "replacing SEMIO_KRIT missing values ... \n",
      "replacing SEMIO_KULT missing values ... \n",
      "replacing SEMIO_LUST missing values ... \n",
      "replacing SEMIO_MAT missing values ... \n",
      "replacing SEMIO_PFLICHT missing values ... \n",
      "replacing SEMIO_RAT missing values ... \n",
      "replacing SEMIO_REL missing values ... \n",
      "replacing SEMIO_SOZ missing values ... \n",
      "replacing SEMIO_TRADV missing values ... \n",
      "replacing SEMIO_VERT missing values ... \n",
      "replacing SHOPPER_TYP missing values ... \n",
      "replacing SOHO_KZ missing values ... \n",
      "replacing TITEL_KZ missing values ... \n",
      "replacing VERS_TYP missing values ... \n",
      "replacing WOHNDAUER_2008 missing values ... \n",
      "replacing WOHNLAGE missing values ... \n",
      "replacing W_KEIT_KIND_HH missing values ... \n",
      "replacing ZABEOTYP missing values ... \n",
      "replacing ARBEIT missing values ... \n",
      "replacing AKT_DAT_KL missing values ... \n",
      "replacing ALTERSKATEGORIE_FEIN missing values ... \n",
      "replacing ALTER_KIND1 missing values ... \n",
      "replacing ALTER_KIND2 missing values ... \n",
      "replacing ALTER_KIND3 missing values ... \n",
      "replacing ALTER_KIND4 missing values ... \n",
      "replacing ANZ_KINDER missing values ... \n",
      "replacing ANZ_STATISTISCHE_HAUSHALTE missing values ... \n",
      "replacing CJT_KATALOGNUTZER missing values ... \n",
      "replacing CJT_TYP_1 missing values ... \n",
      "replacing CJT_TYP_2 missing values ... \n",
      "replacing CJT_TYP_3 missing values ... \n",
      "replacing CJT_TYP_4 missing values ... \n",
      "replacing CJT_TYP_5 missing values ... \n",
      "replacing CJT_TYP_6 missing values ... \n",
      "replacing D19_KONSUMTYP_MAX missing values ... \n",
      "replacing D19_SOZIALES missing values ... \n",
      "replacing D19_TELKO_ONLINE_QUOTE_12 missing values ... \n",
      "replacing D19_VERSI_DATUM missing values ... \n",
      "replacing D19_VERSI_OFFLINE_DATUM missing values ... \n",
      "replacing D19_VERSI_ONLINE_DATUM missing values ... \n",
      "replacing D19_VERSI_ONLINE_QUOTE_12 missing values ... \n",
      "replacing DSL_FLAG missing values ... \n",
      "replacing EINGEZOGENAM_HH_JAHR missing values ... \n",
      "replacing EXTSEL992 missing values ... \n",
      "replacing FIRMENDICHTE missing values ... \n",
      "replacing HH_DELTA_FLAG missing values ... \n",
      "replacing KBA13_ANTG1 missing values ... \n",
      "replacing KBA13_ANTG2 missing values ... \n",
      "replacing KBA13_ANTG3 missing values ... \n",
      "replacing KBA13_ANTG4 missing values ... \n",
      "replacing KBA13_CCM_1401_2500 missing values ... \n",
      "replacing KBA13_GBZ missing values ... \n",
      "replacing KBA13_HHZ missing values ... \n",
      "replacing KBA13_KMH_210 missing values ... \n",
      "replacing KOMBIALTER missing values ... \n",
      "replacing KONSUMZELLE missing values ... \n",
      "replacing MOBI_RASTER missing values ... \n",
      "replacing RT_KEIN_ANREIZ missing values ... \n",
      "replacing RT_SCHNAEPPCHEN missing values ... \n",
      "replacing RT_UEBERGROESSE missing values ... \n",
      "replacing STRUKTURTYP missing values ... \n",
      "replacing UMFELD_ALT missing values ... \n",
      "replacing UMFELD_JUNG missing values ... \n",
      "replacing UNGLEICHENN_FLAG missing values ... \n",
      "replacing VERDICHTUNGSRAUM missing values ... \n",
      "replacing VHA missing values ... \n",
      "replacing VHN missing values ... \n",
      "replacing VK_DHT4A missing values ... \n",
      "replacing VK_DISTANZ missing values ... \n",
      "replacing VK_ZG11 missing values ... \n",
      "replacing KBA13_BAUMAX missing values ... \n",
      "replacing GEMEINDETYP missing values ... \n",
      "replacing D19_LETZTER_KAUF_BRANCHE missing values ... \n",
      "replacing AGER_TYP missing values ... \n",
      "replacing ALTERSKATEGORIE_GROB missing values ... \n",
      "replacing ALTER_HH missing values ... \n",
      "replacing ANREDE_KZ missing values ... \n",
      "replacing ANZ_HAUSHALTE_AKTIV missing values ... \n",
      "replacing ANZ_HH_TITEL missing values ... \n",
      "replacing ANZ_PERSONEN missing values ... \n",
      "replacing ANZ_TITEL missing values ... \n",
      "replacing BALLRAUM missing values ... \n",
      "replacing CAMEO_DEUG_2015 missing values ... \n",
      "replacing CAMEO_DEU_2015 missing values ... \n",
      "replacing CAMEO_INTL_2015 missing values ... \n",
      "replacing CJT_GESAMTTYP missing values ... \n",
      "replacing D19_BANKEN_ANZ_12 missing values ... \n",
      "replacing D19_BANKEN_ANZ_24 missing values ... \n",
      "replacing D19_BANKEN_DATUM missing values ... \n",
      "replacing D19_BANKEN_DIREKT missing values ... \n",
      "replacing D19_BANKEN_GROSS missing values ... \n",
      "replacing D19_BANKEN_LOKAL missing values ... \n",
      "replacing D19_BANKEN_OFFLINE_DATUM missing values ... \n",
      "replacing D19_BANKEN_ONLINE_DATUM missing values ... \n",
      "replacing D19_BANKEN_ONLINE_QUOTE_12 missing values ... \n",
      "replacing D19_BANKEN_REST missing values ... \n",
      "replacing D19_BEKLEIDUNG_GEH missing values ... \n",
      "replacing D19_BEKLEIDUNG_REST missing values ... \n",
      "replacing D19_BILDUNG missing values ... \n",
      "replacing D19_BIO_OEKO missing values ... \n",
      "replacing D19_BUCH_CD missing values ... \n",
      "replacing D19_DIGIT_SERV missing values ... \n",
      "replacing D19_DROGERIEARTIKEL missing values ... \n",
      "replacing D19_ENERGIE missing values ... \n",
      "replacing D19_FREIZEIT missing values ... \n",
      "replacing D19_GARTEN missing values ... \n",
      "replacing D19_GESAMT_ANZ_12 missing values ... \n",
      "replacing D19_GESAMT_ANZ_24 missing values ... \n",
      "replacing D19_GESAMT_DATUM missing values ... \n",
      "replacing D19_GESAMT_OFFLINE_DATUM missing values ... \n",
      "replacing D19_GESAMT_ONLINE_DATUM missing values ... \n",
      "replacing D19_GESAMT_ONLINE_QUOTE_12 missing values ... \n",
      "replacing D19_HANDWERK missing values ... \n",
      "replacing D19_HAUS_DEKO missing values ... \n",
      "replacing D19_KINDERARTIKEL missing values ... \n",
      "replacing D19_KONSUMTYP missing values ... \n",
      "replacing D19_KOSMETIK missing values ... \n",
      "replacing D19_LEBENSMITTEL missing values ... \n",
      "replacing D19_LOTTO missing values ... \n",
      "replacing D19_NAHRUNGSERGAENZUNG missing values ... \n",
      "replacing D19_RATGEBER missing values ... \n",
      "replacing D19_REISEN missing values ... \n",
      "replacing D19_SAMMELARTIKEL missing values ... \n",
      "replacing D19_SCHUHE missing values ... \n",
      "replacing D19_SONSTIGE missing values ... \n",
      "replacing D19_TECHNIK missing values ... \n",
      "replacing D19_TELKO_ANZ_12 missing values ... \n",
      "replacing D19_TELKO_ANZ_24 missing values ... \n",
      "replacing D19_TELKO_DATUM missing values ... \n",
      "replacing D19_TELKO_MOBILE missing values ... \n",
      "replacing D19_TELKO_OFFLINE_DATUM missing values ... \n",
      "replacing D19_TELKO_ONLINE_DATUM missing values ... \n",
      "replacing D19_TELKO_REST missing values ... \n",
      "replacing D19_TIERARTIKEL missing values ... \n",
      "replacing D19_VERSAND_ANZ_12 missing values ... \n",
      "replacing D19_VERSAND_ANZ_24 missing values ... \n",
      "replacing D19_VERSAND_DATUM missing values ... \n",
      "replacing D19_VERSAND_OFFLINE_DATUM missing values ... \n",
      "replacing D19_VERSAND_ONLINE_DATUM missing values ... \n",
      "replacing D19_VERSAND_ONLINE_QUOTE_12 missing values ... \n",
      "replacing D19_VERSAND_REST missing values ... \n",
      "replacing D19_VERSICHERUNGEN missing values ... \n",
      "replacing D19_VERSI_ANZ_12 missing values ... \n",
      "replacing D19_VERSI_ANZ_24 missing values ... \n",
      "replacing D19_VOLLSORTIMENT missing values ... \n",
      "replacing D19_WEIN_FEINKOST missing values ... \n",
      "replacing EWDICHTE missing values ... \n",
      "replacing FINANZTYP missing values ... \n",
      "replacing FINANZ_ANLEGER missing values ... \n",
      "replacing FINANZ_HAUSBAUER missing values ... \n"
     ]
    },
    {
     "name": "stdout",
     "output_type": "stream",
     "text": [
      "replacing FINANZ_MINIMALIST missing values ... \n",
      "replacing FINANZ_SPARER missing values ... \n",
      "replacing FINANZ_UNAUFFAELLIGER missing values ... \n",
      "replacing FINANZ_VORSORGER missing values ... \n",
      "replacing GEBAEUDETYP missing values ... \n",
      "replacing GEBAEUDETYP_RASTER missing values ... \n",
      "replacing GEBURTSJAHR missing values ... \n",
      "replacing GFK_URLAUBERTYP missing values ... \n",
      "replacing GREEN_AVANTGARDE missing values ... \n",
      "replacing HEALTH_TYP missing values ... \n",
      "replacing HH_EINKOMMEN_SCORE missing values ... \n",
      "replacing INNENSTADT missing values ... \n",
      "replacing KBA05_ALTER1 missing values ... \n",
      "replacing KBA05_ALTER2 missing values ... \n",
      "replacing KBA05_ALTER3 missing values ... \n",
      "replacing KBA05_ALTER4 missing values ... \n",
      "replacing KBA05_ANHANG missing values ... \n",
      "replacing KBA05_ANTG1 missing values ... \n",
      "replacing KBA05_ANTG2 missing values ... \n",
      "replacing KBA05_ANTG3 missing values ... \n",
      "replacing KBA05_ANTG4 missing values ... \n",
      "replacing KBA05_AUTOQUOT missing values ... \n",
      "replacing KBA05_BAUMAX missing values ... \n",
      "replacing KBA05_CCM1 missing values ... \n",
      "replacing KBA05_CCM2 missing values ... \n",
      "replacing KBA05_CCM3 missing values ... \n",
      "replacing KBA05_CCM4 missing values ... \n",
      "replacing KBA05_DIESEL missing values ... \n",
      "replacing KBA05_FRAU missing values ... \n",
      "replacing KBA05_GBZ missing values ... \n",
      "replacing KBA05_HERST1 missing values ... \n",
      "replacing KBA05_HERST2 missing values ... \n",
      "replacing KBA05_HERST3 missing values ... \n",
      "replacing KBA05_HERST4 missing values ... \n",
      "replacing KBA05_HERST5 missing values ... \n",
      "replacing KBA05_HERSTTEMP missing values ... \n",
      "replacing KBA05_KRSAQUOT missing values ... \n",
      "replacing KBA05_KRSHERST1 missing values ... \n",
      "replacing KBA05_KRSHERST2 missing values ... \n",
      "replacing KBA05_KRSHERST3 missing values ... \n",
      "replacing KBA05_KRSKLEIN missing values ... \n",
      "replacing KBA05_KRSOBER missing values ... \n",
      "replacing KBA05_KRSVAN missing values ... \n",
      "replacing KBA05_KRSZUL missing values ... \n",
      "replacing KBA05_KW1 missing values ... \n",
      "replacing KBA05_KW2 missing values ... \n",
      "replacing KBA05_KW3 missing values ... \n",
      "replacing KBA05_MAXAH missing values ... \n",
      "replacing KBA05_MAXBJ missing values ... \n",
      "replacing KBA05_MAXHERST missing values ... \n",
      "replacing KBA05_MAXSEG missing values ... \n",
      "replacing KBA05_MAXVORB missing values ... \n",
      "replacing KBA05_MOD1 missing values ... \n",
      "replacing KBA05_MOD2 missing values ... \n",
      "replacing KBA05_MOD3 missing values ... \n",
      "replacing KBA05_MOD4 missing values ... \n",
      "replacing KBA05_MOD8 missing values ... \n",
      "replacing KBA05_MODTEMP missing values ... \n",
      "replacing KBA05_MOTOR missing values ... \n",
      "replacing KBA05_MOTRAD missing values ... \n",
      "replacing KBA05_SEG1 missing values ... \n",
      "replacing KBA05_SEG10 missing values ... \n",
      "replacing KBA05_SEG2 missing values ... \n",
      "replacing KBA05_SEG3 missing values ... \n",
      "replacing KBA05_SEG4 missing values ... \n",
      "replacing KBA05_SEG5 missing values ... \n",
      "replacing KBA05_SEG6 missing values ... \n",
      "replacing KBA05_SEG7 missing values ... \n",
      "replacing KBA05_SEG8 missing values ... \n",
      "replacing KBA05_SEG9 missing values ... \n",
      "replacing KBA05_VORB0 missing values ... \n",
      "replacing KBA05_VORB1 missing values ... \n",
      "replacing KBA05_VORB2 missing values ... \n",
      "replacing KBA05_ZUL1 missing values ... \n",
      "replacing KBA05_ZUL2 missing values ... \n",
      "replacing KBA05_ZUL3 missing values ... \n",
      "replacing KBA05_ZUL4 missing values ... \n",
      "replacing KBA13_ALTERHALTER_30 missing values ... \n",
      "replacing KBA13_ALTERHALTER_45 missing values ... \n",
      "replacing KBA13_ALTERHALTER_60 missing values ... \n",
      "replacing KBA13_ALTERHALTER_61 missing values ... \n",
      "replacing KBA13_ANZAHL_PKW missing values ... \n",
      "replacing KBA13_AUDI missing values ... \n",
      "replacing KBA13_AUTOQUOTE missing values ... \n",
      "replacing KBA13_BJ_1999 missing values ... \n",
      "replacing KBA13_BJ_2000 missing values ... \n",
      "replacing KBA13_BJ_2004 missing values ... \n",
      "replacing KBA13_BJ_2006 missing values ... \n",
      "replacing KBA13_BJ_2008 missing values ... \n",
      "replacing KBA13_BJ_2009 missing values ... \n",
      "replacing KBA13_BMW missing values ... \n",
      "replacing KBA13_CCM_1000 missing values ... \n",
      "replacing KBA13_CCM_1200 missing values ... \n",
      "replacing KBA13_CCM_1400 missing values ... \n",
      "replacing KBA13_CCM_0_1400 missing values ... \n",
      "replacing KBA13_CCM_1500 missing values ... \n",
      "replacing KBA13_CCM_1600 missing values ... \n",
      "replacing KBA13_CCM_1800 missing values ... \n",
      "replacing KBA13_CCM_2000 missing values ... \n",
      "replacing KBA13_CCM_2500 missing values ... \n",
      "replacing KBA13_CCM_2501 missing values ... \n",
      "replacing KBA13_CCM_3000 missing values ... \n",
      "replacing KBA13_CCM_3001 missing values ... \n",
      "replacing KBA13_FAB_ASIEN missing values ... \n",
      "replacing KBA13_FAB_SONSTIGE missing values ... \n",
      "replacing KBA13_FIAT missing values ... \n",
      "replacing KBA13_FORD missing values ... \n",
      "replacing KBA13_HALTER_20 missing values ... \n",
      "replacing KBA13_HALTER_25 missing values ... \n",
      "replacing KBA13_HALTER_30 missing values ... \n",
      "replacing KBA13_HALTER_35 missing values ... \n",
      "replacing KBA13_HALTER_40 missing values ... \n",
      "replacing KBA13_HALTER_45 missing values ... \n",
      "replacing KBA13_HALTER_50 missing values ... \n",
      "replacing KBA13_HALTER_55 missing values ... \n",
      "replacing KBA13_HALTER_60 missing values ... \n",
      "replacing KBA13_HALTER_65 missing values ... \n",
      "replacing KBA13_HALTER_66 missing values ... \n",
      "replacing KBA13_HERST_ASIEN missing values ... \n",
      "replacing KBA13_HERST_AUDI_VW missing values ... \n",
      "replacing KBA13_HERST_BMW_BENZ missing values ... \n",
      "replacing KBA13_HERST_EUROPA missing values ... \n",
      "replacing KBA13_HERST_FORD_OPEL missing values ... \n",
      "replacing KBA13_HERST_SONST missing values ... \n",
      "replacing KBA13_KMH_110 missing values ... \n",
      "replacing KBA13_KMH_140 missing values ... \n",
      "replacing KBA13_KMH_180 missing values ... \n",
      "replacing KBA13_KMH_0_140 missing values ... \n",
      "replacing KBA13_KMH_140_210 missing values ... \n",
      "replacing KBA13_KMH_211 missing values ... \n",
      "replacing KBA13_KMH_250 missing values ... \n",
      "replacing KBA13_KMH_251 missing values ... \n",
      "replacing KBA13_KRSAQUOT missing values ... \n",
      "replacing KBA13_KRSHERST_AUDI_VW missing values ... \n",
      "replacing KBA13_KRSHERST_BMW_BENZ missing values ... \n",
      "replacing KBA13_KRSHERST_FORD_OPEL missing values ... \n",
      "replacing KBA13_KRSSEG_KLEIN missing values ... \n",
      "replacing KBA13_KRSSEG_OBER missing values ... \n",
      "replacing KBA13_KRSSEG_VAN missing values ... \n",
      "replacing KBA13_KRSZUL_NEU missing values ... \n",
      "replacing KBA13_KW_30 missing values ... \n",
      "replacing KBA13_KW_40 missing values ... \n",
      "replacing KBA13_KW_50 missing values ... \n",
      "replacing KBA13_KW_60 missing values ... \n",
      "replacing KBA13_KW_0_60 missing values ... \n",
      "replacing KBA13_KW_70 missing values ... \n",
      "replacing KBA13_KW_61_120 missing values ... \n",
      "replacing KBA13_KW_80 missing values ... \n",
      "replacing KBA13_KW_90 missing values ... \n",
      "replacing KBA13_KW_110 missing values ... \n",
      "replacing KBA13_KW_120 missing values ... \n",
      "replacing KBA13_KW_121 missing values ... \n",
      "replacing KBA13_MAZDA missing values ... \n",
      "replacing KBA13_MERCEDES missing values ... \n",
      "replacing KBA13_MOTOR missing values ... \n",
      "replacing KBA13_NISSAN missing values ... \n",
      "replacing KBA13_OPEL missing values ... \n",
      "replacing KBA13_PEUGEOT missing values ... \n",
      "replacing KBA13_RENAULT missing values ... \n",
      "replacing KBA13_SEG_GELAENDEWAGEN missing values ... \n",
      "replacing KBA13_SEG_GROSSRAUMVANS missing values ... \n",
      "replacing KBA13_SEG_KLEINST missing values ... \n",
      "replacing KBA13_SEG_KLEINWAGEN missing values ... \n",
      "replacing KBA13_SEG_KOMPAKTKLASSE missing values ... \n",
      "replacing KBA13_SEG_MINIVANS missing values ... \n",
      "replacing KBA13_SEG_MINIWAGEN missing values ... \n",
      "replacing KBA13_SEG_MITTELKLASSE missing values ... \n",
      "replacing KBA13_SEG_OBEREMITTELKLASSE missing values ... \n",
      "replacing KBA13_SEG_OBERKLASSE missing values ... \n",
      "replacing KBA13_SEG_SONSTIGE missing values ... \n",
      "replacing KBA13_SEG_SPORTWAGEN missing values ... \n",
      "replacing KBA13_SEG_UTILITIES missing values ... \n",
      "replacing KBA13_SEG_VAN missing values ... \n",
      "replacing KBA13_SEG_WOHNMOBILE missing values ... \n",
      "replacing KBA13_SITZE_4 missing values ... \n",
      "replacing KBA13_SITZE_5 missing values ... \n",
      "replacing KBA13_SITZE_6 missing values ... \n",
      "replacing KBA13_TOYOTA missing values ... \n",
      "replacing KBA13_VORB_0 missing values ... \n",
      "replacing KBA13_VORB_1 missing values ... \n",
      "replacing KBA13_VORB_1_2 missing values ... \n",
      "replacing KBA13_VORB_2 missing values ... \n",
      "replacing KBA13_VORB_3 missing values ... \n",
      "replacing KBA13_VW missing values ... \n",
      "replacing KKK missing values ... \n",
      "replacing KONSUMNAEHE missing values ... \n",
      "replacing LP_FAMILIE_FEIN missing values ... \n",
      "replacing LP_FAMILIE_GROB missing values ... \n",
      "replacing LP_LEBENSPHASE_FEIN missing values ... \n",
      "replacing LP_LEBENSPHASE_GROB missing values ... \n",
      "replacing LP_STATUS_FEIN missing values ... \n",
      "replacing LP_STATUS_GROB missing values ... \n",
      "replacing MIN_GEBAEUDEJAHR missing values ... \n",
      "replacing MOBI_REGIO missing values ... \n",
      "replacing NATIONALITAET_KZ missing values ... \n",
      "replacing ONLINE_AFFINITAET missing values ... \n",
      "replacing ORTSGR_KLS9 missing values ... \n",
      "replacing OST_WEST_KZ missing values ... \n",
      "replacing PLZ8_ANTG1 missing values ... \n",
      "replacing PLZ8_ANTG2 missing values ... \n",
      "replacing PLZ8_ANTG3 missing values ... \n",
      "replacing PLZ8_ANTG4 missing values ... \n",
      "replacing PLZ8_BAUMAX missing values ... \n",
      "replacing PLZ8_GBZ missing values ... \n",
      "replacing PLZ8_HHZ missing values ... \n",
      "replacing PRAEGENDE_JUGENDJAHRE missing values ... \n"
     ]
    },
    {
     "name": "stdout",
     "output_type": "stream",
     "text": [
      "replacing REGIOTYP missing values ... \n",
      "replacing RELAT_AB missing values ... \n",
      "replacing RETOURTYP_BK_S missing values ... \n",
      "replacing SEMIO_DOM missing values ... \n",
      "replacing SEMIO_ERL missing values ... \n",
      "replacing SEMIO_FAM missing values ... \n",
      "replacing SEMIO_KAEM missing values ... \n",
      "replacing SEMIO_KRIT missing values ... \n",
      "replacing SEMIO_KULT missing values ... \n",
      "replacing SEMIO_LUST missing values ... \n",
      "replacing SEMIO_MAT missing values ... \n",
      "replacing SEMIO_PFLICHT missing values ... \n",
      "replacing SEMIO_RAT missing values ... \n",
      "replacing SEMIO_REL missing values ... \n",
      "replacing SEMIO_SOZ missing values ... \n",
      "replacing SEMIO_TRADV missing values ... \n",
      "replacing SEMIO_VERT missing values ... \n",
      "replacing SHOPPER_TYP missing values ... \n",
      "replacing SOHO_KZ missing values ... \n",
      "replacing TITEL_KZ missing values ... \n",
      "replacing VERS_TYP missing values ... \n",
      "replacing WOHNDAUER_2008 missing values ... \n",
      "replacing WOHNLAGE missing values ... \n",
      "replacing W_KEIT_KIND_HH missing values ... \n",
      "replacing ZABEOTYP missing values ... \n",
      "replacing ARBEIT missing values ... \n",
      "replacing AKT_DAT_KL missing values ... \n",
      "replacing ALTERSKATEGORIE_FEIN missing values ... \n",
      "replacing ALTER_KIND1 missing values ... \n",
      "replacing ALTER_KIND2 missing values ... \n",
      "replacing ALTER_KIND3 missing values ... \n",
      "replacing ALTER_KIND4 missing values ... \n",
      "replacing ANZ_KINDER missing values ... \n",
      "replacing ANZ_STATISTISCHE_HAUSHALTE missing values ... \n",
      "replacing CJT_KATALOGNUTZER missing values ... \n",
      "replacing CJT_TYP_1 missing values ... \n",
      "replacing CJT_TYP_2 missing values ... \n",
      "replacing CJT_TYP_3 missing values ... \n",
      "replacing CJT_TYP_4 missing values ... \n",
      "replacing CJT_TYP_5 missing values ... \n",
      "replacing CJT_TYP_6 missing values ... \n",
      "replacing D19_KONSUMTYP_MAX missing values ... \n",
      "replacing D19_SOZIALES missing values ... \n",
      "replacing D19_TELKO_ONLINE_QUOTE_12 missing values ... \n",
      "replacing D19_VERSI_DATUM missing values ... \n",
      "replacing D19_VERSI_OFFLINE_DATUM missing values ... \n",
      "replacing D19_VERSI_ONLINE_DATUM missing values ... \n",
      "replacing D19_VERSI_ONLINE_QUOTE_12 missing values ... \n",
      "replacing DSL_FLAG missing values ... \n",
      "replacing EINGEZOGENAM_HH_JAHR missing values ... \n",
      "replacing EXTSEL992 missing values ... \n",
      "replacing FIRMENDICHTE missing values ... \n",
      "replacing HH_DELTA_FLAG missing values ... \n",
      "replacing KBA13_ANTG1 missing values ... \n",
      "replacing KBA13_ANTG2 missing values ... \n",
      "replacing KBA13_ANTG3 missing values ... \n",
      "replacing KBA13_ANTG4 missing values ... \n",
      "replacing KBA13_CCM_1401_2500 missing values ... \n",
      "replacing KBA13_GBZ missing values ... \n",
      "replacing KBA13_HHZ missing values ... \n",
      "replacing KBA13_KMH_210 missing values ... \n",
      "replacing KOMBIALTER missing values ... \n",
      "replacing KONSUMZELLE missing values ... \n",
      "replacing MOBI_RASTER missing values ... \n",
      "replacing RT_KEIN_ANREIZ missing values ... \n",
      "replacing RT_SCHNAEPPCHEN missing values ... \n",
      "replacing RT_UEBERGROESSE missing values ... \n",
      "replacing STRUKTURTYP missing values ... \n",
      "replacing UMFELD_ALT missing values ... \n",
      "replacing UMFELD_JUNG missing values ... \n",
      "replacing UNGLEICHENN_FLAG missing values ... \n",
      "replacing VERDICHTUNGSRAUM missing values ... \n",
      "replacing VHA missing values ... \n",
      "replacing VHN missing values ... \n",
      "replacing VK_DHT4A missing values ... \n",
      "replacing VK_DISTANZ missing values ... \n",
      "replacing VK_ZG11 missing values ... \n",
      "replacing KBA13_BAUMAX missing values ... \n",
      "replacing GEMEINDETYP missing values ... \n",
      "replacing D19_LETZTER_KAUF_BRANCHE missing values ... \n",
      "replacing AGER_TYP missing values ... \n",
      "replacing ALTERSKATEGORIE_GROB missing values ... \n",
      "replacing ALTER_HH missing values ... \n",
      "replacing ANREDE_KZ missing values ... \n",
      "replacing ANZ_HAUSHALTE_AKTIV missing values ... \n",
      "replacing ANZ_HH_TITEL missing values ... \n",
      "replacing ANZ_PERSONEN missing values ... \n",
      "replacing ANZ_TITEL missing values ... \n",
      "replacing BALLRAUM missing values ... \n",
      "replacing CAMEO_DEUG_2015 missing values ... \n",
      "replacing CAMEO_DEU_2015 missing values ... \n",
      "replacing CAMEO_INTL_2015 missing values ... \n",
      "replacing CJT_GESAMTTYP missing values ... \n",
      "replacing D19_BANKEN_ANZ_12 missing values ... \n",
      "replacing D19_BANKEN_ANZ_24 missing values ... \n",
      "replacing D19_BANKEN_DATUM missing values ... \n",
      "replacing D19_BANKEN_DIREKT missing values ... \n",
      "replacing D19_BANKEN_GROSS missing values ... \n",
      "replacing D19_BANKEN_LOKAL missing values ... \n",
      "replacing D19_BANKEN_OFFLINE_DATUM missing values ... \n",
      "replacing D19_BANKEN_ONLINE_DATUM missing values ... \n",
      "replacing D19_BANKEN_ONLINE_QUOTE_12 missing values ... \n",
      "replacing D19_BANKEN_REST missing values ... \n",
      "replacing D19_BEKLEIDUNG_GEH missing values ... \n",
      "replacing D19_BEKLEIDUNG_REST missing values ... \n",
      "replacing D19_BILDUNG missing values ... \n",
      "replacing D19_BIO_OEKO missing values ... \n",
      "replacing D19_BUCH_CD missing values ... \n",
      "replacing D19_DIGIT_SERV missing values ... \n",
      "replacing D19_DROGERIEARTIKEL missing values ... \n",
      "replacing D19_ENERGIE missing values ... \n",
      "replacing D19_FREIZEIT missing values ... \n",
      "replacing D19_GARTEN missing values ... \n",
      "replacing D19_GESAMT_ANZ_12 missing values ... \n",
      "replacing D19_GESAMT_ANZ_24 missing values ... \n",
      "replacing D19_GESAMT_DATUM missing values ... \n",
      "replacing D19_GESAMT_OFFLINE_DATUM missing values ... \n",
      "replacing D19_GESAMT_ONLINE_DATUM missing values ... \n",
      "replacing D19_GESAMT_ONLINE_QUOTE_12 missing values ... \n",
      "replacing D19_HANDWERK missing values ... \n",
      "replacing D19_HAUS_DEKO missing values ... \n",
      "replacing D19_KINDERARTIKEL missing values ... \n",
      "replacing D19_KONSUMTYP missing values ... \n",
      "replacing D19_KOSMETIK missing values ... \n",
      "replacing D19_LEBENSMITTEL missing values ... \n",
      "replacing D19_LOTTO missing values ... \n",
      "replacing D19_NAHRUNGSERGAENZUNG missing values ... \n",
      "replacing D19_RATGEBER missing values ... \n",
      "replacing D19_REISEN missing values ... \n",
      "replacing D19_SAMMELARTIKEL missing values ... \n",
      "replacing D19_SCHUHE missing values ... \n",
      "replacing D19_SONSTIGE missing values ... \n",
      "replacing D19_TECHNIK missing values ... \n",
      "replacing D19_TELKO_ANZ_12 missing values ... \n",
      "replacing D19_TELKO_ANZ_24 missing values ... \n",
      "replacing D19_TELKO_DATUM missing values ... \n",
      "replacing D19_TELKO_MOBILE missing values ... \n",
      "replacing D19_TELKO_OFFLINE_DATUM missing values ... \n",
      "replacing D19_TELKO_ONLINE_DATUM missing values ... \n",
      "replacing D19_TELKO_REST missing values ... \n",
      "replacing D19_TIERARTIKEL missing values ... \n",
      "replacing D19_VERSAND_ANZ_12 missing values ... \n",
      "replacing D19_VERSAND_ANZ_24 missing values ... \n",
      "replacing D19_VERSAND_DATUM missing values ... \n",
      "replacing D19_VERSAND_OFFLINE_DATUM missing values ... \n",
      "replacing D19_VERSAND_ONLINE_DATUM missing values ... \n",
      "replacing D19_VERSAND_ONLINE_QUOTE_12 missing values ... \n",
      "replacing D19_VERSAND_REST missing values ... \n",
      "replacing D19_VERSICHERUNGEN missing values ... \n",
      "replacing D19_VERSI_ANZ_12 missing values ... \n",
      "replacing D19_VERSI_ANZ_24 missing values ... \n",
      "replacing D19_VOLLSORTIMENT missing values ... \n",
      "replacing D19_WEIN_FEINKOST missing values ... \n",
      "replacing EWDICHTE missing values ... \n",
      "replacing FINANZTYP missing values ... \n",
      "replacing FINANZ_ANLEGER missing values ... \n",
      "replacing FINANZ_HAUSBAUER missing values ... \n",
      "replacing FINANZ_MINIMALIST missing values ... \n",
      "replacing FINANZ_SPARER missing values ... \n",
      "replacing FINANZ_UNAUFFAELLIGER missing values ... \n",
      "replacing FINANZ_VORSORGER missing values ... \n",
      "replacing GEBAEUDETYP missing values ... \n",
      "replacing GEBAEUDETYP_RASTER missing values ... \n",
      "replacing GEBURTSJAHR missing values ... \n",
      "replacing GFK_URLAUBERTYP missing values ... \n",
      "replacing GREEN_AVANTGARDE missing values ... \n",
      "replacing HEALTH_TYP missing values ... \n",
      "replacing HH_EINKOMMEN_SCORE missing values ... \n",
      "replacing INNENSTADT missing values ... \n",
      "replacing KBA05_ALTER1 missing values ... \n",
      "replacing KBA05_ALTER2 missing values ... \n",
      "replacing KBA05_ALTER3 missing values ... \n",
      "replacing KBA05_ALTER4 missing values ... \n",
      "replacing KBA05_ANHANG missing values ... \n",
      "replacing KBA05_ANTG1 missing values ... \n",
      "replacing KBA05_ANTG2 missing values ... \n",
      "replacing KBA05_ANTG3 missing values ... \n",
      "replacing KBA05_ANTG4 missing values ... \n",
      "replacing KBA05_AUTOQUOT missing values ... \n",
      "replacing KBA05_BAUMAX missing values ... \n",
      "replacing KBA05_CCM1 missing values ... \n",
      "replacing KBA05_CCM2 missing values ... \n",
      "replacing KBA05_CCM3 missing values ... \n",
      "replacing KBA05_CCM4 missing values ... \n",
      "replacing KBA05_DIESEL missing values ... \n",
      "replacing KBA05_FRAU missing values ... \n",
      "replacing KBA05_GBZ missing values ... \n",
      "replacing KBA05_HERST1 missing values ... \n",
      "replacing KBA05_HERST2 missing values ... \n",
      "replacing KBA05_HERST3 missing values ... \n",
      "replacing KBA05_HERST4 missing values ... \n",
      "replacing KBA05_HERST5 missing values ... \n",
      "replacing KBA05_HERSTTEMP missing values ... \n"
     ]
    },
    {
     "name": "stdout",
     "output_type": "stream",
     "text": [
      "replacing KBA05_KRSAQUOT missing values ... \n",
      "replacing KBA05_KRSHERST1 missing values ... \n",
      "replacing KBA05_KRSHERST2 missing values ... \n",
      "replacing KBA05_KRSHERST3 missing values ... \n",
      "replacing KBA05_KRSKLEIN missing values ... \n",
      "replacing KBA05_KRSOBER missing values ... \n",
      "replacing KBA05_KRSVAN missing values ... \n",
      "replacing KBA05_KRSZUL missing values ... \n",
      "replacing KBA05_KW1 missing values ... \n",
      "replacing KBA05_KW2 missing values ... \n",
      "replacing KBA05_KW3 missing values ... \n",
      "replacing KBA05_MAXAH missing values ... \n",
      "replacing KBA05_MAXBJ missing values ... \n",
      "replacing KBA05_MAXHERST missing values ... \n",
      "replacing KBA05_MAXSEG missing values ... \n",
      "replacing KBA05_MAXVORB missing values ... \n",
      "replacing KBA05_MOD1 missing values ... \n",
      "replacing KBA05_MOD2 missing values ... \n",
      "replacing KBA05_MOD3 missing values ... \n",
      "replacing KBA05_MOD4 missing values ... \n",
      "replacing KBA05_MOD8 missing values ... \n",
      "replacing KBA05_MODTEMP missing values ... \n",
      "replacing KBA05_MOTOR missing values ... \n",
      "replacing KBA05_MOTRAD missing values ... \n",
      "replacing KBA05_SEG1 missing values ... \n",
      "replacing KBA05_SEG10 missing values ... \n",
      "replacing KBA05_SEG2 missing values ... \n",
      "replacing KBA05_SEG3 missing values ... \n",
      "replacing KBA05_SEG4 missing values ... \n",
      "replacing KBA05_SEG5 missing values ... \n",
      "replacing KBA05_SEG6 missing values ... \n",
      "replacing KBA05_SEG7 missing values ... \n",
      "replacing KBA05_SEG8 missing values ... \n",
      "replacing KBA05_SEG9 missing values ... \n",
      "replacing KBA05_VORB0 missing values ... \n",
      "replacing KBA05_VORB1 missing values ... \n",
      "replacing KBA05_VORB2 missing values ... \n",
      "replacing KBA05_ZUL1 missing values ... \n",
      "replacing KBA05_ZUL2 missing values ... \n",
      "replacing KBA05_ZUL3 missing values ... \n",
      "replacing KBA05_ZUL4 missing values ... \n",
      "replacing KBA13_ALTERHALTER_30 missing values ... \n",
      "replacing KBA13_ALTERHALTER_45 missing values ... \n",
      "replacing KBA13_ALTERHALTER_60 missing values ... \n",
      "replacing KBA13_ALTERHALTER_61 missing values ... \n",
      "replacing KBA13_ANZAHL_PKW missing values ... \n",
      "replacing KBA13_AUDI missing values ... \n",
      "replacing KBA13_AUTOQUOTE missing values ... \n",
      "replacing KBA13_BJ_1999 missing values ... \n",
      "replacing KBA13_BJ_2000 missing values ... \n",
      "replacing KBA13_BJ_2004 missing values ... \n",
      "replacing KBA13_BJ_2006 missing values ... \n",
      "replacing KBA13_BJ_2008 missing values ... \n",
      "replacing KBA13_BJ_2009 missing values ... \n",
      "replacing KBA13_BMW missing values ... \n",
      "replacing KBA13_CCM_1000 missing values ... \n",
      "replacing KBA13_CCM_1200 missing values ... \n",
      "replacing KBA13_CCM_1400 missing values ... \n",
      "replacing KBA13_CCM_0_1400 missing values ... \n",
      "replacing KBA13_CCM_1500 missing values ... \n",
      "replacing KBA13_CCM_1600 missing values ... \n",
      "replacing KBA13_CCM_1800 missing values ... \n",
      "replacing KBA13_CCM_2000 missing values ... \n",
      "replacing KBA13_CCM_2500 missing values ... \n",
      "replacing KBA13_CCM_2501 missing values ... \n",
      "replacing KBA13_CCM_3000 missing values ... \n",
      "replacing KBA13_CCM_3001 missing values ... \n",
      "replacing KBA13_FAB_ASIEN missing values ... \n",
      "replacing KBA13_FAB_SONSTIGE missing values ... \n",
      "replacing KBA13_FIAT missing values ... \n",
      "replacing KBA13_FORD missing values ... \n",
      "replacing KBA13_HALTER_20 missing values ... \n",
      "replacing KBA13_HALTER_25 missing values ... \n",
      "replacing KBA13_HALTER_30 missing values ... \n",
      "replacing KBA13_HALTER_35 missing values ... \n",
      "replacing KBA13_HALTER_40 missing values ... \n",
      "replacing KBA13_HALTER_45 missing values ... \n",
      "replacing KBA13_HALTER_50 missing values ... \n",
      "replacing KBA13_HALTER_55 missing values ... \n",
      "replacing KBA13_HALTER_60 missing values ... \n",
      "replacing KBA13_HALTER_65 missing values ... \n",
      "replacing KBA13_HALTER_66 missing values ... \n",
      "replacing KBA13_HERST_ASIEN missing values ... \n",
      "replacing KBA13_HERST_AUDI_VW missing values ... \n",
      "replacing KBA13_HERST_BMW_BENZ missing values ... \n",
      "replacing KBA13_HERST_EUROPA missing values ... \n",
      "replacing KBA13_HERST_FORD_OPEL missing values ... \n",
      "replacing KBA13_HERST_SONST missing values ... \n",
      "replacing KBA13_KMH_110 missing values ... \n",
      "replacing KBA13_KMH_140 missing values ... \n",
      "replacing KBA13_KMH_180 missing values ... \n",
      "replacing KBA13_KMH_0_140 missing values ... \n",
      "replacing KBA13_KMH_140_210 missing values ... \n",
      "replacing KBA13_KMH_211 missing values ... \n",
      "replacing KBA13_KMH_250 missing values ... \n",
      "replacing KBA13_KMH_251 missing values ... \n",
      "replacing KBA13_KRSAQUOT missing values ... \n",
      "replacing KBA13_KRSHERST_AUDI_VW missing values ... \n",
      "replacing KBA13_KRSHERST_BMW_BENZ missing values ... \n",
      "replacing KBA13_KRSHERST_FORD_OPEL missing values ... \n",
      "replacing KBA13_KRSSEG_KLEIN missing values ... \n",
      "replacing KBA13_KRSSEG_OBER missing values ... \n",
      "replacing KBA13_KRSSEG_VAN missing values ... \n",
      "replacing KBA13_KRSZUL_NEU missing values ... \n",
      "replacing KBA13_KW_30 missing values ... \n",
      "replacing KBA13_KW_40 missing values ... \n",
      "replacing KBA13_KW_50 missing values ... \n",
      "replacing KBA13_KW_60 missing values ... \n",
      "replacing KBA13_KW_0_60 missing values ... \n",
      "replacing KBA13_KW_70 missing values ... \n",
      "replacing KBA13_KW_61_120 missing values ... \n",
      "replacing KBA13_KW_80 missing values ... \n",
      "replacing KBA13_KW_90 missing values ... \n",
      "replacing KBA13_KW_110 missing values ... \n",
      "replacing KBA13_KW_120 missing values ... \n",
      "replacing KBA13_KW_121 missing values ... \n",
      "replacing KBA13_MAZDA missing values ... \n",
      "replacing KBA13_MERCEDES missing values ... \n",
      "replacing KBA13_MOTOR missing values ... \n",
      "replacing KBA13_NISSAN missing values ... \n",
      "replacing KBA13_OPEL missing values ... \n",
      "replacing KBA13_PEUGEOT missing values ... \n",
      "replacing KBA13_RENAULT missing values ... \n",
      "replacing KBA13_SEG_GELAENDEWAGEN missing values ... \n",
      "replacing KBA13_SEG_GROSSRAUMVANS missing values ... \n",
      "replacing KBA13_SEG_KLEINST missing values ... \n",
      "replacing KBA13_SEG_KLEINWAGEN missing values ... \n",
      "replacing KBA13_SEG_KOMPAKTKLASSE missing values ... \n",
      "replacing KBA13_SEG_MINIVANS missing values ... \n",
      "replacing KBA13_SEG_MINIWAGEN missing values ... \n",
      "replacing KBA13_SEG_MITTELKLASSE missing values ... \n",
      "replacing KBA13_SEG_OBEREMITTELKLASSE missing values ... \n",
      "replacing KBA13_SEG_OBERKLASSE missing values ... \n",
      "replacing KBA13_SEG_SONSTIGE missing values ... \n",
      "replacing KBA13_SEG_SPORTWAGEN missing values ... \n",
      "replacing KBA13_SEG_UTILITIES missing values ... \n",
      "replacing KBA13_SEG_VAN missing values ... \n",
      "replacing KBA13_SEG_WOHNMOBILE missing values ... \n",
      "replacing KBA13_SITZE_4 missing values ... \n",
      "replacing KBA13_SITZE_5 missing values ... \n",
      "replacing KBA13_SITZE_6 missing values ... \n",
      "replacing KBA13_TOYOTA missing values ... \n",
      "replacing KBA13_VORB_0 missing values ... \n",
      "replacing KBA13_VORB_1 missing values ... \n",
      "replacing KBA13_VORB_1_2 missing values ... \n",
      "replacing KBA13_VORB_2 missing values ... \n",
      "replacing KBA13_VORB_3 missing values ... \n",
      "replacing KBA13_VW missing values ... \n",
      "replacing KKK missing values ... \n",
      "replacing KONSUMNAEHE missing values ... \n",
      "replacing LP_FAMILIE_FEIN missing values ... \n",
      "replacing LP_FAMILIE_GROB missing values ... \n",
      "replacing LP_LEBENSPHASE_FEIN missing values ... \n",
      "replacing LP_LEBENSPHASE_GROB missing values ... \n",
      "replacing LP_STATUS_FEIN missing values ... \n",
      "replacing LP_STATUS_GROB missing values ... \n",
      "replacing MIN_GEBAEUDEJAHR missing values ... \n",
      "replacing MOBI_REGIO missing values ... \n",
      "replacing NATIONALITAET_KZ missing values ... \n",
      "replacing ONLINE_AFFINITAET missing values ... \n",
      "replacing ORTSGR_KLS9 missing values ... \n",
      "replacing OST_WEST_KZ missing values ... \n",
      "replacing PLZ8_ANTG1 missing values ... \n",
      "replacing PLZ8_ANTG2 missing values ... \n",
      "replacing PLZ8_ANTG3 missing values ... \n",
      "replacing PLZ8_ANTG4 missing values ... \n",
      "replacing PLZ8_BAUMAX missing values ... \n",
      "replacing PLZ8_GBZ missing values ... \n",
      "replacing PLZ8_HHZ missing values ... \n",
      "replacing PRAEGENDE_JUGENDJAHRE missing values ... \n",
      "replacing REGIOTYP missing values ... \n",
      "replacing RELAT_AB missing values ... \n",
      "replacing RETOURTYP_BK_S missing values ... \n",
      "replacing SEMIO_DOM missing values ... \n",
      "replacing SEMIO_ERL missing values ... \n",
      "replacing SEMIO_FAM missing values ... \n",
      "replacing SEMIO_KAEM missing values ... \n",
      "replacing SEMIO_KRIT missing values ... \n",
      "replacing SEMIO_KULT missing values ... \n",
      "replacing SEMIO_LUST missing values ... \n",
      "replacing SEMIO_MAT missing values ... \n",
      "replacing SEMIO_PFLICHT missing values ... \n",
      "replacing SEMIO_RAT missing values ... \n",
      "replacing SEMIO_REL missing values ... \n",
      "replacing SEMIO_SOZ missing values ... \n",
      "replacing SEMIO_TRADV missing values ... \n"
     ]
    },
    {
     "name": "stdout",
     "output_type": "stream",
     "text": [
      "replacing SEMIO_VERT missing values ... \n",
      "replacing SHOPPER_TYP missing values ... \n",
      "replacing SOHO_KZ missing values ... \n",
      "replacing TITEL_KZ missing values ... \n",
      "replacing VERS_TYP missing values ... \n",
      "replacing WOHNDAUER_2008 missing values ... \n",
      "replacing WOHNLAGE missing values ... \n",
      "replacing W_KEIT_KIND_HH missing values ... \n",
      "replacing ZABEOTYP missing values ... \n",
      "replacing ARBEIT missing values ... \n",
      "replacing AKT_DAT_KL missing values ... \n",
      "replacing ALTERSKATEGORIE_FEIN missing values ... \n",
      "replacing ALTER_KIND1 missing values ... \n",
      "replacing ALTER_KIND2 missing values ... \n",
      "replacing ALTER_KIND3 missing values ... \n",
      "replacing ALTER_KIND4 missing values ... \n",
      "replacing ANZ_KINDER missing values ... \n",
      "replacing ANZ_STATISTISCHE_HAUSHALTE missing values ... \n",
      "replacing CJT_KATALOGNUTZER missing values ... \n",
      "replacing CJT_TYP_1 missing values ... \n",
      "replacing CJT_TYP_2 missing values ... \n",
      "replacing CJT_TYP_3 missing values ... \n",
      "replacing CJT_TYP_4 missing values ... \n",
      "replacing CJT_TYP_5 missing values ... \n",
      "replacing CJT_TYP_6 missing values ... \n",
      "replacing D19_KONSUMTYP_MAX missing values ... \n",
      "replacing D19_SOZIALES missing values ... \n",
      "replacing D19_TELKO_ONLINE_QUOTE_12 missing values ... \n",
      "replacing D19_VERSI_DATUM missing values ... \n",
      "replacing D19_VERSI_OFFLINE_DATUM missing values ... \n",
      "replacing D19_VERSI_ONLINE_DATUM missing values ... \n",
      "replacing D19_VERSI_ONLINE_QUOTE_12 missing values ... \n",
      "replacing DSL_FLAG missing values ... \n",
      "replacing EINGEZOGENAM_HH_JAHR missing values ... \n",
      "replacing EXTSEL992 missing values ... \n",
      "replacing FIRMENDICHTE missing values ... \n",
      "replacing HH_DELTA_FLAG missing values ... \n",
      "replacing KBA13_ANTG1 missing values ... \n",
      "replacing KBA13_ANTG2 missing values ... \n",
      "replacing KBA13_ANTG3 missing values ... \n",
      "replacing KBA13_ANTG4 missing values ... \n",
      "replacing KBA13_CCM_1401_2500 missing values ... \n",
      "replacing KBA13_GBZ missing values ... \n",
      "replacing KBA13_HHZ missing values ... \n",
      "replacing KBA13_KMH_210 missing values ... \n",
      "replacing KOMBIALTER missing values ... \n",
      "replacing KONSUMZELLE missing values ... \n",
      "replacing MOBI_RASTER missing values ... \n",
      "replacing RT_KEIN_ANREIZ missing values ... \n",
      "replacing RT_SCHNAEPPCHEN missing values ... \n",
      "replacing RT_UEBERGROESSE missing values ... \n",
      "replacing STRUKTURTYP missing values ... \n",
      "replacing UMFELD_ALT missing values ... \n",
      "replacing UMFELD_JUNG missing values ... \n",
      "replacing UNGLEICHENN_FLAG missing values ... \n",
      "replacing VERDICHTUNGSRAUM missing values ... \n",
      "replacing VHA missing values ... \n",
      "replacing VHN missing values ... \n",
      "replacing VK_DHT4A missing values ... \n",
      "replacing VK_DISTANZ missing values ... \n",
      "replacing VK_ZG11 missing values ... \n",
      "replacing KBA13_BAUMAX missing values ... \n",
      "replacing GEMEINDETYP missing values ... \n",
      "replacing D19_LETZTER_KAUF_BRANCHE missing values ... \n",
      "There are 366 columns\n",
      "There are 364 columns\n",
      "There are 363 columns\n"
     ]
    }
   ],
   "source": [
    "customers_nan = process_missing_value.transform(customers_orig)\n",
    "mailout_train_nan = process_missing_value.transform(mailout_train)\n",
    "mailout_test_nan = process_missing_value.transform(mailout_test)\n",
    "print(f'There are {customers_nan.shape[1]} columns')\n",
    "print(f'There are {mailout_train_nan.shape[1]} columns')\n",
    "print(f'There are {mailout_test_nan.shape[1]} columns')"
   ]
  },
  {
   "cell_type": "code",
   "execution_count": 25,
   "metadata": {},
   "outputs": [],
   "source": [
    "# # save processed data to csv, use index=False to skip index\n",
    "# azdias_nan.to_csv('./data/azdias_nan.csv', sep=';', index = False)\n",
    "# customers_nan.to_csv('./data/customers_nan.csv', sep=';', index = False)\n",
    "# mailout_train_nan.to_csv('./data/mailout_train_nan.csv', sep=';', index = False)\n",
    "# mailout_test_nan.to_csv('./data/mailout_test_nan.csv', sep=';', index = False)"
   ]
  },
  {
   "cell_type": "code",
   "execution_count": 26,
   "metadata": {},
   "outputs": [],
   "source": [
    "# # reload processed data\n",
    "# azdias_nan = pd.read_csv('./data/azdias_nan.csv', sep=';')\n",
    "# customers_nan = pd.read_csv('./data/customers_nan.csv', sep=';')\n",
    "# mailout_train_nan = pd.read_csv('./data/mailout_train_nan.csv', sep=';')\n",
    "# mailout_test_nan = pd.read_csv('./data/mailout_test_nan.csv', sep=';')"
   ]
  },
  {
   "cell_type": "code",
   "execution_count": 27,
   "metadata": {},
   "outputs": [
    {
     "data": {
      "text/html": [
       "<div>\n",
       "<style scoped>\n",
       "    .dataframe tbody tr th:only-of-type {\n",
       "        vertical-align: middle;\n",
       "    }\n",
       "\n",
       "    .dataframe tbody tr th {\n",
       "        vertical-align: top;\n",
       "    }\n",
       "\n",
       "    .dataframe thead th {\n",
       "        text-align: right;\n",
       "    }\n",
       "</style>\n",
       "<table border=\"1\" class=\"dataframe\">\n",
       "  <thead>\n",
       "    <tr style=\"text-align: right;\">\n",
       "      <th></th>\n",
       "      <th>AGER_TYP</th>\n",
       "      <th>AKT_DAT_KL</th>\n",
       "      <th>ALTER_HH</th>\n",
       "      <th>ALTER_KIND1</th>\n",
       "      <th>ALTER_KIND2</th>\n",
       "      <th>ALTER_KIND3</th>\n",
       "      <th>ALTER_KIND4</th>\n",
       "      <th>ALTERSKATEGORIE_FEIN</th>\n",
       "      <th>ANZ_HAUSHALTE_AKTIV</th>\n",
       "      <th>ANZ_HH_TITEL</th>\n",
       "      <th>...</th>\n",
       "      <th>VHN</th>\n",
       "      <th>VK_DHT4A</th>\n",
       "      <th>VK_DISTANZ</th>\n",
       "      <th>VK_ZG11</th>\n",
       "      <th>W_KEIT_KIND_HH</th>\n",
       "      <th>WOHNDAUER_2008</th>\n",
       "      <th>WOHNLAGE</th>\n",
       "      <th>ZABEOTYP</th>\n",
       "      <th>ANREDE_KZ</th>\n",
       "      <th>ALTERSKATEGORIE_GROB</th>\n",
       "    </tr>\n",
       "  </thead>\n",
       "  <tbody>\n",
       "    <tr>\n",
       "      <th>0</th>\n",
       "      <td>NaN</td>\n",
       "      <td>NaN</td>\n",
       "      <td>NaN</td>\n",
       "      <td>NaN</td>\n",
       "      <td>NaN</td>\n",
       "      <td>NaN</td>\n",
       "      <td>NaN</td>\n",
       "      <td>NaN</td>\n",
       "      <td>NaN</td>\n",
       "      <td>NaN</td>\n",
       "      <td>...</td>\n",
       "      <td>NaN</td>\n",
       "      <td>NaN</td>\n",
       "      <td>NaN</td>\n",
       "      <td>NaN</td>\n",
       "      <td>NaN</td>\n",
       "      <td>NaN</td>\n",
       "      <td>NaN</td>\n",
       "      <td>3.0</td>\n",
       "      <td>1.0</td>\n",
       "      <td>2.0</td>\n",
       "    </tr>\n",
       "    <tr>\n",
       "      <th>1</th>\n",
       "      <td>NaN</td>\n",
       "      <td>9.0</td>\n",
       "      <td>NaN</td>\n",
       "      <td>NaN</td>\n",
       "      <td>NaN</td>\n",
       "      <td>NaN</td>\n",
       "      <td>NaN</td>\n",
       "      <td>21.0</td>\n",
       "      <td>11.0</td>\n",
       "      <td>0.0</td>\n",
       "      <td>...</td>\n",
       "      <td>4.0</td>\n",
       "      <td>8.0</td>\n",
       "      <td>11.0</td>\n",
       "      <td>10.0</td>\n",
       "      <td>3.0</td>\n",
       "      <td>9.0</td>\n",
       "      <td>4.0</td>\n",
       "      <td>5.0</td>\n",
       "      <td>2.0</td>\n",
       "      <td>1.0</td>\n",
       "    </tr>\n",
       "    <tr>\n",
       "      <th>2</th>\n",
       "      <td>NaN</td>\n",
       "      <td>9.0</td>\n",
       "      <td>17.0</td>\n",
       "      <td>NaN</td>\n",
       "      <td>NaN</td>\n",
       "      <td>NaN</td>\n",
       "      <td>NaN</td>\n",
       "      <td>17.0</td>\n",
       "      <td>10.0</td>\n",
       "      <td>0.0</td>\n",
       "      <td>...</td>\n",
       "      <td>2.0</td>\n",
       "      <td>9.0</td>\n",
       "      <td>9.0</td>\n",
       "      <td>6.0</td>\n",
       "      <td>3.0</td>\n",
       "      <td>9.0</td>\n",
       "      <td>2.0</td>\n",
       "      <td>5.0</td>\n",
       "      <td>2.0</td>\n",
       "      <td>3.0</td>\n",
       "    </tr>\n",
       "    <tr>\n",
       "      <th>3</th>\n",
       "      <td>2.0</td>\n",
       "      <td>1.0</td>\n",
       "      <td>13.0</td>\n",
       "      <td>NaN</td>\n",
       "      <td>NaN</td>\n",
       "      <td>NaN</td>\n",
       "      <td>NaN</td>\n",
       "      <td>13.0</td>\n",
       "      <td>1.0</td>\n",
       "      <td>0.0</td>\n",
       "      <td>...</td>\n",
       "      <td>0.0</td>\n",
       "      <td>7.0</td>\n",
       "      <td>10.0</td>\n",
       "      <td>11.0</td>\n",
       "      <td>NaN</td>\n",
       "      <td>9.0</td>\n",
       "      <td>7.0</td>\n",
       "      <td>3.0</td>\n",
       "      <td>2.0</td>\n",
       "      <td>4.0</td>\n",
       "    </tr>\n",
       "    <tr>\n",
       "      <th>4</th>\n",
       "      <td>NaN</td>\n",
       "      <td>1.0</td>\n",
       "      <td>20.0</td>\n",
       "      <td>NaN</td>\n",
       "      <td>NaN</td>\n",
       "      <td>NaN</td>\n",
       "      <td>NaN</td>\n",
       "      <td>14.0</td>\n",
       "      <td>3.0</td>\n",
       "      <td>0.0</td>\n",
       "      <td>...</td>\n",
       "      <td>2.0</td>\n",
       "      <td>3.0</td>\n",
       "      <td>5.0</td>\n",
       "      <td>4.0</td>\n",
       "      <td>2.0</td>\n",
       "      <td>9.0</td>\n",
       "      <td>3.0</td>\n",
       "      <td>4.0</td>\n",
       "      <td>1.0</td>\n",
       "      <td>3.0</td>\n",
       "    </tr>\n",
       "  </tbody>\n",
       "</table>\n",
       "<p>5 rows × 363 columns</p>\n",
       "</div>"
      ],
      "text/plain": [
       "   AGER_TYP  AKT_DAT_KL  ALTER_HH  ALTER_KIND1  ALTER_KIND2  ALTER_KIND3  \\\n",
       "0       NaN         NaN       NaN          NaN          NaN          NaN   \n",
       "1       NaN         9.0       NaN          NaN          NaN          NaN   \n",
       "2       NaN         9.0      17.0          NaN          NaN          NaN   \n",
       "3       2.0         1.0      13.0          NaN          NaN          NaN   \n",
       "4       NaN         1.0      20.0          NaN          NaN          NaN   \n",
       "\n",
       "   ALTER_KIND4  ALTERSKATEGORIE_FEIN  ANZ_HAUSHALTE_AKTIV  ANZ_HH_TITEL  ...  \\\n",
       "0          NaN                   NaN                  NaN           NaN  ...   \n",
       "1          NaN                  21.0                 11.0           0.0  ...   \n",
       "2          NaN                  17.0                 10.0           0.0  ...   \n",
       "3          NaN                  13.0                  1.0           0.0  ...   \n",
       "4          NaN                  14.0                  3.0           0.0  ...   \n",
       "\n",
       "   VHN  VK_DHT4A  VK_DISTANZ  VK_ZG11  W_KEIT_KIND_HH  WOHNDAUER_2008  \\\n",
       "0  NaN       NaN         NaN      NaN             NaN             NaN   \n",
       "1  4.0       8.0        11.0     10.0             3.0             9.0   \n",
       "2  2.0       9.0         9.0      6.0             3.0             9.0   \n",
       "3  0.0       7.0        10.0     11.0             NaN             9.0   \n",
       "4  2.0       3.0         5.0      4.0             2.0             9.0   \n",
       "\n",
       "  WOHNLAGE ZABEOTYP ANREDE_KZ  ALTERSKATEGORIE_GROB  \n",
       "0      NaN      3.0       1.0                   2.0  \n",
       "1      4.0      5.0       2.0                   1.0  \n",
       "2      2.0      5.0       2.0                   3.0  \n",
       "3      7.0      3.0       2.0                   4.0  \n",
       "4      3.0      4.0       1.0                   3.0  \n",
       "\n",
       "[5 rows x 363 columns]"
      ]
     },
     "execution_count": 27,
     "metadata": {},
     "output_type": "execute_result"
    }
   ],
   "source": [
    "azdias_nan.head()"
   ]
  },
  {
   "cell_type": "markdown",
   "metadata": {},
   "source": [
    "## find out how many missing values per column"
   ]
  },
  {
   "cell_type": "code",
   "execution_count": 29,
   "metadata": {},
   "outputs": [
    {
     "name": "stdout",
     "output_type": "stream",
     "text": [
      "0.11522814324037693\n"
     ]
    },
    {
     "data": {
      "image/png": "[encoded data removed]",
      "text/plain": [
       "<Figure size 1224x432 with 1 Axes>"
      ]
     },
     "metadata": {
      "needs_background": "light"
     },
     "output_type": "display_data"
    }
   ],
   "source": [
    "nan_num_frac = azdias_nan.isnull().mean()\n",
    "print (nan_num_frac.mean())\n",
    "\n",
    "nan_num_frac.plot(kind='bar', figsize=(17, 6))\n",
    "plt.xticks([])\n",
    "plt.show()"
   ]
  },
  {
   "cell_type": "code",
   "execution_count": 30,
   "metadata": {},
   "outputs": [
    {
     "data": {
      "text/plain": [
       "ALTER_KIND4                    0.998648\n",
       "TITEL_KZ                       0.997576\n",
       "ALTER_KIND3                    0.993077\n",
       "ALTER_KIND2                    0.966900\n",
       "ALTER_KIND1                    0.909048\n",
       "AGER_TYP                       0.769554\n",
       "EXTSEL992                      0.733996\n",
       "KBA05_BAUMAX                   0.534687\n",
       "GEBURTSJAHR                    0.440203\n",
       "ALTER_HH                       0.348137\n",
       "ALTERSKATEGORIE_FEIN           0.341257\n",
       "D19_TELKO_ONLINE_QUOTE_12      0.288495\n",
       "D19_VERSI_ONLINE_QUOTE_12      0.288495\n",
       "D19_VERSAND_ONLINE_QUOTE_12    0.288495\n",
       "D19_LETZTER_KAUF_BRANCHE       0.288495\n",
       "D19_SOZIALES                   0.288495\n",
       "D19_LOTTO                      0.288495\n",
       "D19_KONSUMTYP                  0.288495\n",
       "D19_GESAMT_ONLINE_QUOTE_12     0.288495\n",
       "D19_BANKEN_ONLINE_QUOTE_12     0.288495\n",
       "dtype: float64"
      ]
     },
     "execution_count": 30,
     "metadata": {},
     "output_type": "execute_result"
    }
   ],
   "source": [
    "nan_num_sorted_frac = azdias_nan.isnull().mean().sort_values(ascending=False)\n",
    "nan_num_sorted_frac.head(20)"
   ]
  },
  {
   "cell_type": "markdown",
   "metadata": {},
   "source": [
    "If the fraction of missing values is too large, it's not very reasonable to include the attribute for data analysis and modeling. Base on the plot and the missing value fraction numbers, a reasonable cutoff line is 0.3."
   ]
  },
  {
   "cell_type": "markdown",
   "metadata": {},
   "source": [
    "There are 11 attributes with more then 30% missing values"
   ]
  },
  {
   "cell_type": "code",
   "execution_count": 31,
   "metadata": {},
   "outputs": [
    {
     "data": {
      "text/plain": [
       "11"
      ]
     },
     "execution_count": 31,
     "metadata": {},
     "output_type": "execute_result"
    }
   ],
   "source": [
    "len(nan_num_sorted_frac[nan_num_sorted_frac>0.30].sort_index())"
   ]
  },
  {
   "cell_type": "markdown",
   "metadata": {},
   "source": [
    "Now, let drop these columns for all dataframes"
   ]
  },
  {
   "cell_type": "code",
   "execution_count": 33,
   "metadata": {},
   "outputs": [
    {
     "name": "stdout",
     "output_type": "stream",
     "text": [
      "Dropping these columns ['AGER_TYP', 'ALTER_HH', 'ALTER_KIND1', 'ALTER_KIND2', 'ALTER_KIND3', 'ALTER_KIND4', 'ALTERSKATEGORIE_FEIN', 'EXTSEL992', 'GEBURTSJAHR', 'KBA05_BAUMAX', 'TITEL_KZ']\n",
      "Dropping 11 columns\n",
      "\n",
      "The shape of data frame beofre dropping is (891221, 363)\n",
      "The shape of data frame after dropping is (891221, 352)\n",
      "\n",
      "The shape of data frame beofre dropping is (191652, 366)\n",
      "The shape of data frame after dropping is (191652, 355)\n",
      "\n",
      "The shape of data frame beofre dropping is (42962, 364)\n",
      "The shape of data frame after dropping is (42962, 353)\n",
      "\n",
      "The shape of data frame beofre dropping is (42833, 363)\n",
      "The shape of data frame after dropping is (42833, 352)\n"
     ]
    }
   ],
   "source": [
    "# drop columns with more than 60% missing values\n",
    "threshold = 0.30\n",
    "columns_nan = azdias_nan.columns\n",
    "columns_nan\n",
    "columns_nan_to_drop = list(nan_num_frac[nan_num_frac > threshold].index)\n",
    "print('Dropping these columns', columns_nan_to_drop)\n",
    "print(f'Dropping {len(columns_nan_to_drop)} columns')\n",
    "print ()\n",
    "print('The shape of data frame beofre dropping is', azdias_nan.shape)\n",
    "azdias_select_cols = azdias_nan.drop(columns_nan_to_drop, axis=1, inplace=False)\n",
    "print('The shape of data frame after dropping is', azdias_select_cols.shape)\n",
    "print ()\n",
    "print('The shape of data frame beofre dropping is', customers_nan.shape)\n",
    "customers_select_cols = customers_nan.drop(columns_nan_to_drop, axis=1, inplace=False)\n",
    "print('The shape of data frame after dropping is', customers_select_cols.shape)\n",
    "print ()\n",
    "print('The shape of data frame beofre dropping is', mailout_train_nan.shape)\n",
    "mailout_train_select_cols = mailout_train_nan.drop(columns_nan_to_drop, axis=1, inplace=False)\n",
    "print('The shape of data frame after dropping is', mailout_train_select_cols.shape)\n",
    "print ()\n",
    "print('The shape of data frame beofre dropping is', mailout_test_nan.shape)\n",
    "mailout_test_select_cols = mailout_test_nan.drop(columns_nan_to_drop, axis=1, inplace=False)\n",
    "print('The shape of data frame after dropping is', mailout_test_select_cols.shape)"
   ]
  },
  {
   "cell_type": "code",
   "execution_count": 34,
   "metadata": {},
   "outputs": [
    {
     "name": "stdout",
     "output_type": "stream",
     "text": [
      "0.09600776184888739\n"
     ]
    },
    {
     "data": {
      "image/png": "[encoded data removed]",
      "text/plain": [
       "<Figure size 1224x432 with 1 Axes>"
      ]
     },
     "metadata": {
      "needs_background": "light"
     },
     "output_type": "display_data"
    }
   ],
   "source": [
    "nan_num_frac = azdias_select_cols.isnull().mean()\n",
    "print (nan_num_frac.mean())\n",
    "\n",
    "nan_num_frac.plot(kind='bar', figsize=(17, 6))\n",
    "plt.xticks([])\n",
    "plt.ylim(0, 1.05)\n",
    "plt.show()"
   ]
  },
  {
   "cell_type": "markdown",
   "metadata": {},
   "source": [
    "### Select and Re-Encode Features"
   ]
  },
  {
   "cell_type": "code",
   "execution_count": 36,
   "metadata": {},
   "outputs": [
    {
     "name": "stdout",
     "output_type": "stream",
     "text": [
      "categorical     49\n",
      "mixed            7\n",
      "numeric         13\n",
      "onehot           1\n",
      "ordinal        283\n",
      "Name: type, dtype: int64\n"
     ]
    },
    {
     "data": {
      "text/plain": [
       "<matplotlib.axes._subplots.AxesSubplot at 0x17648a166a0>"
      ]
     },
     "execution_count": 36,
     "metadata": {},
     "output_type": "execute_result"
    },
    {
     "data": {
      "image/png": "[encoded data removed]",
      "text/plain": [
       "<Figure size 432x288 with 1 Axes>"
      ]
     },
     "metadata": {
      "needs_background": "light"
     },
     "output_type": "display_data"
    }
   ],
   "source": [
    "# summarize feature types\n",
    "current_cols = list(azdias_select_cols.columns)\n",
    "current_azdias_attribute_info = azdias_attribute_info[azdias_attribute_info.attribute.isin(current_cols)]\n",
    "print(current_azdias_attribute_info.type.value_counts().sort_index())\n",
    "current_azdias_attribute_info.type.value_counts().sort_index().plot(kind='bar')"
   ]
  },
  {
   "cell_type": "markdown",
   "metadata": {},
   "source": [
    "### Categorical Features"
   ]
  },
  {
   "cell_type": "markdown",
   "metadata": {},
   "source": [
    "print all categorical feature unique values"
   ]
  },
  {
   "cell_type": "code",
   "execution_count": 37,
   "metadata": {},
   "outputs": [
    {
     "name": "stdout",
     "output_type": "stream",
     "text": [
      "ANREDE_KZ: [1. 2.]\n",
      "CAMEO_DEUG_2015: [nan 8.0 4.0 2.0 6.0 1.0 9.0 5.0 7.0 3.0 '4' '3' '7' '2' '8' '9' '6' '5'\n",
      " '1']\n",
      "CAMEO_DEU_2015: [nan '8A' '4C' '2A' '6B' '8C' '4A' '2D' '1A' '1E' '9D' '5C' '8B' '7A' '5D'\n",
      " '9E' '9B' '1B' '3D' '4E' '4B' '3C' '5A' '7B' '9A' '6D' '6E' '2C' '7C'\n",
      " '9C' '7D' '5E' '1D' '8D' '6C' '6A' '5B' '4D' '3A' '2B' '7E' '3B' '6F'\n",
      " '5F' '1C']\n",
      "CJT_GESAMTTYP: [ 2.  5.  3.  4.  1.  6. nan]\n",
      "D19_BANKEN_DIREKT: [0 1 6 5 4 3 7 2]\n",
      "D19_BANKEN_GROSS: [0 2 6 3 5 1 4]\n",
      "D19_BANKEN_LOKAL: [0 7 3 6 5 2 1 4]\n",
      "GEBAEUDETYP: [nan  8.  1.  3.  2.  6.  4.  5.]\n",
      "GFK_URLAUBERTYP: [10.  1.  5. 12.  9.  3.  8. 11.  4.  2.  7.  6. nan]\n",
      "GREEN_AVANTGARDE: [0 1]\n",
      "KBA05_MODTEMP: [nan  1.  4.  3.  5.  2.  6.]\n",
      "KBA05_SEG6: [nan  1.  0.]\n",
      "LP_FAMILIE_FEIN: [ 2.  5.  1. nan 10.  7. 11.  3.  8.  4.  6.  9.]\n",
      "LP_FAMILIE_GROB: [ 2.  3.  1. nan  5.  4.]\n",
      "LP_STATUS_FEIN: [ 1.  2.  3.  9.  4. 10.  5.  8.  6.  7. nan]\n",
      "LP_STATUS_GROB: [ 1.  2.  4.  5.  3. nan]\n",
      "NATIONALITAET_KZ: [nan  1.  3.  2.]\n",
      "OST_WEST_KZ: [nan 'W' 'O']\n",
      "SHOPPER_TYP: [nan  3.  2.  1.  0.]\n",
      "SOHO_KZ: [nan  1.  0.]\n",
      "VERS_TYP: [nan  2.  1.]\n",
      "ZABEOTYP: [3. 5. 4. 1. 6. 2.]\n",
      "AKT_DAT_KL: [nan  9.  1.  5.  8.  7.  6.  4.  3.  2.]\n",
      "CJT_KATALOGNUTZER: [ 5.  1.  2.  3.  4. nan]\n",
      "CJT_TYP_1: [ 1.  5.  4.  2.  3. nan]\n",
      "CJT_TYP_2: [ 1.  5.  4.  2.  3. nan]\n",
      "CJT_TYP_3: [ 5.  2.  1.  4.  3. nan]\n",
      "CJT_TYP_4: [ 5.  3.  4.  1.  2. nan]\n",
      "CJT_TYP_5: [ 5.  1.  2.  3.  4. nan]\n",
      "CJT_TYP_6: [ 5.  1.  2.  3.  4. nan]\n",
      "D19_KONSUMTYP_MAX: [9 8 1 2 3 4]\n",
      "D19_SOZIALES: [nan  0.  4.  5.  3.  1.  2.]\n",
      "DSL_FLAG: [nan  1.  0.]\n",
      "FIRMENDICHTE: [nan  2.  4.  5.  3.  1.]\n",
      "HH_DELTA_FLAG: [nan  0.  1.]\n",
      "KOMBIALTER: [nan  1.  2.  4.  3.]\n",
      "KONSUMZELLE: [nan  1.  0.]\n",
      "MOBI_RASTER: [nan  1.  2.  4.  3.  5.  6.]\n",
      "RT_KEIN_ANREIZ: [ 1.  5.  3.  4.  2. nan]\n",
      "RT_SCHNAEPPCHEN: [ 4.  3.  2.  5.  1. nan]\n",
      "RT_UEBERGROESSE: [ 1.  5.  3.  4. nan  2.  0.]\n",
      "SOHO_KZ: [nan  1.  0.]\n",
      "STRUKTURTYP: [nan  2.  3.  1.]\n",
      "UMFELD_ALT: [nan  3.  2.  4.  5.  1.]\n",
      "UMFELD_JUNG: [nan  3.  5.  4.  2.  1.]\n",
      "UNGLEICHENN_FLAG: [nan  1.  0.]\n",
      "VHA: [nan  0.  1.  5.  2.  4.  3.]\n",
      "VHN: [nan  4.  2.  0.  1.  3.]\n",
      "GEMEINDETYP: [nan 22. 40. 21. 12. 30. 11. 50.]\n"
     ]
    }
   ],
   "source": [
    "categorical_features = list(current_azdias_attribute_info[current_azdias_attribute_info.type == 'categorical']['attribute'])\n",
    "for col in categorical_features:\n",
    "    print (f'{col}: {azdias_select_cols[col].unique()}')"
   ]
  },
  {
   "cell_type": "markdown",
   "metadata": {},
   "source": [
    "`CAMEO_DEUG_2015` have mixed type, and need to be converted to float"
   ]
  },
  {
   "cell_type": "code",
   "execution_count": 38,
   "metadata": {},
   "outputs": [
    {
     "data": {
      "text/plain": [
       "array([nan,  8.,  4.,  2.,  6.,  1.,  9.,  5.,  7.,  3.])"
      ]
     },
     "execution_count": 38,
     "metadata": {},
     "output_type": "execute_result"
    }
   ],
   "source": [
    "azdias_select_cols['CAMEO_DEUG_2015'] = azdias_select_cols['CAMEO_DEUG_2015'].astype('float32')\n",
    "customers_select_cols['CAMEO_DEUG_2015'] = customers_select_cols['CAMEO_DEUG_2015'].astype('float32')\n",
    "mailout_train_select_cols['CAMEO_DEUG_2015'] = mailout_train_select_cols['CAMEO_DEUG_2015'].astype('float32')\n",
    "mailout_test_select_cols['CAMEO_DEUG_2015'] = mailout_test_select_cols['CAMEO_DEUG_2015'].astype('float32')\n",
    "\n",
    "azdias_select_cols['CAMEO_DEUG_2015'].unique()"
   ]
  },
  {
   "cell_type": "markdown",
   "metadata": {},
   "source": [
    "`OST_WEST_KZ` have non-numerical values, and need to be encoded to binary values"
   ]
  },
  {
   "cell_type": "code",
   "execution_count": 39,
   "metadata": {},
   "outputs": [],
   "source": [
    "# change the non-digit binary category into digits\n",
    "azdias_select_cols.loc[azdias_select_cols['OST_WEST_KZ']=='W','OST_WEST_KZ']=1.\n",
    "azdias_select_cols.loc[azdias_select_cols['OST_WEST_KZ']=='O','OST_WEST_KZ']=2.\n",
    "\n",
    "customers_select_cols.loc[customers_select_cols['OST_WEST_KZ']=='W','OST_WEST_KZ']=1.\n",
    "customers_select_cols.loc[customers_select_cols['OST_WEST_KZ']=='O','OST_WEST_KZ']=2.\n",
    "\n",
    "mailout_train_select_cols.loc[mailout_train_select_cols['OST_WEST_KZ']=='W','OST_WEST_KZ']=1.\n",
    "mailout_train_select_cols.loc[mailout_train_select_cols['OST_WEST_KZ']=='O','OST_WEST_KZ']=2.\n",
    "\n",
    "mailout_test_select_cols.loc[mailout_test_select_cols['OST_WEST_KZ']=='W','OST_WEST_KZ']=1.\n",
    "mailout_test_select_cols.loc[mailout_test_select_cols['OST_WEST_KZ']=='O','OST_WEST_KZ']=2."
   ]
  },
  {
   "cell_type": "markdown",
   "metadata": {},
   "source": [
    "for all categorical attributes, a common missing value handling method is to replace the missing values with the `most_frequent` value for the dataset"
   ]
  },
  {
   "cell_type": "code",
   "execution_count": 40,
   "metadata": {},
   "outputs": [
    {
     "name": "stdout",
     "output_type": "stream",
     "text": [
      "ANREDE_KZ: [1. 2.]\n",
      "CAMEO_DEUG_2015: [8. 4. 2. 6. 1. 9. 5. 7. 3.]\n",
      "CAMEO_DEU_2015: ['6B' '8A' '4C' '2A' '8C' '4A' '2D' '1A' '1E' '9D' '5C' '8B' '7A' '5D'\n",
      " '9E' '9B' '1B' '3D' '4E' '4B' '3C' '5A' '7B' '9A' '6D' '6E' '2C' '7C'\n",
      " '9C' '7D' '5E' '1D' '8D' '6C' '6A' '5B' '4D' '3A' '2B' '7E' '3B' '6F'\n",
      " '5F' '1C']\n",
      "CJT_GESAMTTYP: [2. 5. 3. 4. 1. 6.]\n",
      "D19_BANKEN_DIREKT: [0 1 6 5 4 3 7 2]\n",
      "D19_BANKEN_GROSS: [0 2 6 3 5 1 4]\n",
      "D19_BANKEN_LOKAL: [0 7 3 6 5 2 1 4]\n",
      "GEBAEUDETYP: [1. 8. 3. 2. 6. 4. 5.]\n",
      "GFK_URLAUBERTYP: [10.  1.  5. 12.  9.  3.  8. 11.  4.  2.  7.  6.]\n",
      "GREEN_AVANTGARDE: [0 1]\n",
      "KBA05_MODTEMP: [3. 1. 4. 5. 2. 6.]\n",
      "KBA05_SEG6: [0. 1.]\n",
      "LP_FAMILIE_FEIN: [ 2.  5.  1. 10.  7. 11.  3.  8.  4.  6.  9.]\n",
      "LP_FAMILIE_GROB: [2. 3. 1. 5. 4.]\n",
      "LP_STATUS_FEIN: [ 1.  2.  3.  9.  4. 10.  5.  8.  6.  7.]\n",
      "LP_STATUS_GROB: [1. 2. 4. 5. 3.]\n",
      "NATIONALITAET_KZ: [1. 3. 2.]\n",
      "OST_WEST_KZ: [1. 2.]\n",
      "SHOPPER_TYP: [1. 3. 2. 0.]\n",
      "SOHO_KZ: [0. 1.]\n",
      "VERS_TYP: [2. 1.]\n",
      "ZABEOTYP: [3. 5. 4. 1. 6. 2.]\n",
      "AKT_DAT_KL: [1. 9. 5. 8. 7. 6. 4. 3. 2.]\n",
      "CJT_KATALOGNUTZER: [5. 1. 2. 3. 4.]\n",
      "CJT_TYP_1: [1. 5. 4. 2. 3.]\n",
      "CJT_TYP_2: [1. 5. 4. 2. 3.]\n",
      "CJT_TYP_3: [5. 2. 1. 4. 3.]\n",
      "CJT_TYP_4: [5. 3. 4. 1. 2.]\n",
      "CJT_TYP_5: [5. 1. 2. 3. 4.]\n",
      "CJT_TYP_6: [5. 1. 2. 3. 4.]\n",
      "D19_KONSUMTYP_MAX: [9 8 1 2 3 4]\n",
      "D19_SOZIALES: [0. 4. 5. 3. 1. 2.]\n",
      "DSL_FLAG: [1. 0.]\n",
      "FIRMENDICHTE: [4. 2. 5. 3. 1.]\n",
      "HH_DELTA_FLAG: [0. 1.]\n",
      "KOMBIALTER: [4. 1. 2. 3.]\n",
      "KONSUMZELLE: [0. 1.]\n",
      "MOBI_RASTER: [1. 2. 4. 3. 5. 6.]\n",
      "RT_KEIN_ANREIZ: [1. 5. 3. 4. 2.]\n",
      "RT_SCHNAEPPCHEN: [4. 3. 2. 5. 1.]\n",
      "RT_UEBERGROESSE: [1. 5. 3. 4. 2. 0.]\n",
      "SOHO_KZ: [0. 1.]\n",
      "STRUKTURTYP: [3. 2. 1.]\n",
      "UMFELD_ALT: [4. 3. 2. 5. 1.]\n",
      "UMFELD_JUNG: [5. 3. 4. 2. 1.]\n",
      "UNGLEICHENN_FLAG: [0. 1.]\n",
      "VHA: [0. 1. 5. 2. 4. 3.]\n",
      "VHN: [2. 4. 0. 1. 3.]\n",
      "GEMEINDETYP: [22. 40. 21. 12. 30. 11. 50.]\n"
     ]
    }
   ],
   "source": [
    "# fill missing values with most frequent value\n",
    "imputer = SimpleImputer(strategy='most_frequent')\n",
    "azdias_select_cols[categorical_features] = imputer.fit_transform(azdias_select_cols[categorical_features])\n",
    "customers_select_cols[categorical_features] = imputer.fit_transform(customers_select_cols[categorical_features])\n",
    "\n",
    "mailout_train_select_cols[categorical_features] = imputer.fit_transform(mailout_train_select_cols[categorical_features])\n",
    "mailout_test_select_cols[categorical_features] = imputer.transform(mailout_test_select_cols[categorical_features])\n",
    "\n",
    "for col in categorical_features:\n",
    "    print (f'{col}: {azdias_select_cols[col].unique()}')"
   ]
  },
  {
   "cell_type": "markdown",
   "metadata": {},
   "source": [
    "After further investigating `CAMEO_DEU_2015`, it's very similar to `CAMEO_DEUG_2015`, I decided to drop `CAMEO_DEU_2015` to simplify the dataset"
   ]
  },
  {
   "cell_type": "code",
   "execution_count": 41,
   "metadata": {},
   "outputs": [],
   "source": [
    "# Drop CAMEO_DEU_2015\n",
    "azdias_select_cols.drop('CAMEO_DEU_2015', axis=1, inplace=True)\n",
    "customers_select_cols.drop('CAMEO_DEU_2015', axis=1, inplace=True)\n",
    "mailout_train_select_cols.drop('CAMEO_DEU_2015', axis=1, inplace=True)\n",
    "mailout_test_select_cols.drop('CAMEO_DEU_2015', axis=1, inplace=True)\n",
    "categorical_features.remove('CAMEO_DEU_2015')"
   ]
  },
  {
   "cell_type": "code",
   "execution_count": 42,
   "metadata": {},
   "outputs": [
    {
     "name": "stdout",
     "output_type": "stream",
     "text": [
      "ANREDE_KZ: [1, 2]\n",
      "Categories (2, int64): [1, 2]\n",
      "CAMEO_DEUG_2015: [8, 4, 2, 6, 1, 9, 5, 7, 3]\n",
      "Categories (9, int64): [8, 4, 2, 6, ..., 9, 5, 7, 3]\n",
      "CJT_GESAMTTYP: [2, 5, 3, 4, 1, 6]\n",
      "Categories (6, int64): [2, 5, 3, 4, 1, 6]\n",
      "D19_BANKEN_DIREKT: [0, 1, 6, 5, 4, 3, 7, 2]\n",
      "Categories (8, int64): [0, 1, 6, 5, 4, 3, 7, 2]\n",
      "D19_BANKEN_GROSS: [0, 2, 6, 3, 5, 1, 4]\n",
      "Categories (7, int64): [0, 2, 6, 3, 5, 1, 4]\n",
      "D19_BANKEN_LOKAL: [0, 7, 3, 6, 5, 2, 1, 4]\n",
      "Categories (8, int64): [0, 7, 3, 6, 5, 2, 1, 4]\n",
      "GEBAEUDETYP: [1, 8, 3, 2, 6, 4, 5]\n",
      "Categories (7, int64): [1, 8, 3, 2, 6, 4, 5]\n",
      "GFK_URLAUBERTYP: [10, 1, 5, 12, 9, ..., 11, 4, 2, 7, 6]\n",
      "Length: 12\n",
      "Categories (12, int64): [10, 1, 5, 12, ..., 4, 2, 7, 6]\n",
      "GREEN_AVANTGARDE: [0, 1]\n",
      "Categories (2, int64): [0, 1]\n",
      "KBA05_MODTEMP: [3, 1, 4, 5, 2, 6]\n",
      "Categories (6, int64): [3, 1, 4, 5, 2, 6]\n",
      "KBA05_SEG6: [0, 1]\n",
      "Categories (2, int64): [0, 1]\n",
      "LP_FAMILIE_FEIN: [2, 5, 1, 10, 7, ..., 3, 8, 4, 6, 9]\n",
      "Length: 11\n",
      "Categories (11, int64): [2, 5, 1, 10, ..., 8, 4, 6, 9]\n",
      "LP_FAMILIE_GROB: [2, 3, 1, 5, 4]\n",
      "Categories (5, int64): [2, 3, 1, 5, 4]\n",
      "LP_STATUS_FEIN: [1, 2, 3, 9, 4, 10, 5, 8, 6, 7]\n",
      "Categories (10, int64): [1, 2, 3, 9, ..., 5, 8, 6, 7]\n",
      "LP_STATUS_GROB: [1, 2, 4, 5, 3]\n",
      "Categories (5, int64): [1, 2, 4, 5, 3]\n",
      "NATIONALITAET_KZ: [1, 3, 2]\n",
      "Categories (3, int64): [1, 3, 2]\n",
      "OST_WEST_KZ: [1, 2]\n",
      "Categories (2, int64): [1, 2]\n",
      "SHOPPER_TYP: [1, 3, 2, 0]\n",
      "Categories (4, int64): [1, 3, 2, 0]\n",
      "SOHO_KZ: [0, 1]\n",
      "Categories (2, int64): [0, 1]\n",
      "VERS_TYP: [2, 1]\n",
      "Categories (2, int64): [2, 1]\n",
      "ZABEOTYP: [3, 5, 4, 1, 6, 2]\n",
      "Categories (6, int64): [3, 5, 4, 1, 6, 2]\n",
      "AKT_DAT_KL: [1, 9, 5, 8, 7, 6, 4, 3, 2]\n",
      "Categories (9, int64): [1, 9, 5, 8, ..., 6, 4, 3, 2]\n",
      "CJT_KATALOGNUTZER: [5, 1, 2, 3, 4]\n",
      "Categories (5, int64): [5, 1, 2, 3, 4]\n",
      "CJT_TYP_1: [1, 5, 4, 2, 3]\n",
      "Categories (5, int64): [1, 5, 4, 2, 3]\n",
      "CJT_TYP_2: [1, 5, 4, 2, 3]\n",
      "Categories (5, int64): [1, 5, 4, 2, 3]\n",
      "CJT_TYP_3: [5, 2, 1, 4, 3]\n",
      "Categories (5, int64): [5, 2, 1, 4, 3]\n",
      "CJT_TYP_4: [5, 3, 4, 1, 2]\n",
      "Categories (5, int64): [5, 3, 4, 1, 2]\n",
      "CJT_TYP_5: [5, 1, 2, 3, 4]\n",
      "Categories (5, int64): [5, 1, 2, 3, 4]\n",
      "CJT_TYP_6: [5, 1, 2, 3, 4]\n",
      "Categories (5, int64): [5, 1, 2, 3, 4]\n",
      "D19_KONSUMTYP_MAX: [9, 8, 1, 2, 3, 4]\n",
      "Categories (6, int64): [9, 8, 1, 2, 3, 4]\n",
      "D19_SOZIALES: [0, 4, 5, 3, 1, 2]\n",
      "Categories (6, int64): [0, 4, 5, 3, 1, 2]\n",
      "DSL_FLAG: [1, 0]\n",
      "Categories (2, int64): [1, 0]\n",
      "FIRMENDICHTE: [4, 2, 5, 3, 1]\n",
      "Categories (5, int64): [4, 2, 5, 3, 1]\n",
      "HH_DELTA_FLAG: [0, 1]\n",
      "Categories (2, int64): [0, 1]\n",
      "KOMBIALTER: [4, 1, 2, 3]\n",
      "Categories (4, int64): [4, 1, 2, 3]\n",
      "KONSUMZELLE: [0, 1]\n",
      "Categories (2, int64): [0, 1]\n",
      "MOBI_RASTER: [1, 2, 4, 3, 5, 6]\n",
      "Categories (6, int64): [1, 2, 4, 3, 5, 6]\n",
      "RT_KEIN_ANREIZ: [1, 5, 3, 4, 2]\n",
      "Categories (5, int64): [1, 5, 3, 4, 2]\n",
      "RT_SCHNAEPPCHEN: [4, 3, 2, 5, 1]\n",
      "Categories (5, int64): [4, 3, 2, 5, 1]\n",
      "RT_UEBERGROESSE: [1, 5, 3, 4, 2, 0]\n",
      "Categories (6, int64): [1, 5, 3, 4, 2, 0]\n",
      "SOHO_KZ: [0, 1]\n",
      "Categories (2, int64): [0, 1]\n",
      "STRUKTURTYP: [3, 2, 1]\n",
      "Categories (3, int64): [3, 2, 1]\n",
      "UMFELD_ALT: [4, 3, 2, 5, 1]\n",
      "Categories (5, int64): [4, 3, 2, 5, 1]\n",
      "UMFELD_JUNG: [5, 3, 4, 2, 1]\n",
      "Categories (5, int64): [5, 3, 4, 2, 1]\n",
      "UNGLEICHENN_FLAG: [0, 1]\n",
      "Categories (2, int64): [0, 1]\n",
      "VHA: [0, 1, 5, 2, 4, 3]\n",
      "Categories (6, int64): [0, 1, 5, 2, 4, 3]\n",
      "VHN: [2, 4, 0, 1, 3]\n",
      "Categories (5, int64): [2, 4, 0, 1, 3]\n",
      "GEMEINDETYP: [22, 40, 21, 12, 30, 11, 50]\n",
      "Categories (7, int64): [22, 40, 21, 12, 30, 11, 50]\n"
     ]
    }
   ],
   "source": [
    "# set categorical columns to 'category' type\n",
    "for col in categorical_features:\n",
    "    azdias_select_cols[col] = azdias_select_cols[col].astype('int32').astype('category')\n",
    "    print (f'{col}: {azdias_select_cols[col].unique()}')"
   ]
  },
  {
   "cell_type": "markdown",
   "metadata": {},
   "source": [
    "### Mixed-Type Features"
   ]
  },
  {
   "cell_type": "markdown",
   "metadata": {},
   "source": [
    "There are several mixed typed attributes, and they contain loaded properties, and need to be separated out help the analysis process. \n",
    "`CAMEO_INTL_2015` combines both wealth and life stage. I decided to split this attribute into two features `CAMEO_INTL_2015_WEALTH` and `CAMEO_INTL_2015_STATUS`\n",
    "\n",
    "`PRAEGENDE_JUGENDJAHRE` combines several properties together as well, and need to be handled as well. \n",
    "\n",
    "Before doing that, missing values need to be replaced with the `most_frequent` values first"
   ]
  },
  {
   "cell_type": "code",
   "execution_count": 43,
   "metadata": {},
   "outputs": [
    {
     "name": "stdout",
     "output_type": "stream",
     "text": [
      "CAMEO_INTL_2015: [nan 51.0 24.0 12.0 43.0 54.0 22.0 14.0 13.0 15.0 33.0 41.0 34.0 55.0 25.0\n",
      " 23.0 31.0 52.0 35.0 45.0 44.0 32.0 '22' '24' '41' '12' '54' '51' '44'\n",
      " '35' '23' '25' '14' '34' '52' '55' '31' '32' '15' '13' '43' '33' '45']\n",
      "LP_LEBENSPHASE_FEIN: [15. 21.  3. nan 32.  8.  2.  5. 10.  4.  6. 23. 12. 20.  1. 11. 25. 13.\n",
      "  7. 18. 31. 19. 38. 35. 30. 22. 14. 33. 29. 24. 28. 37. 26. 39. 27. 36.\n",
      "  9. 34. 40. 16. 17.]\n",
      "LP_LEBENSPHASE_GROB: [ 4.  6.  1. nan 10.  2.  3.  5.  7. 12. 11.  9.  8.]\n",
      "PLZ8_BAUMAX: [nan  1.  2.  4.  5.  3.]\n",
      "PRAEGENDE_JUGENDJAHRE: [nan 14. 15.  8.  3. 10. 11.  5.  9.  6.  4.  2.  1. 12. 13.  7.]\n",
      "WOHNLAGE: [nan  4.  2.  7.  3.  5.  1.  8.  0.]\n",
      "KBA13_BAUMAX: [nan  2.  1.  4.  5.  3.]\n"
     ]
    }
   ],
   "source": [
    "mixed_type_features = list(current_azdias_attribute_info[current_azdias_attribute_info.type == 'mixed']['attribute'])\n",
    "for col in mixed_type_features:\n",
    "    print (f'{col}: {azdias_select_cols[col].unique()}')"
   ]
  },
  {
   "cell_type": "code",
   "execution_count": 44,
   "metadata": {},
   "outputs": [
    {
     "data": {
      "text/plain": [
       "array([nan, 51., 24., 12., 43., 54., 22., 14., 13., 15., 33., 41., 34.,\n",
       "       55., 25., 23., 31., 52., 35., 45., 44., 32.])"
      ]
     },
     "execution_count": 44,
     "metadata": {},
     "output_type": "execute_result"
    }
   ],
   "source": [
    "azdias_select_cols['CAMEO_INTL_2015'] = azdias_select_cols['CAMEO_INTL_2015'].astype('float32')\n",
    "customers_select_cols['CAMEO_INTL_2015'] = customers_select_cols['CAMEO_INTL_2015'].astype('float32')\n",
    "mailout_train_select_cols['CAMEO_INTL_2015'] = mailout_train_select_cols['CAMEO_INTL_2015'].astype('float32')\n",
    "mailout_test_select_cols['CAMEO_INTL_2015'] = mailout_test_select_cols['CAMEO_INTL_2015'].astype('float32')\n",
    "azdias_select_cols['CAMEO_INTL_2015'].unique()"
   ]
  },
  {
   "cell_type": "code",
   "execution_count": 45,
   "metadata": {},
   "outputs": [
    {
     "name": "stdout",
     "output_type": "stream",
     "text": [
      "CAMEO_INTL_2015: [51. 24. 12. 43. 54. 22. 14. 13. 15. 33. 41. 34. 55. 25. 23. 31. 52. 35.\n",
      " 45. 44. 32.]\n",
      "LP_LEBENSPHASE_FEIN: [15. 21.  3.  1. 32.  8.  2.  5. 10.  4.  6. 23. 12. 20. 11. 25. 13.  7.\n",
      " 18. 31. 19. 38. 35. 30. 22. 14. 33. 29. 24. 28. 37. 26. 39. 27. 36.  9.\n",
      " 34. 40. 16. 17.]\n",
      "LP_LEBENSPHASE_GROB: [ 4.  6.  1.  2. 10.  3.  5.  7. 12. 11.  9.  8.]\n",
      "PLZ8_BAUMAX: [1. 2. 4. 5. 3.]\n",
      "PRAEGENDE_JUGENDJAHRE: [14. 15.  8.  3. 10. 11.  5.  9.  6.  4.  2.  1. 12. 13.  7.]\n",
      "WOHNLAGE: [3. 4. 2. 7. 5. 1. 8. 0.]\n",
      "KBA13_BAUMAX: [1. 2. 4. 5. 3.]\n"
     ]
    }
   ],
   "source": [
    "imputer_mixed_type = SimpleImputer(strategy='most_frequent')\n",
    "azdias_select_cols[mixed_type_features] = imputer_mixed_type.fit_transform(azdias_select_cols[mixed_type_features])\n",
    "customers_select_cols[mixed_type_features] = imputer_mixed_type.fit_transform(customers_select_cols[mixed_type_features])\n",
    "\n",
    "mailout_train_select_cols[mixed_type_features] = imputer_mixed_type.fit_transform(mailout_train_select_cols[mixed_type_features])\n",
    "mailout_test_select_cols[mixed_type_features] = imputer_mixed_type.transform(mailout_test_select_cols[mixed_type_features])\n",
    "\n",
    "for col in mixed_type_features:\n",
    "    print (f'{col}: {azdias_select_cols[col].unique()}')"
   ]
  },
  {
   "cell_type": "code",
   "execution_count": 46,
   "metadata": {},
   "outputs": [],
   "source": [
    "decade = {1: 4, \n",
    "          2: 4, \n",
    "          3: 5, \n",
    "          4: 5, \n",
    "          5: 6, \n",
    "          6: 6, \n",
    "          7: 6, \n",
    "          8: 7, \n",
    "          9: 7, \n",
    "          10: 8, \n",
    "          11: 8, \n",
    "          12: 8, \n",
    "          13: 8, \n",
    "          14: 9, \n",
    "          15: 9}\n",
    "not_mainstream = {1: 1, \n",
    "                  2: 2, \n",
    "                  3: 1, \n",
    "                  4: 2, \n",
    "                  5: 1, \n",
    "                  6: 2, \n",
    "                  7: 2, \n",
    "                  8: 1, \n",
    "                  9: 2, \n",
    "                  10: 1, \n",
    "                  11: 2, \n",
    "                  12: 1, \n",
    "                  13: 2, \n",
    "                  14: 1, \n",
    "                  15: 2}\n",
    "\n",
    "azdias_select_cols['PRAEGENDE_JUGENDJAHRE'] = azdias_select_cols['PRAEGENDE_JUGENDJAHRE'].astype('int8')\n",
    "azdias_select_cols['PRAEGENDE_JUGENDJAHRE_DECADE'] = azdias_select_cols['PRAEGENDE_JUGENDJAHRE'].map(decade)\n",
    "azdias_select_cols['PRAEGENDE_JUGENDJAHRE_NOT_MAINSTREAM'] = azdias_select_cols['PRAEGENDE_JUGENDJAHRE'].map(not_mainstream)\n",
    "azdias_select_cols.drop('PRAEGENDE_JUGENDJAHRE', axis=1, inplace=True)\n",
    "\n",
    "customers_select_cols['PRAEGENDE_JUGENDJAHRE'] = customers_select_cols['PRAEGENDE_JUGENDJAHRE'].astype('int8')\n",
    "customers_select_cols['PRAEGENDE_JUGENDJAHRE_DECADE'] = customers_select_cols['PRAEGENDE_JUGENDJAHRE'].map(decade)\n",
    "customers_select_cols['PRAEGENDE_JUGENDJAHRE_NOT_MAINSTREAM'] = customers_select_cols['PRAEGENDE_JUGENDJAHRE'].map(not_mainstream)\n",
    "customers_select_cols.drop('PRAEGENDE_JUGENDJAHRE', axis=1, inplace=True)\n",
    "\n",
    "mailout_train_select_cols['PRAEGENDE_JUGENDJAHRE'] = mailout_train_select_cols['PRAEGENDE_JUGENDJAHRE'].astype('int8')\n",
    "mailout_train_select_cols['PRAEGENDE_JUGENDJAHRE_DECADE'] = mailout_train_select_cols['PRAEGENDE_JUGENDJAHRE'].map(decade)\n",
    "mailout_train_select_cols['PRAEGENDE_JUGENDJAHRE_NOT_MAINSTREAM'] = mailout_train_select_cols['PRAEGENDE_JUGENDJAHRE'].map(not_mainstream)\n",
    "mailout_train_select_cols.drop('PRAEGENDE_JUGENDJAHRE', axis=1, inplace=True)\n",
    "\n",
    "mailout_test_select_cols['PRAEGENDE_JUGENDJAHRE'] = mailout_test_select_cols['PRAEGENDE_JUGENDJAHRE'].astype('int8')\n",
    "mailout_test_select_cols['PRAEGENDE_JUGENDJAHRE_DECADE'] = mailout_test_select_cols['PRAEGENDE_JUGENDJAHRE'].map(decade)\n",
    "mailout_test_select_cols['PRAEGENDE_JUGENDJAHRE_NOT_MAINSTREAM'] = mailout_test_select_cols['PRAEGENDE_JUGENDJAHRE'].map(not_mainstream)\n",
    "mailout_test_select_cols.drop('PRAEGENDE_JUGENDJAHRE', axis=1, inplace=True)\n",
    "\n",
    "mixed_type_features.remove('PRAEGENDE_JUGENDJAHRE')"
   ]
  },
  {
   "cell_type": "code",
   "execution_count": 47,
   "metadata": {},
   "outputs": [],
   "source": [
    "PRAEGENDE_cols = ['PRAEGENDE_JUGENDJAHRE_DECADE', 'PRAEGENDE_JUGENDJAHRE_NOT_MAINSTREAM']\n",
    "azdias_select_cols[PRAEGENDE_cols] = azdias_select_cols[PRAEGENDE_cols].astype('category')\n",
    "customers_select_cols[PRAEGENDE_cols] = customers_select_cols[PRAEGENDE_cols].astype('category')\n",
    "mailout_train_select_cols[PRAEGENDE_cols] = mailout_train_select_cols[PRAEGENDE_cols].astype('category')\n",
    "mailout_test_select_cols[PRAEGENDE_cols] = mailout_test_select_cols[PRAEGENDE_cols].astype('category')"
   ]
  },
  {
   "cell_type": "code",
   "execution_count": 48,
   "metadata": {},
   "outputs": [
    {
     "name": "stdout",
     "output_type": "stream",
     "text": [
      "PRAEGENDE_JUGENDJAHRE_DECADE: [9, 7, 5, 8, 6, 4]\n",
      "Categories (6, int64): [9, 7, 5, 8, 6, 4]\n",
      "PRAEGENDE_JUGENDJAHRE_NOT_MAINSTREAM: [1, 2]\n",
      "Categories (2, int64): [1, 2]\n"
     ]
    }
   ],
   "source": [
    "for col in PRAEGENDE_cols:\n",
    "    print (f'{col}: {azdias_select_cols[col].unique()}')"
   ]
  },
  {
   "cell_type": "code",
   "execution_count": 49,
   "metadata": {},
   "outputs": [],
   "source": [
    "azdias_select_cols['CAMEO_INTL_2015'] = azdias_select_cols['CAMEO_INTL_2015'].astype('int8')\n",
    "azdias_select_cols['CAMEO_INTL_2015_WEALTH'] = azdias_select_cols['CAMEO_INTL_2015'].apply(lambda x: x//10)\n",
    "azdias_select_cols['CAMEO_INTL_2015_STATUS'] = azdias_select_cols['CAMEO_INTL_2015'].apply(lambda x: x%10)\n",
    "azdias_select_cols.drop('CAMEO_INTL_2015', axis=1, inplace=True)\n",
    "\n",
    "customers_select_cols['CAMEO_INTL_2015'] = customers_select_cols['CAMEO_INTL_2015'].astype('int8')\n",
    "customers_select_cols['CAMEO_INTL_2015_WEALTH'] = customers_select_cols['CAMEO_INTL_2015'].apply(lambda x: x//10)\n",
    "customers_select_cols['CAMEO_INTL_2015_STATUS'] = customers_select_cols['CAMEO_INTL_2015'].apply(lambda x: x%10)\n",
    "customers_select_cols.drop('CAMEO_INTL_2015', axis=1, inplace=True)\n",
    "\n",
    "mailout_train_select_cols['CAMEO_INTL_2015'] = mailout_train_select_cols['CAMEO_INTL_2015'].astype('int8')\n",
    "mailout_train_select_cols['CAMEO_INTL_2015_WEALTH'] = mailout_train_select_cols['CAMEO_INTL_2015'].apply(lambda x: x//10)\n",
    "mailout_train_select_cols['CAMEO_INTL_2015_STATUS'] = mailout_train_select_cols['CAMEO_INTL_2015'].apply(lambda x: x%10)\n",
    "mailout_train_select_cols.drop('CAMEO_INTL_2015', axis=1, inplace=True)\n",
    "\n",
    "mailout_test_select_cols['CAMEO_INTL_2015'] = mailout_test_select_cols['CAMEO_INTL_2015'].astype('int8')\n",
    "mailout_test_select_cols['CAMEO_INTL_2015_WEALTH'] = mailout_test_select_cols['CAMEO_INTL_2015'].apply(lambda x: x//10)\n",
    "mailout_test_select_cols['CAMEO_INTL_2015_STATUS'] = mailout_test_select_cols['CAMEO_INTL_2015'].apply(lambda x: x%10)\n",
    "mailout_test_select_cols.drop('CAMEO_INTL_2015', axis=1, inplace=True)\n",
    "\n",
    "mixed_type_features.remove('CAMEO_INTL_2015')"
   ]
  },
  {
   "cell_type": "code",
   "execution_count": 50,
   "metadata": {},
   "outputs": [],
   "source": [
    "CAMEO_INTL_2015_cols = ['CAMEO_INTL_2015_WEALTH', 'CAMEO_INTL_2015_STATUS']\n",
    "azdias_select_cols[CAMEO_INTL_2015_cols] = azdias_select_cols[CAMEO_INTL_2015_cols].astype('category')\n",
    "customers_select_cols[CAMEO_INTL_2015_cols] = customers_select_cols[CAMEO_INTL_2015_cols].astype('category')\n",
    "mailout_train_select_cols[CAMEO_INTL_2015_cols] = mailout_train_select_cols[CAMEO_INTL_2015_cols].astype('category')\n",
    "mailout_test_select_cols[CAMEO_INTL_2015_cols] = mailout_test_select_cols[CAMEO_INTL_2015_cols].astype('category')"
   ]
  },
  {
   "cell_type": "code",
   "execution_count": 51,
   "metadata": {},
   "outputs": [
    {
     "name": "stdout",
     "output_type": "stream",
     "text": [
      "CAMEO_INTL_2015_WEALTH: [5, 2, 1, 4, 3]\n",
      "Categories (5, int64): [5, 2, 1, 4, 3]\n",
      "CAMEO_INTL_2015_STATUS: [1, 4, 2, 3, 5]\n",
      "Categories (5, int64): [1, 4, 2, 3, 5]\n"
     ]
    }
   ],
   "source": [
    "for col in CAMEO_INTL_2015_cols:\n",
    "    print (f'{col}: {azdias_select_cols[col].unique()}')"
   ]
  },
  {
   "cell_type": "markdown",
   "metadata": {},
   "source": [
    "`LP_LEBENSPHASE_FEIN` and `LP_LEBENSPHASE_GROB` are not very relevant, and I decided to drop them. "
   ]
  },
  {
   "cell_type": "code",
   "execution_count": 52,
   "metadata": {},
   "outputs": [],
   "source": [
    "# Drop Remove:LP_LEBENSPHASE_FEIN, LP_LEBENSPHASE_GROB\n",
    "azdias_select_cols.drop(['LP_LEBENSPHASE_FEIN', 'LP_LEBENSPHASE_GROB'], axis=1, inplace=True)\n",
    "customers_select_cols.drop(['LP_LEBENSPHASE_FEIN', 'LP_LEBENSPHASE_GROB'], axis=1, inplace=True)\n",
    "mailout_train_select_cols.drop(['LP_LEBENSPHASE_FEIN', 'LP_LEBENSPHASE_GROB'], axis=1, inplace=True)\n",
    "mailout_test_select_cols.drop(['LP_LEBENSPHASE_FEIN', 'LP_LEBENSPHASE_GROB'], axis=1, inplace=True)\n",
    "mixed_type_features.remove('LP_LEBENSPHASE_FEIN')\n",
    "mixed_type_features.remove('LP_LEBENSPHASE_GROB')"
   ]
  },
  {
   "cell_type": "code",
   "execution_count": 53,
   "metadata": {},
   "outputs": [
    {
     "data": {
      "text/plain": [
       "['PLZ8_BAUMAX',\n",
       " 'WOHNLAGE',\n",
       " 'KBA13_BAUMAX',\n",
       " 'CAMEO_INTL_2015_WEALTH',\n",
       " 'CAMEO_INTL_2015_STATUS',\n",
       " 'PRAEGENDE_JUGENDJAHRE_DECADE',\n",
       " 'PRAEGENDE_JUGENDJAHRE_NOT_MAINSTREAM']"
      ]
     },
     "execution_count": 53,
     "metadata": {},
     "output_type": "execute_result"
    }
   ],
   "source": [
    "mixed_type_features += CAMEO_INTL_2015_cols + PRAEGENDE_cols\n",
    "mixed_type_features"
   ]
  },
  {
   "cell_type": "code",
   "execution_count": 54,
   "metadata": {},
   "outputs": [
    {
     "name": "stdout",
     "output_type": "stream",
     "text": [
      "PLZ8_BAUMAX: [1. 2. 4. 5. 3.]\n",
      "WOHNLAGE: [3. 4. 2. 7. 5. 1. 8. 0.]\n",
      "KBA13_BAUMAX: [1. 2. 4. 5. 3.]\n",
      "CAMEO_INTL_2015_WEALTH: [5, 2, 1, 4, 3]\n",
      "Categories (5, int64): [5, 2, 1, 4, 3]\n",
      "CAMEO_INTL_2015_STATUS: [1, 4, 2, 3, 5]\n",
      "Categories (5, int64): [1, 4, 2, 3, 5]\n",
      "PRAEGENDE_JUGENDJAHRE_DECADE: [9, 7, 5, 8, 6, 4]\n",
      "Categories (6, int64): [9, 7, 5, 8, 6, 4]\n",
      "PRAEGENDE_JUGENDJAHRE_NOT_MAINSTREAM: [1, 2]\n",
      "Categories (2, int64): [1, 2]\n"
     ]
    }
   ],
   "source": [
    "for col in mixed_type_features:\n",
    "    print (f'{col}: {azdias_select_cols[col].unique()}')"
   ]
  },
  {
   "cell_type": "markdown",
   "metadata": {},
   "source": [
    "### Ordinal Features"
   ]
  },
  {
   "cell_type": "code",
   "execution_count": 55,
   "metadata": {
    "scrolled": false
   },
   "outputs": [
    {
     "name": "stdout",
     "output_type": "stream",
     "text": [
      "ALTERSKATEGORIE_GROB: [ 2.  1.  3.  4. nan]\n",
      "BALLRAUM: [nan  6.  2.  4.  3.  7.  1.  5.]\n",
      "D19_BANKEN_ANZ_12: [0 3 1 2 4 5 6]\n",
      "D19_BANKEN_ANZ_24: [0 5 1 2 4 3 6]\n",
      "D19_BANKEN_DATUM: [10  5  8  6  9  1  7  4  2  3]\n",
      "D19_BANKEN_OFFLINE_DATUM: [10  9  8  2  5  4  1  6  7  3]\n",
      "D19_BANKEN_ONLINE_DATUM: [10  5  8  6  9  1  4  7  2  3]\n",
      "D19_BANKEN_ONLINE_QUOTE_12: [nan  0. 10.  8.  5.  9.  7.  6.  3.  4.  2.  1.]\n",
      "D19_BANKEN_REST: [0 6 5 4 3 7 2 1]\n",
      "D19_BEKLEIDUNG_GEH: [0 6 5 7 3 2 4 1]\n",
      "D19_BEKLEIDUNG_REST: [0 1 6 7 5 3 4 2]\n",
      "D19_BILDUNG: [0 6 3 7 2 4 5 1]\n",
      "D19_BIO_OEKO: [0 6 7 3 5 2 4 1]\n",
      "D19_BUCH_CD: [0 6 5 3 1 7 4 2]\n",
      "D19_DIGIT_SERV: [0 6 7 3 5 2 4 1]\n",
      "D19_DROGERIEARTIKEL: [0 1 6 3 7 4 5 2]\n",
      "D19_ENERGIE: [0 5 3 6 7 2 1 4]\n",
      "D19_FREIZEIT: [0 7 3 6 5 4 1 2]\n",
      "D19_GARTEN: [0 3 6 7 5 4 2 1]\n",
      "D19_GESAMT_ANZ_12: [0 6 1 2 3 4 5]\n",
      "D19_GESAMT_ANZ_24: [0 6 1 2 3 5 4]\n",
      "D19_GESAMT_DATUM: [10  1  3  5  9  4  7  6  8  2]\n",
      "D19_GESAMT_OFFLINE_DATUM: [10  6  8  9  5  2  4  1  7  3]\n",
      "D19_GESAMT_ONLINE_DATUM: [10  1  3  5  9  4  7  6  8  2]\n",
      "D19_GESAMT_ONLINE_QUOTE_12: [nan  0. 10.  7.  9.  5.  8.  6.  3.  4.  2.  1.]\n",
      "D19_HANDWERK: [0 6 3 5 7 4 2 1]\n",
      "D19_HAUS_DEKO: [0 5 6 7 1 3 4 2]\n",
      "D19_KINDERARTIKEL: [0 6 7 3 5 2 1 4]\n",
      "D19_KONSUMTYP: [nan  9.  1.  4.  3.  6.  5.  2.]\n",
      "D19_KOSMETIK: [0 6 3 5 7 2 4 1]\n",
      "D19_LEBENSMITTEL: [0 6 7 5 3 4 1 2]\n",
      "D19_LOTTO: [nan  0.  6.  7.  5.  3.  4.  2.  1.]\n",
      "D19_NAHRUNGSERGAENZUNG: [0 5 6 7 4 1 2 3]\n",
      "D19_RATGEBER: [0 7 6 3 5 2 4 1]\n",
      "D19_REISEN: [0 6 7 3 5 2 4 1]\n",
      "D19_SAMMELARTIKEL: [0 6 1 7 5 3 2 4]\n",
      "D19_SCHUHE: [0 1 3 5 6 2 7 4]\n",
      "D19_SONSTIGE: [0 6 4 7 5 3 2 1]\n",
      "D19_TECHNIK: [0 6 5 7 3 1 4 2]\n",
      "D19_TELKO_ANZ_12: [0 1 2 6 3 4 5]\n",
      "D19_TELKO_ANZ_24: [0 1 2 4 3 6 5]\n",
      "D19_TELKO_DATUM: [10  6  9  8  7  5  4  2  1  3]\n",
      "D19_TELKO_MOBILE: [0 6 3 7 4 5 2 1]\n",
      "D19_TELKO_OFFLINE_DATUM: [10  8  9  5  6  7  4  2  3  1]\n",
      "D19_TELKO_ONLINE_DATUM: [10  9  7  8  6  5  4  1  2  3]\n",
      "D19_TELKO_REST: [0 5 6 4 3 7 2 1]\n",
      "D19_TIERARTIKEL: [0 6 5 3 4 7 2 1]\n",
      "D19_VERSAND_ANZ_12: [0 6 1 2 5 3 4]\n",
      "D19_VERSAND_ANZ_24: [0 6 2 1 3 4 5]\n",
      "D19_VERSAND_DATUM: [10  1  5  9  4  8  7  6  3  2]\n",
      "D19_VERSAND_OFFLINE_DATUM: [10  9  6  8  5  2  1  4  7  3]\n",
      "D19_VERSAND_ONLINE_DATUM: [10  1  5  9  4  8  7  6  3  2]\n",
      "D19_VERSAND_ONLINE_QUOTE_12: [nan  0. 10.  7.  5.  9.  3.  8.  6.  4.  2.  1.]\n",
      "D19_VERSAND_REST: [0 2 6 5 3 1 4 7]\n",
      "D19_VERSICHERUNGEN: [0 3 6 4 5 7 2 1]\n",
      "D19_VERSI_ANZ_12: [0 1 2 3 4 5 6]\n",
      "D19_VERSI_ANZ_24: [0 3 1 2 4 5 6]\n",
      "D19_VOLLSORTIMENT: [0 7 6 3 2 5 4 1]\n",
      "D19_WEIN_FEINKOST: [0 6 7 5 3 2 4 1]\n",
      "EWDICHTE: [nan  3.  4.  2.  5.  6.  1.]\n",
      "FINANZTYP: [4. 1. 6. 5. 2. 3.]\n",
      "FINANZ_ANLEGER: [5. 2. 1. 4. 3.]\n",
      "FINANZ_HAUSBAUER: [3. 5. 2. 4. 1.]\n",
      "FINANZ_MINIMALIST: [3. 1. 4. 2. 5.]\n",
      "FINANZ_SPARER: [4. 5. 2. 3. 1.]\n",
      "FINANZ_UNAUFFAELLIGER: [5. 4. 3. 1. 2.]\n",
      "FINANZ_VORSORGER: [3. 2. 1. 5. 4.]\n",
      "GEBAEUDETYP_RASTER: [nan  3.  4.  5.  1.  2.]\n",
      "HEALTH_TYP: [nan  3.  2.  1.]\n",
      "HH_EINKOMMEN_SCORE: [ 2.  6.  4.  1.  5.  3. nan]\n",
      "INNENSTADT: [nan  8.  4.  6.  1.  7.  3.  2.  5.]\n",
      "KBA05_ALTER1: [nan  3.  2.  0.  1.  4.]\n",
      "KBA05_ALTER2: [nan  4.  3.  5.  2.  1.]\n",
      "KBA05_ALTER3: [nan  1.  3.  4.  2.  5.]\n",
      "KBA05_ALTER4: [nan  4.  3.  0.  5.  2.  1.]\n",
      "KBA05_ANHANG: [nan  0.  1.  2.  3.]\n",
      "KBA05_ANTG1: [nan  0.  1.  4.  2.  3.]\n",
      "KBA05_ANTG2: [nan  0.  3.  1.  4.  2.]\n",
      "KBA05_ANTG3: [nan  0.  1.  2.  3.]\n",
      "KBA05_ANTG4: [nan  2.  0.  1.]\n",
      "KBA05_AUTOQUOT: [nan  1.  3.  4.  2.  5.]\n",
      "KBA05_CCM1: [nan  1.  5.  2.  4.  3.]\n",
      "KBA05_CCM2: [nan  5.  2.  3.  1.  4.]\n",
      "KBA05_CCM3: [nan  1.  3.  5.  4.  2.]\n",
      "KBA05_CCM4: [nan  4.  0.  1.  2.  3.]\n",
      "KBA05_DIESEL: [nan  2.  0.  3.  1.  4.]\n",
      "KBA05_FRAU: [nan  4.  3.  5.  2.  1.]\n",
      "KBA05_GBZ: [nan  1.  3.  4.  5.  2.]\n",
      "KBA05_HERST1: [nan  5.  2.  4.  3.  0.  1.]\n",
      "KBA05_HERST2: [nan  5.  2.  3.  4.  1.]\n",
      "KBA05_HERST3: [nan  2.  3.  4.  1.  0.  5.]\n",
      "KBA05_HERST4: [nan  2.  1.  3.  4.  0.  5.]\n",
      "KBA05_HERST5: [nan  0.  5.  3.  4.  2.  1.]\n",
      "KBA05_HERSTTEMP: [nan  4.  3.  1.  2.  5.]\n",
      "KBA05_KRSAQUOT: [nan  1.  3.  4.  2.  5.]\n",
      "KBA05_KRSHERST1: [nan  5.  3.  4.  2.  1.]\n",
      "KBA05_KRSHERST2: [nan  4.  2.  3.  5.  1.]\n",
      "KBA05_KRSHERST3: [nan  2.  3.  1.  4.  5.]\n",
      "KBA05_KRSKLEIN: [nan  1.  3.  2.]\n",
      "KBA05_KRSOBER: [nan  2.  1.  3.]\n",
      "KBA05_KRSVAN: [nan  1.  2.  3.]\n",
      "KBA05_KRSZUL: [nan  2.  3.  1.]\n",
      "KBA05_KW1: [nan  1.  3.  4.  2.  5.]\n",
      "KBA05_KW2: [nan  3.  2.  4.  5.  1.]\n",
      "KBA05_KW3: [nan  4.  2.  1.  3.  0.]\n",
      "KBA05_MAXAH: [nan  2.  3.  5.  1.  4.]\n",
      "KBA05_MAXBJ: [nan  1.  4.  2.  3.]\n",
      "KBA05_MAXHERST: [nan  2.  5.  3.  1.  4.]\n",
      "KBA05_MAXSEG: [nan  4.  1.  2.  3.]\n",
      "KBA05_MAXVORB: [nan  3.  1.  2.]\n",
      "KBA05_MOD1: [nan  3.  0.  2.  1.  4.]\n",
      "KBA05_MOD2: [nan  2.  4.  1.  3.  5.]\n",
      "KBA05_MOD3: [nan  2.  5.  4.  1.  3.]\n",
      "KBA05_MOD4: [nan  0.  1.  2.  4.  5.  3.]\n",
      "KBA05_MOD8: [nan  0.  1.  2.  3.]\n",
      "KBA05_MOTOR: [nan  3.  1.  4.  2.]\n",
      "KBA05_MOTRAD: [nan  0.  1.  3.  2.]\n",
      "KBA05_SEG1: [nan  0.  2.  1.  3.]\n",
      "KBA05_SEG10: [nan  4.  1.  3.  2.  0.]\n",
      "KBA05_SEG2: [nan  1.  5.  2.  4.  3.]\n",
      "KBA05_SEG3: [nan  2.  3.  5.  1.  4.]\n",
      "KBA05_SEG4: [nan  2.  3.  4.  1.  5.]\n",
      "KBA05_SEG5: [nan  2.  1.  0.  3.  4.]\n",
      "KBA05_SEG7: [nan  3.  0.  1.  2.]\n",
      "KBA05_SEG8: [nan  3.  0.  1.  2.]\n",
      "KBA05_SEG9: [nan  0.  1.  2.  3.]\n",
      "KBA05_VORB0: [nan  1.  4.  2.  5.  3.]\n",
      "KBA05_VORB1: [nan  1.  2.  5.  3.  4.]\n",
      "KBA05_VORB2: [nan  5.  3.  1.  4.  2.  0.]\n",
      "KBA05_ZUL1: [nan  5.  2.  3.  4.  1.]\n",
      "KBA05_ZUL2: [nan  1.  3.  4.  2.  5.]\n",
      "KBA05_ZUL3: [nan  0.  4.  3.  2.  1.  5.]\n",
      "KBA05_ZUL4: [nan  2.  4.  3.  5.  1.  0.]\n",
      "KBA13_ALTERHALTER_30: [nan  3.  2.  1.  4.  5.]\n",
      "KBA13_ALTERHALTER_45: [nan  2.  3.  4.  1.  5.]\n",
      "KBA13_ALTERHALTER_60: [nan  3.  5.  2.  4.  1.]\n",
      "KBA13_ALTERHALTER_61: [nan  4.  3.  2.  5.  1.]\n",
      "KBA13_AUDI: [nan  4.  3.  5.  2.  1.]\n",
      "KBA13_AUTOQUOTE: [nan  2.  3.  4.  5.  1.  0.]\n",
      "KBA13_BJ_1999: [nan  3.  2.  4.  1.  5.]\n",
      "KBA13_BJ_2000: [nan  3.  2.  1.  4.  5.]\n",
      "KBA13_BJ_2004: [nan  3.  4.  2.  1.  5.]\n",
      "KBA13_BJ_2006: [nan  3.  5.  2.  4.  1.]\n",
      "KBA13_BJ_2008: [nan  3.  4.  0.  2.  5.  1.]\n",
      "KBA13_BJ_2009: [nan  2.  1.  3.  5.  0.  4.]\n",
      "KBA13_BMW: [nan  3.  4.  2.  5.  1.]\n",
      "KBA13_CCM_1000: [nan  0.  1.  4.  5.  3.  2.]\n",
      "KBA13_CCM_1200: [nan  0.  2.  1.  4.  5.  3.]\n",
      "KBA13_CCM_1400: [nan  4.  2.  3.  1.  5.]\n",
      "KBA13_CCM_0_1400: [nan  2.  1.  3.  5.  0.  4.]\n",
      "KBA13_CCM_1500: [nan  1.  4.  3.  5.  2.]\n",
      "KBA13_CCM_1600: [nan  2.  3.  1.  4.  5.]\n",
      "KBA13_CCM_1800: [nan  2.  4.  3.  5.  1.  0.]\n",
      "KBA13_CCM_2000: [nan  5.  3.  4.  2.  1.]\n",
      "KBA13_CCM_2500: [nan  3.  4.  0.  5.  2.  1.]\n",
      "KBA13_CCM_2501: [nan  3.  4.  5.  0.  2.  1.]\n",
      "KBA13_CCM_3000: [nan  0.  3.  5.  2.  1.  4.]\n",
      "KBA13_CCM_3001: [nan  5.  4.  1.  3.  2.]\n",
      "KBA13_FAB_ASIEN: [nan  2.  4.  3.  1.  5.]\n",
      "KBA13_FAB_SONSTIGE: [nan  3.  2.  1.  4.  5.]\n",
      "KBA13_FIAT: [nan  4.  3.  5.  2.  1.]\n",
      "KBA13_FORD: [nan  2.  4.  3.  1.  5.]\n",
      "KBA13_HALTER_20: [nan  3.  2.  4.  5.  1.]\n",
      "KBA13_HALTER_25: [nan  3.  2.  1.  4.  5.]\n",
      "KBA13_HALTER_30: [nan  3.  2.  1.  4.  5.]\n",
      "KBA13_HALTER_35: [nan  3.  2.  1.  4.  5.]\n",
      "KBA13_HALTER_40: [nan  3.  2.  1.  4.  5.]\n",
      "KBA13_HALTER_45: [nan  2.  3.  5.  1.  4.]\n",
      "KBA13_HALTER_50: [nan  2.  3.  5.  4.  1.]\n",
      "KBA13_HALTER_55: [nan  3.  5.  4.  2.  1.]\n",
      "KBA13_HALTER_60: [nan  3.  4.  2.  5.  1.]\n",
      "KBA13_HALTER_65: [nan  3.  4.  5.  2.  1.]\n",
      "KBA13_HALTER_66: [nan  4.  3.  2.  5.  1.]\n",
      "KBA13_HERST_ASIEN: [nan  1.  3.  4.  2.  5.]\n",
      "KBA13_HERST_AUDI_VW: [nan  4.  2.  3.  5.  1.]\n",
      "KBA13_HERST_BMW_BENZ: [nan  4.  3.  5.  2.  1.]\n",
      "KBA13_HERST_EUROPA: [nan  4.  3.  2.  5.  1.]\n",
      "KBA13_HERST_FORD_OPEL: [nan  2.  3.  1.  4.  5.]\n",
      "KBA13_HERST_SONST: [nan  3.  2.  1.  4.  5.]\n",
      "KBA13_KMH_110: [nan  1.  2.  3.]\n",
      "KBA13_KMH_140: [nan  3.  1.  5.  2.  4.]\n",
      "KBA13_KMH_180: [nan  2.  1.  3.  4.  5.]\n",
      "KBA13_KMH_0_140: [nan  3.  1.  5.  0.  4.  2.]\n",
      "KBA13_KMH_140_210: [nan  3.  2.  1.  4.  5.]\n",
      "KBA13_KMH_211: [nan  3.  4.  5.  2.  1.  0.]\n",
      "KBA13_KMH_250: [nan  3.  4.  5.  2.  1.  0.]\n",
      "KBA13_KMH_251: [nan  1.  3.  2.]\n",
      "KBA13_KRSAQUOT: [nan  2.  3.  4.  1.  5.  0.]\n",
      "KBA13_KRSHERST_AUDI_VW: [nan  4.  3.  2.  1.  5.  0.]\n",
      "KBA13_KRSHERST_BMW_BENZ: [nan  3.  4.  5.  2.  1.  0.]\n",
      "KBA13_KRSHERST_FORD_OPEL: [nan  3.  2.  4.  1.  5.  0.]\n",
      "KBA13_KRSSEG_KLEIN: [nan  2.  3.  1.  0.]\n",
      "KBA13_KRSSEG_OBER: [nan  2.  3.  1.  0.]\n",
      "KBA13_KRSSEG_VAN: [nan  2.  1.  3.  0.]\n",
      "KBA13_KRSZUL_NEU: [nan  1.  2.  3.  0.]\n",
      "KBA13_KW_30: [nan  1.  2.  3.]\n",
      "KBA13_KW_40: [nan  2.  1.  4.  5.  0.  3.]\n",
      "KBA13_KW_50: [nan  4.  2.  3.  0.  1.  5.]\n",
      "KBA13_KW_60: [nan  0.  1.  2.  3.  4.  5.]\n",
      "KBA13_KW_0_60: [nan  3.  1.  2.  4.  5.]\n"
     ]
    },
    {
     "name": "stdout",
     "output_type": "stream",
     "text": [
      "KBA13_KW_70: [nan  1.  4.  3.  2.  0.  5.]\n",
      "KBA13_KW_61_120: [nan  3.  5.  2.  4.  1.]\n",
      "KBA13_KW_80: [nan  2.  4.  1.  3.  0.  5.]\n",
      "KBA13_KW_90: [nan  3.  2.  0.  4.  1.  5.]\n",
      "KBA13_KW_110: [nan  4.  3.  1.  5.  0.  2.]\n",
      "KBA13_KW_120: [nan  4.  3.  1.  5.  0.  2.]\n",
      "KBA13_KW_121: [nan  3.  4.  5.  2.  0.  1.]\n",
      "KBA13_MAZDA: [nan  2.  3.  4.  5.  1.]\n",
      "KBA13_MERCEDES: [nan  4.  3.  5.  2.  1.]\n",
      "KBA13_MOTOR: [nan  3.  4.  2.  1.]\n",
      "KBA13_NISSAN: [nan  2.  3.  5.  4.  1.]\n",
      "KBA13_OPEL: [nan  3.  2.  4.  1.  5.]\n",
      "KBA13_PEUGEOT: [nan  4.  3.  2.  1.  5.]\n",
      "KBA13_RENAULT: [nan  3.  2.  4.  5.  1.]\n",
      "KBA13_SEG_GELAENDEWAGEN: [nan  2.  5.  3.  4.  1.]\n",
      "KBA13_SEG_GROSSRAUMVANS: [nan  3.  4.  1.  5.  2.]\n",
      "KBA13_SEG_KLEINST: [nan  2.  3.  5.  4.  1.]\n",
      "KBA13_SEG_KLEINWAGEN: [nan  2.  3.  4.  1.  5.]\n",
      "KBA13_SEG_KOMPAKTKLASSE: [nan  5.  1.  4.  3.  2.]\n",
      "KBA13_SEG_MINIVANS: [nan  4.  3.  2.  1.  5.]\n",
      "KBA13_SEG_MINIWAGEN: [nan  2.  3.  5.  4.  1.]\n",
      "KBA13_SEG_MITTELKLASSE: [nan  3.  2.  4.  5.  1.]\n",
      "KBA13_SEG_OBEREMITTELKLASSE: [nan  3.  4.  5.  2.  1.]\n",
      "KBA13_SEG_OBERKLASSE: [nan  3.  1.  4.  5.  0.  2.]\n",
      "KBA13_SEG_SONSTIGE: [nan  2.  5.  3.  4.  1.]\n",
      "KBA13_SEG_SPORTWAGEN: [nan  3.  4.  5.  1.  2.  0.]\n",
      "KBA13_SEG_UTILITIES: [nan  3.  5.  2.  4.  1.]\n",
      "KBA13_SEG_VAN: [nan  4.  3.  2.  1.  5.]\n",
      "KBA13_SEG_WOHNMOBILE: [nan  2.  5.  3.  4.  0.  1.]\n",
      "KBA13_SITZE_4: [nan  3.  4.  5.  2.  1.]\n",
      "KBA13_SITZE_5: [nan  3.  2.  1.  4.  5.]\n",
      "KBA13_SITZE_6: [nan  4.  3.  2.  5.  1.]\n",
      "KBA13_TOYOTA: [nan  2.  3.  4.  5.  1.]\n",
      "KBA13_VORB_0: [nan  3.  4.  5.  2.  1.]\n",
      "KBA13_VORB_1: [nan  3.  4.  2.  1.  5.]\n",
      "KBA13_VORB_1_2: [nan  3.  4.  2.  1.  5.]\n",
      "KBA13_VORB_2: [nan  3.  2.  4.  1.  5.]\n",
      "KBA13_VORB_3: [nan  3.  2.  4.  0.  1.  5.]\n",
      "KBA13_VW: [nan  4.  2.  3.  5.  1.]\n",
      "KKK: [nan  2.  3.  4.  1.]\n",
      "KONSUMNAEHE: [nan  1.  5.  4.  3.  2.  6.  7.]\n",
      "MOBI_REGIO: [nan  1.  3.  4.  5.  2.  6.]\n",
      "ONLINE_AFFINITAET: [ 1.  3.  2.  5.  4.  0. nan]\n",
      "ORTSGR_KLS9: [nan  5.  3.  6.  4.  8.  2.  7.  9.  1.  0.]\n",
      "PLZ8_ANTG1: [nan  2.  3.  1.  4.  0.]\n",
      "PLZ8_ANTG2: [nan  3.  2.  4.  1.  0.]\n",
      "PLZ8_ANTG3: [nan  2.  1.  3.  0.]\n",
      "PLZ8_ANTG4: [nan  1.  0.  2.]\n",
      "PLZ8_GBZ: [nan  4.  3.  5.  2.  1.]\n",
      "PLZ8_HHZ: [nan  5.  4.  3.  2.  1.]\n",
      "REGIOTYP: [nan  3.  2.  5.  1.  7.  6.  4.]\n",
      "RELAT_AB: [nan  4.  2.  3.  5.  1.]\n",
      "RETOURTYP_BK_S: [ 5.  1.  3.  2.  4. nan]\n",
      "SEMIO_DOM: [6. 7. 4. 2. 1. 5. 3.]\n",
      "SEMIO_ERL: [3. 2. 6. 7. 4. 5. 1.]\n",
      "SEMIO_FAM: [6. 4. 1. 5. 7. 2. 3.]\n",
      "SEMIO_KAEM: [6. 4. 7. 5. 2. 3. 1.]\n",
      "SEMIO_KRIT: [7. 4. 3. 1. 5. 6. 2.]\n",
      "SEMIO_KULT: [3. 4. 6. 5. 7. 1. 2.]\n",
      "SEMIO_LUST: [5. 2. 4. 6. 7. 3. 1.]\n",
      "SEMIO_MAT: [5. 3. 1. 2. 4. 7. 6.]\n",
      "SEMIO_PFLICHT: [5. 7. 3. 4. 1. 6. 2.]\n",
      "SEMIO_RAT: [4. 6. 3. 2. 7. 5. 1.]\n",
      "SEMIO_REL: [7. 4. 3. 2. 5. 1. 6.]\n",
      "SEMIO_SOZ: [2. 5. 4. 6. 7. 3. 1.]\n",
      "SEMIO_TRADV: [3. 6. 4. 2. 7. 5. 1.]\n",
      "SEMIO_VERT: [1. 4. 7. 2. 6. 5. 3.]\n",
      "WOHNDAUER_2008: [nan  9.  8.  3.  4.  5.  6.  2.  7.  1.]\n",
      "W_KEIT_KIND_HH: [nan  3.  2.  6.  5.  4.  1.]\n",
      "ARBEIT: [nan  3.  2.  4.  1.  5.]\n",
      "D19_TELKO_ONLINE_QUOTE_12: [nan  0. 10.  5.  7.  3.]\n",
      "D19_VERSI_DATUM: [10  2  8  9  6  7  5  1  4  3]\n",
      "D19_VERSI_OFFLINE_DATUM: [10  7  9  6  4  8  5  2  3  1]\n",
      "D19_VERSI_ONLINE_DATUM: [10  8  9  5  6  7  4  1  2  3]\n",
      "D19_VERSI_ONLINE_QUOTE_12: [nan  0. 10.  5.  7.  8.  6.  3.  9.]\n",
      "KBA13_ANTG1: [nan  2.  1.  4.  3.  0.]\n",
      "KBA13_ANTG2: [nan  4.  3.  2.  1.  0.]\n",
      "KBA13_ANTG3: [nan  2.  1.  0.  3.]\n",
      "KBA13_ANTG4: [nan  1.  0.  2.]\n",
      "KBA13_CCM_1401_2500: [nan  3.  2.  1.  4.  5.]\n",
      "KBA13_GBZ: [nan  4.  3.  5.  2.  1.]\n",
      "KBA13_HHZ: [nan  5.  4.  3.  2.  1.]\n",
      "KBA13_KMH_210: [nan  4.  2.  3.  5.  1.]\n"
     ]
    }
   ],
   "source": [
    "ordinal_features = list(current_azdias_attribute_info[current_azdias_attribute_info.type == 'ordinal']['attribute'])\n",
    "for col in ordinal_features:\n",
    "    print (f'{col}: {azdias_select_cols[col].unique()}')"
   ]
  },
  {
   "cell_type": "markdown",
   "metadata": {},
   "source": [
    "for several ordinal attributes, value 10 needs to be converted to 0 to make the value meaningful as ordinal variables. "
   ]
  },
  {
   "cell_type": "code",
   "execution_count": 56,
   "metadata": {
    "scrolled": false
   },
   "outputs": [
    {
     "name": "stdout",
     "output_type": "stream",
     "text": [
      "ALTERSKATEGORIE_GROB: [ 2.  1.  3.  4. nan]\n",
      "BALLRAUM: [nan  6.  2.  4.  3.  7.  1.  5.]\n",
      "D19_BANKEN_ANZ_12: [0 3 1 2 4 5 6]\n",
      "D19_BANKEN_ANZ_24: [0 5 1 2 4 3 6]\n",
      "D19_BANKEN_DATUM: [0 5 8 6 9 1 7 4 2 3]\n",
      "D19_BANKEN_OFFLINE_DATUM: [0 9 8 2 5 4 1 6 7 3]\n",
      "D19_BANKEN_ONLINE_DATUM: [0 5 8 6 9 1 4 7 2 3]\n",
      "D19_BANKEN_ONLINE_QUOTE_12: [nan  0. 10.  8.  5.  9.  7.  6.  3.  4.  2.  1.]\n",
      "D19_BANKEN_REST: [0 6 5 4 3 7 2 1]\n",
      "D19_BEKLEIDUNG_GEH: [0 6 5 7 3 2 4 1]\n",
      "D19_BEKLEIDUNG_REST: [0 1 6 7 5 3 4 2]\n",
      "D19_BILDUNG: [0 6 3 7 2 4 5 1]\n",
      "D19_BIO_OEKO: [0 6 7 3 5 2 4 1]\n",
      "D19_BUCH_CD: [0 6 5 3 1 7 4 2]\n",
      "D19_DIGIT_SERV: [0 6 7 3 5 2 4 1]\n",
      "D19_DROGERIEARTIKEL: [0 1 6 3 7 4 5 2]\n",
      "D19_ENERGIE: [0 5 3 6 7 2 1 4]\n",
      "D19_FREIZEIT: [0 7 3 6 5 4 1 2]\n",
      "D19_GARTEN: [0 3 6 7 5 4 2 1]\n",
      "D19_GESAMT_ANZ_12: [0 6 1 2 3 4 5]\n",
      "D19_GESAMT_ANZ_24: [0 6 1 2 3 5 4]\n",
      "D19_GESAMT_DATUM: [0 1 3 5 9 4 7 6 8 2]\n",
      "D19_GESAMT_OFFLINE_DATUM: [0 6 8 9 5 2 4 1 7 3]\n",
      "D19_GESAMT_ONLINE_DATUM: [0 1 3 5 9 4 7 6 8 2]\n",
      "D19_GESAMT_ONLINE_QUOTE_12: [nan  0. 10.  7.  9.  5.  8.  6.  3.  4.  2.  1.]\n",
      "D19_HANDWERK: [0 6 3 5 7 4 2 1]\n",
      "D19_HAUS_DEKO: [0 5 6 7 1 3 4 2]\n",
      "D19_KINDERARTIKEL: [0 6 7 3 5 2 1 4]\n",
      "D19_KONSUMTYP: [nan  9.  1.  4.  3.  6.  5.  2.]\n",
      "D19_KOSMETIK: [0 6 3 5 7 2 4 1]\n",
      "D19_LEBENSMITTEL: [0 6 7 5 3 4 1 2]\n",
      "D19_LOTTO: [nan  0.  6.  7.  5.  3.  4.  2.  1.]\n",
      "D19_NAHRUNGSERGAENZUNG: [0 5 6 7 4 1 2 3]\n",
      "D19_RATGEBER: [0 7 6 3 5 2 4 1]\n",
      "D19_REISEN: [0 6 7 3 5 2 4 1]\n",
      "D19_SAMMELARTIKEL: [0 6 1 7 5 3 2 4]\n",
      "D19_SCHUHE: [0 1 3 5 6 2 7 4]\n",
      "D19_SONSTIGE: [0 6 4 7 5 3 2 1]\n",
      "D19_TECHNIK: [0 6 5 7 3 1 4 2]\n",
      "D19_TELKO_ANZ_12: [0 1 2 6 3 4 5]\n",
      "D19_TELKO_ANZ_24: [0 1 2 4 3 6 5]\n",
      "D19_TELKO_DATUM: [0 6 9 8 7 5 4 2 1 3]\n",
      "D19_TELKO_MOBILE: [0 6 3 7 4 5 2 1]\n",
      "D19_TELKO_OFFLINE_DATUM: [0 8 9 5 6 7 4 2 3 1]\n",
      "D19_TELKO_ONLINE_DATUM: [0 9 7 8 6 5 4 1 2 3]\n",
      "D19_TELKO_REST: [0 5 6 4 3 7 2 1]\n",
      "D19_TIERARTIKEL: [0 6 5 3 4 7 2 1]\n",
      "D19_VERSAND_ANZ_12: [0 6 1 2 5 3 4]\n",
      "D19_VERSAND_ANZ_24: [0 6 2 1 3 4 5]\n",
      "D19_VERSAND_DATUM: [0 1 5 9 4 8 7 6 3 2]\n",
      "D19_VERSAND_OFFLINE_DATUM: [0 9 6 8 5 2 1 4 7 3]\n",
      "D19_VERSAND_ONLINE_DATUM: [0 1 5 9 4 8 7 6 3 2]\n",
      "D19_VERSAND_ONLINE_QUOTE_12: [nan  0. 10.  7.  5.  9.  3.  8.  6.  4.  2.  1.]\n",
      "D19_VERSAND_REST: [0 2 6 5 3 1 4 7]\n",
      "D19_VERSICHERUNGEN: [0 3 6 4 5 7 2 1]\n",
      "D19_VERSI_ANZ_12: [0 1 2 3 4 5 6]\n",
      "D19_VERSI_ANZ_24: [0 3 1 2 4 5 6]\n",
      "D19_VOLLSORTIMENT: [0 7 6 3 2 5 4 1]\n",
      "D19_WEIN_FEINKOST: [0 6 7 5 3 2 4 1]\n",
      "EWDICHTE: [nan  3.  4.  2.  5.  6.  1.]\n",
      "FINANZTYP: [4. 1. 6. 5. 2. 3.]\n",
      "FINANZ_ANLEGER: [5. 2. 1. 4. 3.]\n",
      "FINANZ_HAUSBAUER: [3. 5. 2. 4. 1.]\n",
      "FINANZ_MINIMALIST: [3. 1. 4. 2. 5.]\n",
      "FINANZ_SPARER: [4. 5. 2. 3. 1.]\n",
      "FINANZ_UNAUFFAELLIGER: [5. 4. 3. 1. 2.]\n",
      "FINANZ_VORSORGER: [3. 2. 1. 5. 4.]\n",
      "GEBAEUDETYP_RASTER: [nan  3.  4.  5.  1.  2.]\n",
      "HEALTH_TYP: [nan  3.  2.  1.]\n",
      "HH_EINKOMMEN_SCORE: [ 2.  6.  4.  1.  5.  3. nan]\n",
      "INNENSTADT: [nan  8.  4.  6.  1.  7.  3.  2.  5.]\n",
      "KBA05_ALTER1: [nan  3.  2.  0.  1.  4.]\n",
      "KBA05_ALTER2: [nan  4.  3.  5.  2.  1.]\n",
      "KBA05_ALTER3: [nan  1.  3.  4.  2.  5.]\n",
      "KBA05_ALTER4: [nan  4.  3.  0.  5.  2.  1.]\n",
      "KBA05_ANHANG: [nan  0.  1.  2.  3.]\n",
      "KBA05_ANTG1: [nan  0.  1.  4.  2.  3.]\n",
      "KBA05_ANTG2: [nan  0.  3.  1.  4.  2.]\n",
      "KBA05_ANTG3: [nan  0.  1.  2.  3.]\n",
      "KBA05_ANTG4: [nan  2.  0.  1.]\n",
      "KBA05_AUTOQUOT: [nan  1.  3.  4.  2.  5.]\n",
      "KBA05_CCM1: [nan  1.  5.  2.  4.  3.]\n",
      "KBA05_CCM2: [nan  5.  2.  3.  1.  4.]\n",
      "KBA05_CCM3: [nan  1.  3.  5.  4.  2.]\n",
      "KBA05_CCM4: [nan  4.  0.  1.  2.  3.]\n",
      "KBA05_DIESEL: [nan  2.  0.  3.  1.  4.]\n",
      "KBA05_FRAU: [nan  4.  3.  5.  2.  1.]\n",
      "KBA05_GBZ: [nan  1.  3.  4.  5.  2.]\n",
      "KBA05_HERST1: [nan  5.  2.  4.  3.  0.  1.]\n",
      "KBA05_HERST2: [nan  5.  2.  3.  4.  1.]\n",
      "KBA05_HERST3: [nan  2.  3.  4.  1.  0.  5.]\n",
      "KBA05_HERST4: [nan  2.  1.  3.  4.  0.  5.]\n",
      "KBA05_HERST5: [nan  0.  5.  3.  4.  2.  1.]\n",
      "KBA05_HERSTTEMP: [nan  4.  3.  1.  2.  5.]\n",
      "KBA05_KRSAQUOT: [nan  1.  3.  4.  2.  5.]\n",
      "KBA05_KRSHERST1: [nan  5.  3.  4.  2.  1.]\n",
      "KBA05_KRSHERST2: [nan  4.  2.  3.  5.  1.]\n",
      "KBA05_KRSHERST3: [nan  2.  3.  1.  4.  5.]\n",
      "KBA05_KRSKLEIN: [nan  1.  3.  2.]\n",
      "KBA05_KRSOBER: [nan  2.  1.  3.]\n",
      "KBA05_KRSVAN: [nan  1.  2.  3.]\n",
      "KBA05_KRSZUL: [nan  2.  3.  1.]\n",
      "KBA05_KW1: [nan  1.  3.  4.  2.  5.]\n",
      "KBA05_KW2: [nan  3.  2.  4.  5.  1.]\n",
      "KBA05_KW3: [nan  4.  2.  1.  3.  0.]\n",
      "KBA05_MAXAH: [nan  2.  3.  5.  1.  4.]\n",
      "KBA05_MAXBJ: [nan  1.  4.  2.  3.]\n",
      "KBA05_MAXHERST: [nan  2.  5.  3.  1.  4.]\n",
      "KBA05_MAXSEG: [nan  4.  1.  2.  3.]\n",
      "KBA05_MAXVORB: [nan  3.  1.  2.]\n",
      "KBA05_MOD1: [nan  3.  0.  2.  1.  4.]\n",
      "KBA05_MOD2: [nan  2.  4.  1.  3.  5.]\n",
      "KBA05_MOD3: [nan  2.  5.  4.  1.  3.]\n",
      "KBA05_MOD4: [nan  0.  1.  2.  4.  5.  3.]\n",
      "KBA05_MOD8: [nan  0.  1.  2.  3.]\n",
      "KBA05_MOTOR: [nan  3.  1.  4.  2.]\n",
      "KBA05_MOTRAD: [nan  0.  1.  3.  2.]\n",
      "KBA05_SEG1: [nan  0.  2.  1.  3.]\n",
      "KBA05_SEG10: [nan  4.  1.  3.  2.  0.]\n",
      "KBA05_SEG2: [nan  1.  5.  2.  4.  3.]\n",
      "KBA05_SEG3: [nan  2.  3.  5.  1.  4.]\n",
      "KBA05_SEG4: [nan  2.  3.  4.  1.  5.]\n",
      "KBA05_SEG5: [nan  2.  1.  0.  3.  4.]\n",
      "KBA05_SEG7: [nan  3.  0.  1.  2.]\n",
      "KBA05_SEG8: [nan  3.  0.  1.  2.]\n",
      "KBA05_SEG9: [nan  0.  1.  2.  3.]\n",
      "KBA05_VORB0: [nan  1.  4.  2.  5.  3.]\n",
      "KBA05_VORB1: [nan  1.  2.  5.  3.  4.]\n",
      "KBA05_VORB2: [nan  5.  3.  1.  4.  2.  0.]\n",
      "KBA05_ZUL1: [nan  5.  2.  3.  4.  1.]\n",
      "KBA05_ZUL2: [nan  1.  3.  4.  2.  5.]\n",
      "KBA05_ZUL3: [nan  0.  4.  3.  2.  1.  5.]\n",
      "KBA05_ZUL4: [nan  2.  4.  3.  5.  1.  0.]\n",
      "KBA13_ALTERHALTER_30: [nan  3.  2.  1.  4.  5.]\n",
      "KBA13_ALTERHALTER_45: [nan  2.  3.  4.  1.  5.]\n",
      "KBA13_ALTERHALTER_60: [nan  3.  5.  2.  4.  1.]\n",
      "KBA13_ALTERHALTER_61: [nan  4.  3.  2.  5.  1.]\n",
      "KBA13_AUDI: [nan  4.  3.  5.  2.  1.]\n",
      "KBA13_AUTOQUOTE: [nan  2.  3.  4.  5.  1.  0.]\n",
      "KBA13_BJ_1999: [nan  3.  2.  4.  1.  5.]\n",
      "KBA13_BJ_2000: [nan  3.  2.  1.  4.  5.]\n",
      "KBA13_BJ_2004: [nan  3.  4.  2.  1.  5.]\n",
      "KBA13_BJ_2006: [nan  3.  5.  2.  4.  1.]\n",
      "KBA13_BJ_2008: [nan  3.  4.  0.  2.  5.  1.]\n",
      "KBA13_BJ_2009: [nan  2.  1.  3.  5.  0.  4.]\n",
      "KBA13_BMW: [nan  3.  4.  2.  5.  1.]\n",
      "KBA13_CCM_1000: [nan  0.  1.  4.  5.  3.  2.]\n",
      "KBA13_CCM_1200: [nan  0.  2.  1.  4.  5.  3.]\n",
      "KBA13_CCM_1400: [nan  4.  2.  3.  1.  5.]\n",
      "KBA13_CCM_0_1400: [nan  2.  1.  3.  5.  0.  4.]\n",
      "KBA13_CCM_1500: [nan  1.  4.  3.  5.  2.]\n",
      "KBA13_CCM_1600: [nan  2.  3.  1.  4.  5.]\n",
      "KBA13_CCM_1800: [nan  2.  4.  3.  5.  1.  0.]\n",
      "KBA13_CCM_2000: [nan  5.  3.  4.  2.  1.]\n",
      "KBA13_CCM_2500: [nan  3.  4.  0.  5.  2.  1.]\n",
      "KBA13_CCM_2501: [nan  3.  4.  5.  0.  2.  1.]\n",
      "KBA13_CCM_3000: [nan  0.  3.  5.  2.  1.  4.]\n",
      "KBA13_CCM_3001: [nan  5.  4.  1.  3.  2.]\n",
      "KBA13_FAB_ASIEN: [nan  2.  4.  3.  1.  5.]\n",
      "KBA13_FAB_SONSTIGE: [nan  3.  2.  1.  4.  5.]\n",
      "KBA13_FIAT: [nan  4.  3.  5.  2.  1.]\n",
      "KBA13_FORD: [nan  2.  4.  3.  1.  5.]\n",
      "KBA13_HALTER_20: [nan  3.  2.  4.  5.  1.]\n",
      "KBA13_HALTER_25: [nan  3.  2.  1.  4.  5.]\n",
      "KBA13_HALTER_30: [nan  3.  2.  1.  4.  5.]\n",
      "KBA13_HALTER_35: [nan  3.  2.  1.  4.  5.]\n",
      "KBA13_HALTER_40: [nan  3.  2.  1.  4.  5.]\n",
      "KBA13_HALTER_45: [nan  2.  3.  5.  1.  4.]\n",
      "KBA13_HALTER_50: [nan  2.  3.  5.  4.  1.]\n",
      "KBA13_HALTER_55: [nan  3.  5.  4.  2.  1.]\n",
      "KBA13_HALTER_60: [nan  3.  4.  2.  5.  1.]\n",
      "KBA13_HALTER_65: [nan  3.  4.  5.  2.  1.]\n",
      "KBA13_HALTER_66: [nan  4.  3.  2.  5.  1.]\n",
      "KBA13_HERST_ASIEN: [nan  1.  3.  4.  2.  5.]\n",
      "KBA13_HERST_AUDI_VW: [nan  4.  2.  3.  5.  1.]\n",
      "KBA13_HERST_BMW_BENZ: [nan  4.  3.  5.  2.  1.]\n",
      "KBA13_HERST_EUROPA: [nan  4.  3.  2.  5.  1.]\n",
      "KBA13_HERST_FORD_OPEL: [nan  2.  3.  1.  4.  5.]\n",
      "KBA13_HERST_SONST: [nan  3.  2.  1.  4.  5.]\n",
      "KBA13_KMH_110: [nan  1.  2.  3.]\n",
      "KBA13_KMH_140: [nan  3.  1.  5.  2.  4.]\n",
      "KBA13_KMH_180: [nan  2.  1.  3.  4.  5.]\n",
      "KBA13_KMH_0_140: [nan  3.  1.  5.  0.  4.  2.]\n",
      "KBA13_KMH_140_210: [nan  3.  2.  1.  4.  5.]\n",
      "KBA13_KMH_211: [nan  3.  4.  5.  2.  1.  0.]\n",
      "KBA13_KMH_250: [nan  3.  4.  5.  2.  1.  0.]\n",
      "KBA13_KMH_251: [nan  1.  3.  2.]\n",
      "KBA13_KRSAQUOT: [nan  2.  3.  4.  1.  5.  0.]\n",
      "KBA13_KRSHERST_AUDI_VW: [nan  4.  3.  2.  1.  5.  0.]\n",
      "KBA13_KRSHERST_BMW_BENZ: [nan  3.  4.  5.  2.  1.  0.]\n",
      "KBA13_KRSHERST_FORD_OPEL: [nan  3.  2.  4.  1.  5.  0.]\n",
      "KBA13_KRSSEG_KLEIN: [nan  2.  3.  1.  0.]\n",
      "KBA13_KRSSEG_OBER: [nan  2.  3.  1.  0.]\n",
      "KBA13_KRSSEG_VAN: [nan  2.  1.  3.  0.]\n",
      "KBA13_KRSZUL_NEU: [nan  1.  2.  3.  0.]\n",
      "KBA13_KW_30: [nan  1.  2.  3.]\n",
      "KBA13_KW_40: [nan  2.  1.  4.  5.  0.  3.]\n",
      "KBA13_KW_50: [nan  4.  2.  3.  0.  1.  5.]\n",
      "KBA13_KW_60: [nan  0.  1.  2.  3.  4.  5.]\n",
      "KBA13_KW_0_60: [nan  3.  1.  2.  4.  5.]\n",
      "KBA13_KW_70: [nan  1.  4.  3.  2.  0.  5.]\n",
      "KBA13_KW_61_120: [nan  3.  5.  2.  4.  1.]\n",
      "KBA13_KW_80: [nan  2.  4.  1.  3.  0.  5.]\n"
     ]
    },
    {
     "name": "stdout",
     "output_type": "stream",
     "text": [
      "KBA13_KW_90: [nan  3.  2.  0.  4.  1.  5.]\n",
      "KBA13_KW_110: [nan  4.  3.  1.  5.  0.  2.]\n",
      "KBA13_KW_120: [nan  4.  3.  1.  5.  0.  2.]\n",
      "KBA13_KW_121: [nan  3.  4.  5.  2.  0.  1.]\n",
      "KBA13_MAZDA: [nan  2.  3.  4.  5.  1.]\n",
      "KBA13_MERCEDES: [nan  4.  3.  5.  2.  1.]\n",
      "KBA13_MOTOR: [nan  3.  4.  2.  1.]\n",
      "KBA13_NISSAN: [nan  2.  3.  5.  4.  1.]\n",
      "KBA13_OPEL: [nan  3.  2.  4.  1.  5.]\n",
      "KBA13_PEUGEOT: [nan  4.  3.  2.  1.  5.]\n",
      "KBA13_RENAULT: [nan  3.  2.  4.  5.  1.]\n",
      "KBA13_SEG_GELAENDEWAGEN: [nan  2.  5.  3.  4.  1.]\n",
      "KBA13_SEG_GROSSRAUMVANS: [nan  3.  4.  1.  5.  2.]\n",
      "KBA13_SEG_KLEINST: [nan  2.  3.  5.  4.  1.]\n",
      "KBA13_SEG_KLEINWAGEN: [nan  2.  3.  4.  1.  5.]\n",
      "KBA13_SEG_KOMPAKTKLASSE: [nan  5.  1.  4.  3.  2.]\n",
      "KBA13_SEG_MINIVANS: [nan  4.  3.  2.  1.  5.]\n",
      "KBA13_SEG_MINIWAGEN: [nan  2.  3.  5.  4.  1.]\n",
      "KBA13_SEG_MITTELKLASSE: [nan  3.  2.  4.  5.  1.]\n",
      "KBA13_SEG_OBEREMITTELKLASSE: [nan  3.  4.  5.  2.  1.]\n",
      "KBA13_SEG_OBERKLASSE: [nan  3.  1.  4.  5.  0.  2.]\n",
      "KBA13_SEG_SONSTIGE: [nan  2.  5.  3.  4.  1.]\n",
      "KBA13_SEG_SPORTWAGEN: [nan  3.  4.  5.  1.  2.  0.]\n",
      "KBA13_SEG_UTILITIES: [nan  3.  5.  2.  4.  1.]\n",
      "KBA13_SEG_VAN: [nan  4.  3.  2.  1.  5.]\n",
      "KBA13_SEG_WOHNMOBILE: [nan  2.  5.  3.  4.  0.  1.]\n",
      "KBA13_SITZE_4: [nan  3.  4.  5.  2.  1.]\n",
      "KBA13_SITZE_5: [nan  3.  2.  1.  4.  5.]\n",
      "KBA13_SITZE_6: [nan  4.  3.  2.  5.  1.]\n",
      "KBA13_TOYOTA: [nan  2.  3.  4.  5.  1.]\n",
      "KBA13_VORB_0: [nan  3.  4.  5.  2.  1.]\n",
      "KBA13_VORB_1: [nan  3.  4.  2.  1.  5.]\n",
      "KBA13_VORB_1_2: [nan  3.  4.  2.  1.  5.]\n",
      "KBA13_VORB_2: [nan  3.  2.  4.  1.  5.]\n",
      "KBA13_VORB_3: [nan  3.  2.  4.  0.  1.  5.]\n",
      "KBA13_VW: [nan  4.  2.  3.  5.  1.]\n",
      "KKK: [nan  2.  3.  4.  1.]\n",
      "KONSUMNAEHE: [nan  1.  5.  4.  3.  2.  6.  7.]\n",
      "MOBI_REGIO: [nan  1.  3.  4.  5.  2.  6.]\n",
      "ONLINE_AFFINITAET: [ 1.  3.  2.  5.  4.  0. nan]\n",
      "ORTSGR_KLS9: [nan  5.  3.  6.  4.  8.  2.  7.  9.  1.  0.]\n",
      "PLZ8_ANTG1: [nan  2.  3.  1.  4.  0.]\n",
      "PLZ8_ANTG2: [nan  3.  2.  4.  1.  0.]\n",
      "PLZ8_ANTG3: [nan  2.  1.  3.  0.]\n",
      "PLZ8_ANTG4: [nan  1.  0.  2.]\n",
      "PLZ8_GBZ: [nan  4.  3.  5.  2.  1.]\n",
      "PLZ8_HHZ: [nan  5.  4.  3.  2.  1.]\n",
      "REGIOTYP: [nan  3.  2.  5.  1.  7.  6.  4.]\n",
      "RELAT_AB: [nan  4.  2.  3.  5.  1.]\n",
      "RETOURTYP_BK_S: [ 5.  1.  3.  2.  4. nan]\n",
      "SEMIO_DOM: [6. 7. 4. 2. 1. 5. 3.]\n",
      "SEMIO_ERL: [3. 2. 6. 7. 4. 5. 1.]\n",
      "SEMIO_FAM: [6. 4. 1. 5. 7. 2. 3.]\n",
      "SEMIO_KAEM: [6. 4. 7. 5. 2. 3. 1.]\n",
      "SEMIO_KRIT: [7. 4. 3. 1. 5. 6. 2.]\n",
      "SEMIO_KULT: [3. 4. 6. 5. 7. 1. 2.]\n",
      "SEMIO_LUST: [5. 2. 4. 6. 7. 3. 1.]\n",
      "SEMIO_MAT: [5. 3. 1. 2. 4. 7. 6.]\n",
      "SEMIO_PFLICHT: [5. 7. 3. 4. 1. 6. 2.]\n",
      "SEMIO_RAT: [4. 6. 3. 2. 7. 5. 1.]\n",
      "SEMIO_REL: [7. 4. 3. 2. 5. 1. 6.]\n",
      "SEMIO_SOZ: [2. 5. 4. 6. 7. 3. 1.]\n",
      "SEMIO_TRADV: [3. 6. 4. 2. 7. 5. 1.]\n",
      "SEMIO_VERT: [1. 4. 7. 2. 6. 5. 3.]\n",
      "WOHNDAUER_2008: [nan  9.  8.  3.  4.  5.  6.  2.  7.  1.]\n",
      "W_KEIT_KIND_HH: [nan  3.  2.  6.  5.  4.  1.]\n",
      "ARBEIT: [nan  3.  2.  4.  1.  5.]\n",
      "D19_TELKO_ONLINE_QUOTE_12: [nan  0.  5.  7.  3.]\n",
      "D19_VERSI_DATUM: [0 2 8 9 6 7 5 1 4 3]\n",
      "D19_VERSI_OFFLINE_DATUM: [0 7 9 6 4 8 5 2 3 1]\n",
      "D19_VERSI_ONLINE_DATUM: [0 8 9 5 6 7 4 1 2 3]\n",
      "D19_VERSI_ONLINE_QUOTE_12: [nan  0. 10.  5.  7.  8.  6.  3.  9.]\n",
      "KBA13_ANTG1: [nan  2.  1.  4.  3.  0.]\n",
      "KBA13_ANTG2: [nan  4.  3.  2.  1.  0.]\n",
      "KBA13_ANTG3: [nan  2.  1.  0.  3.]\n",
      "KBA13_ANTG4: [nan  1.  0.  2.]\n",
      "KBA13_CCM_1401_2500: [nan  3.  2.  1.  4.  5.]\n",
      "KBA13_GBZ: [nan  4.  3.  5.  2.  1.]\n",
      "KBA13_HHZ: [nan  5.  4.  3.  2.  1.]\n",
      "KBA13_KMH_210: [nan  4.  2.  3.  5.  1.]\n"
     ]
    }
   ],
   "source": [
    "for col in convert_10_to_0_list:\n",
    "    if col in list(azdias_select_cols.columns):\n",
    "        azdias_select_cols[col] = azdias_select_cols[col].apply(lambda x: x%10)\n",
    "        customers_select_cols[col] = customers_select_cols[col].apply(lambda x: x%10)\n",
    "        mailout_train_select_cols[col] = mailout_train_select_cols[col].apply(lambda x: x%10)\n",
    "        mailout_test_select_cols[col] = mailout_test_select_cols[col].apply(lambda x: x%10)\n",
    "\n",
    "for col in ordinal_features:\n",
    "    print (f'{col}: {azdias_select_cols[col].unique()}')"
   ]
  },
  {
   "cell_type": "markdown",
   "metadata": {},
   "source": [
    "Missing values also need to be replaced with `most_frequent` values"
   ]
  },
  {
   "cell_type": "code",
   "execution_count": 57,
   "metadata": {
    "scrolled": false
   },
   "outputs": [
    {
     "name": "stdout",
     "output_type": "stream",
     "text": [
      "ALTERSKATEGORIE_GROB: [2. 1. 3. 4.]\n",
      "BALLRAUM: [6. 2. 4. 3. 7. 1. 5.]\n",
      "D19_BANKEN_ANZ_12: [0. 3. 1. 2. 4. 5. 6.]\n",
      "D19_BANKEN_ANZ_24: [0. 5. 1. 2. 4. 3. 6.]\n",
      "D19_BANKEN_DATUM: [0. 5. 8. 6. 9. 1. 7. 4. 2. 3.]\n",
      "D19_BANKEN_OFFLINE_DATUM: [0. 9. 8. 2. 5. 4. 1. 6. 7. 3.]\n",
      "D19_BANKEN_ONLINE_DATUM: [0. 5. 8. 6. 9. 1. 4. 7. 2. 3.]\n",
      "D19_BANKEN_ONLINE_QUOTE_12: [ 0. 10.  8.  5.  9.  7.  6.  3.  4.  2.  1.]\n",
      "D19_BANKEN_REST: [0. 6. 5. 4. 3. 7. 2. 1.]\n",
      "D19_BEKLEIDUNG_GEH: [0. 6. 5. 7. 3. 2. 4. 1.]\n",
      "D19_BEKLEIDUNG_REST: [0. 1. 6. 7. 5. 3. 4. 2.]\n",
      "D19_BILDUNG: [0. 6. 3. 7. 2. 4. 5. 1.]\n",
      "D19_BIO_OEKO: [0. 6. 7. 3. 5. 2. 4. 1.]\n",
      "D19_BUCH_CD: [0. 6. 5. 3. 1. 7. 4. 2.]\n",
      "D19_DIGIT_SERV: [0. 6. 7. 3. 5. 2. 4. 1.]\n",
      "D19_DROGERIEARTIKEL: [0. 1. 6. 3. 7. 4. 5. 2.]\n",
      "D19_ENERGIE: [0. 5. 3. 6. 7. 2. 1. 4.]\n",
      "D19_FREIZEIT: [0. 7. 3. 6. 5. 4. 1. 2.]\n",
      "D19_GARTEN: [0. 3. 6. 7. 5. 4. 2. 1.]\n",
      "D19_GESAMT_ANZ_12: [0. 6. 1. 2. 3. 4. 5.]\n",
      "D19_GESAMT_ANZ_24: [0. 6. 1. 2. 3. 5. 4.]\n",
      "D19_GESAMT_DATUM: [0. 1. 3. 5. 9. 4. 7. 6. 8. 2.]\n",
      "D19_GESAMT_OFFLINE_DATUM: [0. 6. 8. 9. 5. 2. 4. 1. 7. 3.]\n",
      "D19_GESAMT_ONLINE_DATUM: [0. 1. 3. 5. 9. 4. 7. 6. 8. 2.]\n",
      "D19_GESAMT_ONLINE_QUOTE_12: [ 0. 10.  7.  9.  5.  8.  6.  3.  4.  2.  1.]\n",
      "D19_HANDWERK: [0. 6. 3. 5. 7. 4. 2. 1.]\n",
      "D19_HAUS_DEKO: [0. 5. 6. 7. 1. 3. 4. 2.]\n",
      "D19_KINDERARTIKEL: [0. 6. 7. 3. 5. 2. 1. 4.]\n",
      "D19_KONSUMTYP: [9. 1. 4. 3. 6. 5. 2.]\n",
      "D19_KOSMETIK: [0. 6. 3. 5. 7. 2. 4. 1.]\n",
      "D19_LEBENSMITTEL: [0. 6. 7. 5. 3. 4. 1. 2.]\n",
      "D19_LOTTO: [0. 6. 7. 5. 3. 4. 2. 1.]\n",
      "D19_NAHRUNGSERGAENZUNG: [0. 5. 6. 7. 4. 1. 2. 3.]\n",
      "D19_RATGEBER: [0. 7. 6. 3. 5. 2. 4. 1.]\n",
      "D19_REISEN: [0. 6. 7. 3. 5. 2. 4. 1.]\n",
      "D19_SAMMELARTIKEL: [0. 6. 1. 7. 5. 3. 2. 4.]\n",
      "D19_SCHUHE: [0. 1. 3. 5. 6. 2. 7. 4.]\n",
      "D19_SONSTIGE: [0. 6. 4. 7. 5. 3. 2. 1.]\n",
      "D19_TECHNIK: [0. 6. 5. 7. 3. 1. 4. 2.]\n",
      "D19_TELKO_ANZ_12: [0. 1. 2. 6. 3. 4. 5.]\n",
      "D19_TELKO_ANZ_24: [0. 1. 2. 4. 3. 6. 5.]\n",
      "D19_TELKO_DATUM: [0. 6. 9. 8. 7. 5. 4. 2. 1. 3.]\n",
      "D19_TELKO_MOBILE: [0. 6. 3. 7. 4. 5. 2. 1.]\n",
      "D19_TELKO_OFFLINE_DATUM: [0. 8. 9. 5. 6. 7. 4. 2. 3. 1.]\n",
      "D19_TELKO_ONLINE_DATUM: [0. 9. 7. 8. 6. 5. 4. 1. 2. 3.]\n",
      "D19_TELKO_REST: [0. 5. 6. 4. 3. 7. 2. 1.]\n",
      "D19_TIERARTIKEL: [0. 6. 5. 3. 4. 7. 2. 1.]\n",
      "D19_VERSAND_ANZ_12: [0. 6. 1. 2. 5. 3. 4.]\n",
      "D19_VERSAND_ANZ_24: [0. 6. 2. 1. 3. 4. 5.]\n",
      "D19_VERSAND_DATUM: [0. 1. 5. 9. 4. 8. 7. 6. 3. 2.]\n",
      "D19_VERSAND_OFFLINE_DATUM: [0. 9. 6. 8. 5. 2. 1. 4. 7. 3.]\n",
      "D19_VERSAND_ONLINE_DATUM: [0. 1. 5. 9. 4. 8. 7. 6. 3. 2.]\n",
      "D19_VERSAND_ONLINE_QUOTE_12: [ 0. 10.  7.  5.  9.  3.  8.  6.  4.  2.  1.]\n",
      "D19_VERSAND_REST: [0. 2. 6. 5. 3. 1. 4. 7.]\n",
      "D19_VERSICHERUNGEN: [0. 3. 6. 4. 5. 7. 2. 1.]\n",
      "D19_VERSI_ANZ_12: [0. 1. 2. 3. 4. 5. 6.]\n",
      "D19_VERSI_ANZ_24: [0. 3. 1. 2. 4. 5. 6.]\n",
      "D19_VOLLSORTIMENT: [0. 7. 6. 3. 2. 5. 4. 1.]\n",
      "D19_WEIN_FEINKOST: [0. 6. 7. 5. 3. 2. 4. 1.]\n",
      "EWDICHTE: [6. 3. 4. 2. 5. 1.]\n",
      "FINANZTYP: [4. 1. 6. 5. 2. 3.]\n",
      "FINANZ_ANLEGER: [5. 2. 1. 4. 3.]\n",
      "FINANZ_HAUSBAUER: [3. 5. 2. 4. 1.]\n",
      "FINANZ_MINIMALIST: [3. 1. 4. 2. 5.]\n",
      "FINANZ_SPARER: [4. 5. 2. 3. 1.]\n",
      "FINANZ_UNAUFFAELLIGER: [5. 4. 3. 1. 2.]\n",
      "FINANZ_VORSORGER: [3. 2. 1. 5. 4.]\n",
      "GEBAEUDETYP_RASTER: [4. 3. 5. 1. 2.]\n",
      "HEALTH_TYP: [3. 2. 1.]\n",
      "HH_EINKOMMEN_SCORE: [2. 6. 4. 1. 5. 3.]\n",
      "INNENSTADT: [5. 8. 4. 6. 1. 7. 3. 2.]\n",
      "KBA05_ALTER1: [2. 3. 0. 1. 4.]\n",
      "KBA05_ALTER2: [3. 4. 5. 2. 1.]\n",
      "KBA05_ALTER3: [3. 1. 4. 2. 5.]\n",
      "KBA05_ALTER4: [3. 4. 0. 5. 2. 1.]\n",
      "KBA05_ANHANG: [1. 0. 2. 3.]\n",
      "KBA05_ANTG1: [0. 1. 4. 2. 3.]\n",
      "KBA05_ANTG2: [0. 3. 1. 4. 2.]\n",
      "KBA05_ANTG3: [0. 1. 2. 3.]\n",
      "KBA05_ANTG4: [0. 2. 1.]\n",
      "KBA05_AUTOQUOT: [3. 1. 4. 2. 5.]\n",
      "KBA05_CCM1: [3. 1. 5. 2. 4.]\n",
      "KBA05_CCM2: [3. 5. 2. 1. 4.]\n",
      "KBA05_CCM3: [3. 1. 5. 4. 2.]\n",
      "KBA05_CCM4: [0. 4. 1. 2. 3.]\n",
      "KBA05_DIESEL: [2. 0. 3. 1. 4.]\n",
      "KBA05_FRAU: [3. 4. 5. 2. 1.]\n",
      "KBA05_GBZ: [3. 1. 4. 5. 2.]\n",
      "KBA05_HERST1: [2. 5. 4. 3. 0. 1.]\n",
      "KBA05_HERST2: [3. 5. 2. 4. 1.]\n",
      "KBA05_HERST3: [3. 2. 4. 1. 0. 5.]\n",
      "KBA05_HERST4: [3. 2. 1. 4. 0. 5.]\n",
      "KBA05_HERST5: [3. 0. 5. 4. 2. 1.]\n",
      "KBA05_HERSTTEMP: [3. 4. 1. 2. 5.]\n",
      "KBA05_KRSAQUOT: [3. 1. 4. 2. 5.]\n",
      "KBA05_KRSHERST1: [3. 5. 4. 2. 1.]\n",
      "KBA05_KRSHERST2: [3. 4. 2. 5. 1.]\n",
      "KBA05_KRSHERST3: [3. 2. 1. 4. 5.]\n",
      "KBA05_KRSKLEIN: [2. 1. 3.]\n",
      "KBA05_KRSOBER: [2. 1. 3.]\n",
      "KBA05_KRSVAN: [2. 1. 3.]\n",
      "KBA05_KRSZUL: [2. 3. 1.]\n",
      "KBA05_KW1: [3. 1. 4. 2. 5.]\n",
      "KBA05_KW2: [3. 2. 4. 5. 1.]\n",
      "KBA05_KW3: [1. 4. 2. 3. 0.]\n",
      "KBA05_MAXAH: [3. 2. 5. 1. 4.]\n",
      "KBA05_MAXBJ: [1. 4. 2. 3.]\n",
      "KBA05_MAXHERST: [2. 5. 3. 1. 4.]\n",
      "KBA05_MAXSEG: [2. 4. 1. 3.]\n",
      "KBA05_MAXVORB: [2. 3. 1.]\n",
      "KBA05_MOD1: [0. 3. 2. 1. 4.]\n",
      "KBA05_MOD2: [3. 2. 4. 1. 5.]\n",
      "KBA05_MOD3: [3. 2. 5. 4. 1.]\n",
      "KBA05_MOD4: [3. 0. 1. 2. 4. 5.]\n",
      "KBA05_MOD8: [0. 1. 2. 3.]\n",
      "KBA05_MOTOR: [3. 1. 4. 2.]\n",
      "KBA05_MOTRAD: [1. 0. 3. 2.]\n",
      "KBA05_SEG1: [1. 0. 2. 3.]\n",
      "KBA05_SEG10: [2. 4. 1. 3. 0.]\n",
      "KBA05_SEG2: [3. 1. 5. 2. 4.]\n",
      "KBA05_SEG3: [3. 2. 5. 1. 4.]\n",
      "KBA05_SEG4: [3. 2. 4. 1. 5.]\n",
      "KBA05_SEG5: [1. 2. 0. 3. 4.]\n",
      "KBA05_SEG7: [0. 3. 1. 2.]\n",
      "KBA05_SEG8: [0. 3. 1. 2.]\n",
      "KBA05_SEG9: [0. 1. 2. 3.]\n",
      "KBA05_VORB0: [3. 1. 4. 2. 5.]\n",
      "KBA05_VORB1: [3. 1. 2. 5. 4.]\n",
      "KBA05_VORB2: [3. 5. 1. 4. 2. 0.]\n",
      "KBA05_ZUL1: [3. 5. 2. 4. 1.]\n",
      "KBA05_ZUL2: [3. 1. 4. 2. 5.]\n",
      "KBA05_ZUL3: [3. 0. 4. 2. 1. 5.]\n",
      "KBA05_ZUL4: [2. 4. 3. 5. 1. 0.]\n",
      "KBA13_ALTERHALTER_30: [3. 2. 1. 4. 5.]\n",
      "KBA13_ALTERHALTER_45: [3. 2. 4. 1. 5.]\n",
      "KBA13_ALTERHALTER_60: [3. 5. 2. 4. 1.]\n",
      "KBA13_ALTERHALTER_61: [3. 4. 2. 5. 1.]\n",
      "KBA13_AUDI: [3. 4. 5. 2. 1.]\n",
      "KBA13_AUTOQUOTE: [3. 2. 4. 5. 1. 0.]\n",
      "KBA13_BJ_1999: [3. 2. 4. 1. 5.]\n",
      "KBA13_BJ_2000: [3. 2. 1. 4. 5.]\n",
      "KBA13_BJ_2004: [3. 4. 2. 1. 5.]\n",
      "KBA13_BJ_2006: [3. 5. 2. 4. 1.]\n",
      "KBA13_BJ_2008: [3. 4. 0. 2. 5. 1.]\n",
      "KBA13_BJ_2009: [3. 2. 1. 5. 0. 4.]\n",
      "KBA13_BMW: [3. 4. 2. 5. 1.]\n",
      "KBA13_CCM_1000: [3. 0. 1. 4. 5. 2.]\n",
      "KBA13_CCM_1200: [3. 0. 2. 1. 4. 5.]\n",
      "KBA13_CCM_1400: [3. 4. 2. 1. 5.]\n",
      "KBA13_CCM_0_1400: [3. 2. 1. 5. 0. 4.]\n",
      "KBA13_CCM_1500: [1. 4. 3. 5. 2.]\n",
      "KBA13_CCM_1600: [3. 2. 1. 4. 5.]\n",
      "KBA13_CCM_1800: [3. 2. 4. 5. 1. 0.]\n",
      "KBA13_CCM_2000: [3. 5. 4. 2. 1.]\n",
      "KBA13_CCM_2500: [3. 4. 0. 5. 2. 1.]\n",
      "KBA13_CCM_2501: [3. 4. 5. 0. 2. 1.]\n",
      "KBA13_CCM_3000: [3. 0. 5. 2. 1. 4.]\n",
      "KBA13_CCM_3001: [1. 5. 4. 3. 2.]\n",
      "KBA13_FAB_ASIEN: [3. 2. 4. 1. 5.]\n",
      "KBA13_FAB_SONSTIGE: [3. 2. 1. 4. 5.]\n",
      "KBA13_FIAT: [3. 4. 5. 2. 1.]\n",
      "KBA13_FORD: [3. 2. 4. 1. 5.]\n",
      "KBA13_HALTER_20: [3. 2. 4. 5. 1.]\n",
      "KBA13_HALTER_25: [3. 2. 1. 4. 5.]\n",
      "KBA13_HALTER_30: [3. 2. 1. 4. 5.]\n",
      "KBA13_HALTER_35: [3. 2. 1. 4. 5.]\n",
      "KBA13_HALTER_40: [3. 2. 1. 4. 5.]\n",
      "KBA13_HALTER_45: [3. 2. 5. 1. 4.]\n",
      "KBA13_HALTER_50: [3. 2. 5. 4. 1.]\n",
      "KBA13_HALTER_55: [3. 5. 4. 2. 1.]\n",
      "KBA13_HALTER_60: [3. 4. 2. 5. 1.]\n",
      "KBA13_HALTER_65: [3. 4. 5. 2. 1.]\n",
      "KBA13_HALTER_66: [3. 4. 2. 5. 1.]\n",
      "KBA13_HERST_ASIEN: [3. 1. 4. 2. 5.]\n",
      "KBA13_HERST_AUDI_VW: [3. 4. 2. 5. 1.]\n",
      "KBA13_HERST_BMW_BENZ: [3. 4. 5. 2. 1.]\n",
      "KBA13_HERST_EUROPA: [3. 4. 2. 5. 1.]\n",
      "KBA13_HERST_FORD_OPEL: [3. 2. 1. 4. 5.]\n",
      "KBA13_HERST_SONST: [3. 2. 1. 4. 5.]\n",
      "KBA13_KMH_110: [1. 2. 3.]\n",
      "KBA13_KMH_140: [1. 3. 5. 2. 4.]\n",
      "KBA13_KMH_180: [3. 2. 1. 4. 5.]\n",
      "KBA13_KMH_0_140: [3. 1. 5. 0. 4. 2.]\n",
      "KBA13_KMH_140_210: [3. 2. 1. 4. 5.]\n",
      "KBA13_KMH_211: [3. 4. 5. 2. 1. 0.]\n",
      "KBA13_KMH_250: [3. 4. 5. 2. 1. 0.]\n",
      "KBA13_KMH_251: [1. 3. 2.]\n",
      "KBA13_KRSAQUOT: [3. 2. 4. 1. 5. 0.]\n",
      "KBA13_KRSHERST_AUDI_VW: [3. 4. 2. 1. 5. 0.]\n",
      "KBA13_KRSHERST_BMW_BENZ: [3. 4. 5. 2. 1. 0.]\n",
      "KBA13_KRSHERST_FORD_OPEL: [3. 2. 4. 1. 5. 0.]\n",
      "KBA13_KRSSEG_KLEIN: [2. 3. 1. 0.]\n",
      "KBA13_KRSSEG_OBER: [2. 3. 1. 0.]\n",
      "KBA13_KRSSEG_VAN: [2. 1. 3. 0.]\n",
      "KBA13_KRSZUL_NEU: [2. 1. 3. 0.]\n",
      "KBA13_KW_30: [1. 2. 3.]\n",
      "KBA13_KW_40: [3. 2. 1. 4. 5. 0.]\n",
      "KBA13_KW_50: [3. 4. 2. 0. 1. 5.]\n",
      "KBA13_KW_60: [3. 0. 1. 2. 4. 5.]\n",
      "KBA13_KW_0_60: [3. 1. 2. 4. 5.]\n",
      "KBA13_KW_70: [3. 1. 4. 2. 0. 5.]\n",
      "KBA13_KW_61_120: [3. 5. 2. 4. 1.]\n",
      "KBA13_KW_80: [3. 2. 4. 1. 0. 5.]\n",
      "KBA13_KW_90: [3. 2. 0. 4. 1. 5.]\n",
      "KBA13_KW_110: [3. 4. 1. 5. 0. 2.]\n",
      "KBA13_KW_120: [3. 4. 1. 5. 0. 2.]\n",
      "KBA13_KW_121: [3. 4. 5. 2. 0. 1.]\n",
      "KBA13_MAZDA: [3. 2. 4. 5. 1.]\n",
      "KBA13_MERCEDES: [3. 4. 5. 2. 1.]\n",
      "KBA13_MOTOR: [3. 4. 2. 1.]\n",
      "KBA13_NISSAN: [3. 2. 5. 4. 1.]\n",
      "KBA13_OPEL: [3. 2. 4. 1. 5.]\n",
      "KBA13_PEUGEOT: [3. 4. 2. 1. 5.]\n",
      "KBA13_RENAULT: [3. 2. 4. 5. 1.]\n",
      "KBA13_SEG_GELAENDEWAGEN: [3. 2. 5. 4. 1.]\n",
      "KBA13_SEG_GROSSRAUMVANS: [3. 4. 1. 5. 2.]\n",
      "KBA13_SEG_KLEINST: [3. 2. 5. 4. 1.]\n",
      "KBA13_SEG_KLEINWAGEN: [3. 2. 4. 1. 5.]\n",
      "KBA13_SEG_KOMPAKTKLASSE: [3. 5. 1. 4. 2.]\n",
      "KBA13_SEG_MINIVANS: [3. 4. 2. 1. 5.]\n",
      "KBA13_SEG_MINIWAGEN: [3. 2. 5. 4. 1.]\n",
      "KBA13_SEG_MITTELKLASSE: [3. 2. 4. 5. 1.]\n",
      "KBA13_SEG_OBEREMITTELKLASSE: [3. 4. 5. 2. 1.]\n",
      "KBA13_SEG_OBERKLASSE: [3. 1. 4. 5. 0. 2.]\n",
      "KBA13_SEG_SONSTIGE: [3. 2. 5. 4. 1.]\n",
      "KBA13_SEG_SPORTWAGEN: [3. 4. 5. 1. 2. 0.]\n",
      "KBA13_SEG_UTILITIES: [3. 5. 2. 4. 1.]\n",
      "KBA13_SEG_VAN: [3. 4. 2. 1. 5.]\n",
      "KBA13_SEG_WOHNMOBILE: [3. 2. 5. 4. 0. 1.]\n",
      "KBA13_SITZE_4: [3. 4. 5. 2. 1.]\n",
      "KBA13_SITZE_5: [3. 2. 1. 4. 5.]\n",
      "KBA13_SITZE_6: [3. 4. 2. 5. 1.]\n",
      "KBA13_TOYOTA: [3. 2. 4. 5. 1.]\n",
      "KBA13_VORB_0: [3. 4. 5. 2. 1.]\n",
      "KBA13_VORB_1: [3. 4. 2. 1. 5.]\n",
      "KBA13_VORB_1_2: [3. 4. 2. 1. 5.]\n",
      "KBA13_VORB_2: [3. 2. 4. 1. 5.]\n",
      "KBA13_VORB_3: [3. 2. 4. 0. 1. 5.]\n",
      "KBA13_VW: [3. 4. 2. 5. 1.]\n",
      "KKK: [3. 2. 4. 1.]\n",
      "KONSUMNAEHE: [1. 5. 4. 3. 2. 6. 7.]\n",
      "MOBI_REGIO: [1. 3. 4. 5. 2. 6.]\n",
      "ONLINE_AFFINITAET: [1. 3. 2. 5. 4. 0.]\n",
      "ORTSGR_KLS9: [5. 3. 6. 4. 8. 2. 7. 9. 1. 0.]\n",
      "PLZ8_ANTG1: [2. 3. 1. 4. 0.]\n",
      "PLZ8_ANTG2: [3. 2. 4. 1. 0.]\n",
      "PLZ8_ANTG3: [2. 1. 3. 0.]\n",
      "PLZ8_ANTG4: [0. 1. 2.]\n",
      "PLZ8_GBZ: [3. 4. 5. 2. 1.]\n"
     ]
    },
    {
     "name": "stdout",
     "output_type": "stream",
     "text": [
      "PLZ8_HHZ: [3. 5. 4. 2. 1.]\n",
      "REGIOTYP: [6. 3. 2. 5. 1. 7. 4.]\n",
      "RELAT_AB: [3. 4. 2. 5. 1.]\n",
      "RETOURTYP_BK_S: [5. 1. 3. 2. 4.]\n",
      "SEMIO_DOM: [6. 7. 4. 2. 1. 5. 3.]\n",
      "SEMIO_ERL: [3. 2. 6. 7. 4. 5. 1.]\n",
      "SEMIO_FAM: [6. 4. 1. 5. 7. 2. 3.]\n",
      "SEMIO_KAEM: [6. 4. 7. 5. 2. 3. 1.]\n",
      "SEMIO_KRIT: [7. 4. 3. 1. 5. 6. 2.]\n",
      "SEMIO_KULT: [3. 4. 6. 5. 7. 1. 2.]\n",
      "SEMIO_LUST: [5. 2. 4. 6. 7. 3. 1.]\n",
      "SEMIO_MAT: [5. 3. 1. 2. 4. 7. 6.]\n",
      "SEMIO_PFLICHT: [5. 7. 3. 4. 1. 6. 2.]\n",
      "SEMIO_RAT: [4. 6. 3. 2. 7. 5. 1.]\n",
      "SEMIO_REL: [7. 4. 3. 2. 5. 1. 6.]\n",
      "SEMIO_SOZ: [2. 5. 4. 6. 7. 3. 1.]\n",
      "SEMIO_TRADV: [3. 6. 4. 2. 7. 5. 1.]\n",
      "SEMIO_VERT: [1. 4. 7. 2. 6. 5. 3.]\n",
      "WOHNDAUER_2008: [9. 8. 3. 4. 5. 6. 2. 7. 1.]\n",
      "W_KEIT_KIND_HH: [6. 3. 2. 5. 4. 1.]\n",
      "ARBEIT: [4. 3. 2. 1. 5.]\n",
      "D19_TELKO_ONLINE_QUOTE_12: [0. 5. 7. 3.]\n",
      "D19_VERSI_DATUM: [0. 2. 8. 9. 6. 7. 5. 1. 4. 3.]\n",
      "D19_VERSI_OFFLINE_DATUM: [0. 7. 9. 6. 4. 8. 5. 2. 3. 1.]\n",
      "D19_VERSI_ONLINE_DATUM: [0. 8. 9. 5. 6. 7. 4. 1. 2. 3.]\n",
      "D19_VERSI_ONLINE_QUOTE_12: [ 0. 10.  5.  7.  8.  6.  3.  9.]\n",
      "KBA13_ANTG1: [2. 1. 4. 3. 0.]\n",
      "KBA13_ANTG2: [3. 4. 2. 1. 0.]\n",
      "KBA13_ANTG3: [2. 1. 0. 3.]\n",
      "KBA13_ANTG4: [0. 1. 2.]\n",
      "KBA13_CCM_1401_2500: [3. 2. 1. 4. 5.]\n",
      "KBA13_GBZ: [3. 4. 5. 2. 1.]\n",
      "KBA13_HHZ: [3. 5. 4. 2. 1.]\n",
      "KBA13_KMH_210: [3. 4. 2. 5. 1.]\n"
     ]
    }
   ],
   "source": [
    "imputer_ordinal_type = SimpleImputer(strategy='most_frequent')\n",
    "azdias_select_cols[ordinal_features] = imputer_ordinal_type.fit_transform(azdias_select_cols[ordinal_features])\n",
    "customers_select_cols[ordinal_features] = imputer_ordinal_type.fit_transform(customers_select_cols[ordinal_features])\n",
    "\n",
    "mailout_train_select_cols[ordinal_features] = imputer_ordinal_type.fit_transform(mailout_train_select_cols[ordinal_features])\n",
    "mailout_test_select_cols[ordinal_features] = imputer_ordinal_type.transform(mailout_test_select_cols[ordinal_features])\n",
    "\n",
    "for col in ordinal_features:\n",
    "    print (f'{col}: {azdias_select_cols[col].unique()}')"
   ]
  },
  {
   "cell_type": "code",
   "execution_count": 58,
   "metadata": {},
   "outputs": [],
   "source": [
    "azdias_select_cols[ordinal_features] = azdias_select_cols[ordinal_features].astype('int32').astype('category')\n",
    "customers_select_cols[ordinal_features] = customers_select_cols[ordinal_features].astype('int32').astype('category')\n",
    "mailout_train_select_cols[ordinal_features] = mailout_train_select_cols[ordinal_features].astype('int32').astype('category')\n",
    "mailout_test_select_cols[ordinal_features] = mailout_test_select_cols[ordinal_features].astype('int32').astype('category')"
   ]
  },
  {
   "cell_type": "markdown",
   "metadata": {},
   "source": [
    "### Onehot Features"
   ]
  },
  {
   "cell_type": "markdown",
   "metadata": {},
   "source": [
    "Traditinally, categorical features need to be onehot-encoded; however, for this dataset, most of the categorical features are semi-oridinal, and we may come through without onehot encoding.\n",
    "\n",
    "Meanwhile, there is one feature `D19_LETZTER_KAUF_BRANCHE` which is necessary  to be onehot-encoded or dropped. I specify this one as onehot_feature for this project. "
   ]
  },
  {
   "cell_type": "code",
   "execution_count": 61,
   "metadata": {},
   "outputs": [
    {
     "name": "stdout",
     "output_type": "stream",
     "text": [
      "D19_LETZTER_KAUF_BRANCHE: [nan 'D19_UNBEKANNT' 'D19_SCHUHE' 'D19_ENERGIE' 'D19_KOSMETIK'\n",
      " 'D19_VOLLSORTIMENT' 'D19_SONSTIGE' 'D19_BANKEN_GROSS'\n",
      " 'D19_DROGERIEARTIKEL' 'D19_HANDWERK' 'D19_BUCH_CD' 'D19_VERSICHERUNGEN'\n",
      " 'D19_VERSAND_REST' 'D19_TELKO_REST' 'D19_BANKEN_DIREKT' 'D19_BANKEN_REST'\n",
      " 'D19_FREIZEIT' 'D19_LEBENSMITTEL' 'D19_HAUS_DEKO' 'D19_BEKLEIDUNG_REST'\n",
      " 'D19_SAMMELARTIKEL' 'D19_TELKO_MOBILE' 'D19_REISEN' 'D19_BEKLEIDUNG_GEH'\n",
      " 'D19_TECHNIK' 'D19_NAHRUNGSERGAENZUNG' 'D19_DIGIT_SERV' 'D19_LOTTO'\n",
      " 'D19_RATGEBER' 'D19_TIERARTIKEL' 'D19_KINDERARTIKEL' 'D19_BIO_OEKO'\n",
      " 'D19_WEIN_FEINKOST' 'D19_GARTEN' 'D19_BILDUNG' 'D19_BANKEN_LOKAL']\n"
     ]
    }
   ],
   "source": [
    "onehot_features = list(current_azdias_attribute_info[current_azdias_attribute_info.type == 'onehot']['attribute'])\n",
    "for col in onehot_features:\n",
    "    print (f'{col}: {azdias_select_cols[col].unique()}')"
   ]
  },
  {
   "cell_type": "code",
   "execution_count": 62,
   "metadata": {},
   "outputs": [
    {
     "name": "stdout",
     "output_type": "stream",
     "text": [
      "D19_LETZTER_KAUF_BRANCHE: ['D19_UNBEKANNT' 'D19_SCHUHE' 'D19_ENERGIE' 'D19_KOSMETIK'\n",
      " 'D19_VOLLSORTIMENT' 'D19_SONSTIGE' 'D19_BANKEN_GROSS'\n",
      " 'D19_DROGERIEARTIKEL' 'D19_HANDWERK' 'D19_BUCH_CD' 'D19_VERSICHERUNGEN'\n",
      " 'D19_VERSAND_REST' 'D19_TELKO_REST' 'D19_BANKEN_DIREKT' 'D19_BANKEN_REST'\n",
      " 'D19_FREIZEIT' 'D19_LEBENSMITTEL' 'D19_HAUS_DEKO' 'D19_BEKLEIDUNG_REST'\n",
      " 'D19_SAMMELARTIKEL' 'D19_TELKO_MOBILE' 'D19_REISEN' 'D19_BEKLEIDUNG_GEH'\n",
      " 'D19_TECHNIK' 'D19_NAHRUNGSERGAENZUNG' 'D19_DIGIT_SERV' 'D19_LOTTO'\n",
      " 'D19_RATGEBER' 'D19_TIERARTIKEL' 'D19_KINDERARTIKEL' 'D19_BIO_OEKO'\n",
      " 'D19_WEIN_FEINKOST' 'D19_GARTEN' 'D19_BILDUNG' 'D19_BANKEN_LOKAL']\n"
     ]
    }
   ],
   "source": [
    "imputer_onehot_type = SimpleImputer(strategy='most_frequent')\n",
    "azdias_select_cols[onehot_features] = imputer_onehot_type.fit_transform(azdias_select_cols[onehot_features])\n",
    "customers_select_cols[onehot_features] = imputer_onehot_type.fit_transform(customers_select_cols[onehot_features])\n",
    "\n",
    "mailout_train_select_cols[onehot_features] = imputer_onehot_type.fit_transform(mailout_train_select_cols[onehot_features])\n",
    "mailout_test_select_cols[onehot_features] = imputer_onehot_type.transform(mailout_test_select_cols[onehot_features])\n",
    "for col in onehot_features:\n",
    "    print (f'{col}: {azdias_select_cols[col].unique()}')"
   ]
  },
  {
   "cell_type": "markdown",
   "metadata": {},
   "source": [
    "### Numerical Features"
   ]
  },
  {
   "cell_type": "code",
   "execution_count": 63,
   "metadata": {},
   "outputs": [
    {
     "name": "stdout",
     "output_type": "stream",
     "text": [
      "ANZ_HAUSHALTE_AKTIV: [ nan  11.  10.   1.   3.   5.   4.   6.   2.   9.   0.  14.  13.   8.\n",
      "   7.  44.  25.  36.  16. 272.  33.  15.  12.  22.  21.  20.  67.  23.\n",
      "  18.  27.  24.  31.  39.  19.  30.  17.  29.  61.  54.  88.  49.  60.\n",
      "  38.  34.  48.  35.  62.  26.  45.  42.  28.  77.  47.  50. 236. 137.\n",
      "  43.  52.  41.  76.  63.  32.  40.  37.  59.  53.  57. 118.  66.  95.\n",
      "  78.  70.  46. 185.  73. 154.  80. 102.  92. 126.  94.  71.  68.  81.\n",
      "  69. 121. 258.  58.  86. 124.  85.  90. 128.  51.  72.  64.  56.  83.\n",
      " 150. 259.  91. 160. 134. 169. 246.  82. 114. 183. 116.  74. 143.  99.\n",
      " 216.  98. 125. 112. 123.  55. 120.  75. 141. 103.  87.  89. 223.  93.\n",
      " 179. 135. 149.  97. 101. 110.  79. 111. 109.  65.  84. 367. 162. 195.\n",
      " 107. 119. 331. 122. 161. 157. 175. 177. 136. 104. 316. 127. 100. 180.\n",
      " 155. 133. 178. 176. 108. 353. 131. 130.  96. 256. 117. 146. 211. 199.\n",
      " 140. 200. 106. 285. 263. 314. 253. 163. 377. 171. 148. 191. 243. 153.\n",
      " 145. 174. 172. 190. 142. 317. 244. 189. 286. 105. 170. 215. 321. 113.\n",
      " 115. 156. 129. 242. 132. 280. 159. 138. 158. 267. 151. 164. 187. 206.\n",
      " 266. 265. 209. 196. 139. 193. 184. 210. 260. 366. 194. 318. 344. 277.\n",
      " 595. 197. 247. 165. 283. 326. 181. 186. 438. 222. 144. 378. 237. 152.\n",
      " 208. 274. 430. 202. 214. 231. 219. 225. 230. 198. 224. 333. 168. 221.\n",
      " 523. 254. 305. 166. 252. 445. 147. 301. 213. 536. 220. 249. 290. 515.\n",
      " 276. 241. 204. 250. 218. 226. 201. 240. 404. 348. 328. 228. 304. 167.\n",
      " 346. 205. 207. 293. 255. 307. 414. 311. 347. 379. 395. 229. 232.]\n",
      "ANZ_HH_TITEL: [nan  0.  1.  5.  2.  3.  7.  4.  6.  9. 15. 14.  8. 11. 10. 12. 13. 20.\n",
      " 16. 17. 23. 18.]\n",
      "ANZ_PERSONEN: [nan  2.  1.  0.  4.  3.  5.  7.  6.  8. 12.  9. 21. 10. 13. 11. 14. 45.\n",
      " 20. 31. 29. 37. 16. 22. 15. 23. 18. 35. 17. 40. 38.]\n",
      "ANZ_TITEL: [nan  0.  1.  2.  4.  3.  6.]\n",
      "KBA13_ANZAHL_PKW: [ nan 963. 712. ...   2.  30.   7.]\n",
      "MIN_GEBAEUDEJAHR: [  nan 1992. 1997. 2005. 2009. 1994. 1996. 2002. 2015. 1991. 1993. 1995.\n",
      " 2003. 2014. 2008. 2006. 2000. 1990. 2004. 1999. 1998. 2001. 2007. 2013.\n",
      " 1989. 2011. 2012. 2010. 1987. 1988. 1985. 2016. 1986.]\n",
      "ANZ_KINDER: [nan  0.  1.  2.  3.  4.  5.  6.  9.  7. 11.  8.]\n",
      "ANZ_STATISTISCHE_HAUSHALTE: [ nan  12.   7.   2.   3.   5.   6.   1.  14.   4.  11.  13.  30.  22.\n",
      "  36. 244.  10.  32.   8.   9.  18.  17.  16.  67.  19.  15.  26.  20.\n",
      "  23.  33.  34.  68.  53.  21.  42.  57.  28.  25.  60.  35.  29.  43.\n",
      "  64.  27.  46.  24.  48.  31.  56.  37. 243. 157.  39.  40.  71.  63.\n",
      "  38.  44.  50. 101.  66.  41.  81.  47. 192. 131. 149.  74.  84.  80.\n",
      " 137.  45.  94.  65.  54.  87.  69. 125.  61.  82.  73.  72.  86. 292.\n",
      "  70.  83.  91. 112.  58.  51.  75.  52.  90. 140.  49. 212.  79. 152.\n",
      " 142. 166. 251.  99. 107.  76. 173.  89. 138.  92. 154. 115. 100.  55.\n",
      " 116.  88. 113. 162.  95. 168.  62.  97. 110. 127. 102.  93. 103.  78.\n",
      " 111. 114.  77.  98. 365. 146. 109.  59. 108. 289. 130.  85. 119. 159.\n",
      " 183. 117. 303.  96. 124. 163. 123. 122. 156. 155.   0. 319. 104. 223.\n",
      " 105. 128. 217. 129. 170. 218. 367. 253. 132. 328. 126. 193. 133. 153.\n",
      " 118. 121. 233. 143. 229. 134. 256. 180. 106. 202. 120. 136. 148. 204.\n",
      " 245. 135. 164. 248. 150. 160. 147. 139. 189. 195. 187. 269. 179. 174.\n",
      " 161. 225. 314. 158. 141. 167. 353. 354. 284. 258. 234. 194. 264. 145.\n",
      " 239. 238. 144. 235. 369. 257. 227. 184. 296. 317. 240. 213. 169. 199.\n",
      " 222. 230. 274. 181. 197. 237. 252. 309. 339. 262. 366. 177. 241. 175.\n",
      " 304. 186. 178. 176. 172. 200. 216. 182. 205. 228. 336. 445. 242. 299.\n",
      " 151. 203. 185. 268. 214. 286. 322. 198. 449. 165. 190. 297. 209. 342.\n",
      " 375. 371. 171.]\n",
      "EINGEZOGENAM_HH_JAHR: [  nan 2004. 2000. 1998. 1994. 2005. 2007. 2009. 2016. 2014. 2015. 2013.\n",
      " 2008. 2010. 2001. 2002. 1997. 2012. 1992. 1999. 1996. 1995. 2011. 2003.\n",
      " 2006. 1991. 2017. 1993. 2018. 1989. 1990. 1987. 1986. 1988. 1900. 1904.\n",
      " 1971. 1984.]\n",
      "VERDICHTUNGSRAUM: [nan  0.  1. 35.  3.  7. 23.  4.  8. 13. 16. 25.  5. 21.  6. 15. 32. 42.\n",
      " 31. 11. 33. 22. 30. 18. 12. 27.  2.  9. 28. 10. 14. 20. 17. 43. 19. 24.\n",
      " 34. 40. 39. 29. 26. 44. 45. 37. 36. 41. 38.]\n",
      "VK_DHT4A: [nan  8.  9.  7.  3. 10.  1.  6.  4.  2.  5. 11.]\n",
      "VK_DISTANZ: [nan 11.  9. 10.  5.  7. 12.  1.  6. 13.  8.  4.  3.  2.]\n",
      "VK_ZG11: [nan 10.  6. 11.  4.  9.  8.  1.  3.  7.  5.  2.]\n"
     ]
    }
   ],
   "source": [
    "numerical_features = list(current_azdias_attribute_info[current_azdias_attribute_info.type == 'numeric']['attribute'])\n",
    "for col in numerical_features:\n",
    "    print (f'{col}: {azdias_select_cols[col].unique()}')"
   ]
  },
  {
   "cell_type": "markdown",
   "metadata": {},
   "source": [
    "For missing values in numerical features, median values are used. "
   ]
  },
  {
   "cell_type": "code",
   "execution_count": 64,
   "metadata": {},
   "outputs": [
    {
     "name": "stdout",
     "output_type": "stream",
     "text": [
      "ANZ_HAUSHALTE_AKTIV: [  4.  11.  10.   1.   3.   5.   6.   2.   9.   0.  14.  13.   8.   7.\n",
      "  44.  25.  36.  16. 272.  33.  15.  12.  22.  21.  20.  67.  23.  18.\n",
      "  27.  24.  31.  39.  19.  30.  17.  29.  61.  54.  88.  49.  60.  38.\n",
      "  34.  48.  35.  62.  26.  45.  42.  28.  77.  47.  50. 236. 137.  43.\n",
      "  52.  41.  76.  63.  32.  40.  37.  59.  53.  57. 118.  66.  95.  78.\n",
      "  70.  46. 185.  73. 154.  80. 102.  92. 126.  94.  71.  68.  81.  69.\n",
      " 121. 258.  58.  86. 124.  85.  90. 128.  51.  72.  64.  56.  83. 150.\n",
      " 259.  91. 160. 134. 169. 246.  82. 114. 183. 116.  74. 143.  99. 216.\n",
      "  98. 125. 112. 123.  55. 120.  75. 141. 103.  87.  89. 223.  93. 179.\n",
      " 135. 149.  97. 101. 110.  79. 111. 109.  65.  84. 367. 162. 195. 107.\n",
      " 119. 331. 122. 161. 157. 175. 177. 136. 104. 316. 127. 100. 180. 155.\n",
      " 133. 178. 176. 108. 353. 131. 130.  96. 256. 117. 146. 211. 199. 140.\n",
      " 200. 106. 285. 263. 314. 253. 163. 377. 171. 148. 191. 243. 153. 145.\n",
      " 174. 172. 190. 142. 317. 244. 189. 286. 105. 170. 215. 321. 113. 115.\n",
      " 156. 129. 242. 132. 280. 159. 138. 158. 267. 151. 164. 187. 206. 266.\n",
      " 265. 209. 196. 139. 193. 184. 210. 260. 366. 194. 318. 344. 277. 595.\n",
      " 197. 247. 165. 283. 326. 181. 186. 438. 222. 144. 378. 237. 152. 208.\n",
      " 274. 430. 202. 214. 231. 219. 225. 230. 198. 224. 333. 168. 221. 523.\n",
      " 254. 305. 166. 252. 445. 147. 301. 213. 536. 220. 249. 290. 515. 276.\n",
      " 241. 204. 250. 218. 226. 201. 240. 404. 348. 328. 228. 304. 167. 346.\n",
      " 205. 207. 293. 255. 307. 414. 311. 347. 379. 395. 229. 232.]\n",
      "ANZ_HH_TITEL: [ 0.  1.  5.  2.  3.  7.  4.  6.  9. 15. 14.  8. 11. 10. 12. 13. 20. 16.\n",
      " 17. 23. 18.]\n",
      "ANZ_PERSONEN: [ 1.  2.  0.  4.  3.  5.  7.  6.  8. 12.  9. 21. 10. 13. 11. 14. 45. 20.\n",
      " 31. 29. 37. 16. 22. 15. 23. 18. 35. 17. 40. 38.]\n",
      "ANZ_TITEL: [0. 1. 2. 4. 3. 6.]\n",
      "KBA13_ANZAHL_PKW: [549. 963. 712. ...   2.  30.   7.]\n",
      "MIN_GEBAEUDEJAHR: [1992. 1997. 2005. 2009. 1994. 1996. 2002. 2015. 1991. 1993. 1995. 2003.\n",
      " 2014. 2008. 2006. 2000. 1990. 2004. 1999. 1998. 2001. 2007. 2013. 1989.\n",
      " 2011. 2012. 2010. 1987. 1988. 1985. 2016. 1986.]\n",
      "ANZ_KINDER: [ 0.  1.  2.  3.  4.  5.  6.  9.  7. 11.  8.]\n",
      "ANZ_STATISTISCHE_HAUSHALTE: [  3.  12.   7.   2.   5.   6.   1.  14.   4.  11.  13.  30.  22.  36.\n",
      " 244.  10.  32.   8.   9.  18.  17.  16.  67.  19.  15.  26.  20.  23.\n",
      "  33.  34.  68.  53.  21.  42.  57.  28.  25.  60.  35.  29.  43.  64.\n",
      "  27.  46.  24.  48.  31.  56.  37. 243. 157.  39.  40.  71.  63.  38.\n",
      "  44.  50. 101.  66.  41.  81.  47. 192. 131. 149.  74.  84.  80. 137.\n",
      "  45.  94.  65.  54.  87.  69. 125.  61.  82.  73.  72.  86. 292.  70.\n",
      "  83.  91. 112.  58.  51.  75.  52.  90. 140.  49. 212.  79. 152. 142.\n",
      " 166. 251.  99. 107.  76. 173.  89. 138.  92. 154. 115. 100.  55. 116.\n",
      "  88. 113. 162.  95. 168.  62.  97. 110. 127. 102.  93. 103.  78. 111.\n",
      " 114.  77.  98. 365. 146. 109.  59. 108. 289. 130.  85. 119. 159. 183.\n",
      " 117. 303.  96. 124. 163. 123. 122. 156. 155.   0. 319. 104. 223. 105.\n",
      " 128. 217. 129. 170. 218. 367. 253. 132. 328. 126. 193. 133. 153. 118.\n",
      " 121. 233. 143. 229. 134. 256. 180. 106. 202. 120. 136. 148. 204. 245.\n",
      " 135. 164. 248. 150. 160. 147. 139. 189. 195. 187. 269. 179. 174. 161.\n",
      " 225. 314. 158. 141. 167. 353. 354. 284. 258. 234. 194. 264. 145. 239.\n",
      " 238. 144. 235. 369. 257. 227. 184. 296. 317. 240. 213. 169. 199. 222.\n",
      " 230. 274. 181. 197. 237. 252. 309. 339. 262. 366. 177. 241. 175. 304.\n",
      " 186. 178. 176. 172. 200. 216. 182. 205. 228. 336. 445. 242. 299. 151.\n",
      " 203. 185. 268. 214. 286. 322. 198. 449. 165. 190. 297. 209. 342. 375.\n",
      " 371. 171.]\n",
      "EINGEZOGENAM_HH_JAHR: [2003. 2004. 2000. 1998. 1994. 2005. 2007. 2009. 2016. 2014. 2015. 2013.\n",
      " 2008. 2010. 2001. 2002. 1997. 2012. 1992. 1999. 1996. 1995. 2011. 2006.\n",
      " 1991. 2017. 1993. 2018. 1989. 1990. 1987. 1986. 1988. 1900. 1904. 1971.\n",
      " 1984.]\n",
      "VERDICHTUNGSRAUM: [ 1.  0. 35.  3.  7. 23.  4.  8. 13. 16. 25.  5. 21.  6. 15. 32. 42. 31.\n",
      " 11. 33. 22. 30. 18. 12. 27.  2.  9. 28. 10. 14. 20. 17. 43. 19. 24. 34.\n",
      " 40. 39. 29. 26. 44. 45. 37. 36. 41. 38.]\n",
      "VK_DHT4A: [ 6.  8.  9.  7.  3. 10.  1.  4.  2.  5. 11.]\n",
      "VK_DISTANZ: [ 8. 11.  9. 10.  5.  7. 12.  1.  6. 13.  4.  3.  2.]\n",
      "VK_ZG11: [ 6. 10. 11.  4.  9.  8.  1.  3.  7.  5.  2.]\n"
     ]
    }
   ],
   "source": [
    "numerical_interval_type = SimpleImputer(strategy='median')\n",
    "azdias_select_cols[numerical_features] = numerical_interval_type.fit_transform(azdias_select_cols[numerical_features])\n",
    "customers_select_cols[numerical_features] = numerical_interval_type.fit_transform(customers_select_cols[numerical_features])\n",
    "\n",
    "mailout_train_select_cols[numerical_features] = numerical_interval_type.fit_transform(mailout_train_select_cols[numerical_features])\n",
    "mailout_test_select_cols[numerical_features] = numerical_interval_type.transform(mailout_test_select_cols[numerical_features])\n",
    "\n",
    "for col in numerical_features:\n",
    "    print (f'{col}: {azdias_select_cols[col].unique()}')"
   ]
  },
  {
   "cell_type": "code",
   "execution_count": 65,
   "metadata": {},
   "outputs": [],
   "source": [
    "azdias_select_cols[numerical_features] = azdias_select_cols[numerical_features].astype('int32')\n",
    "customers_select_cols[numerical_features] = customers_select_cols[numerical_features].astype('int32')\n",
    "mailout_train_select_cols[numerical_features] = mailout_train_select_cols[numerical_features].astype('int32')\n",
    "mailout_test_select_cols[numerical_features] = mailout_test_select_cols[numerical_features].astype('int32')"
   ]
  },
  {
   "cell_type": "markdown",
   "metadata": {},
   "source": [
    "### Save Data"
   ]
  },
  {
   "cell_type": "markdown",
   "metadata": {},
   "source": [
    "Save data after data preprocessing "
   ]
  },
  {
   "cell_type": "code",
   "execution_count": 6,
   "metadata": {},
   "outputs": [],
   "source": [
    "code = 'method2'"
   ]
  },
  {
   "cell_type": "code",
   "execution_count": 67,
   "metadata": {},
   "outputs": [],
   "source": [
    "# save azdias_select_cols_rows\n",
    "azdias_select_cols.to_csv(f'./data/azdias_select_cols_process_{code}.csv', sep=';', index=False)\n",
    "customers_select_cols.to_csv(f'./data/customers_select_cols_process_{code}.csv', sep=';', index=False)\n",
    "mailout_train_select_cols.to_csv(f'./data/mailout_train_select_cols_process_{code}.csv', sep=';', index=False)\n",
    "mailout_test_select_cols.to_csv(f'./data/mailout_test_select_cols_process_{code}.csv', sep=';', index=False)"
   ]
  },
  {
   "cell_type": "code",
   "execution_count": 124,
   "metadata": {},
   "outputs": [],
   "source": [
    "# # reload processed data\n",
    "# azdias_select_cols = pd.read_csv(f'./data/azdias_select_cols_process_{code}.csv', sep=';')\n",
    "# customers_select_cols = pd.read_csv(f'./data/customers_select_cols_process_{code}.csv', sep=';')\n",
    "# mailout_train_select_cols = pd.read_csv(f'./data/mailout_train_select_cols_process_{code}.csv', sep=';')\n",
    "# mailout_test_select_cols = pd.read_csv(f'./data/mailout_test_select_cols_process_{code}.csv', sep=';')"
   ]
  },
  {
   "cell_type": "code",
   "execution_count": 8,
   "metadata": {},
   "outputs": [
    {
     "name": "stdout",
     "output_type": "stream",
     "text": [
      "The shape of data frame is (891221, 351)\n",
      "The shape of data frame is (191652, 354)\n",
      "The shape of data frame is (42962, 352)\n",
      "The shape of data frame is (42833, 351)\n"
     ]
    }
   ],
   "source": [
    "print('The shape of data frame is', azdias_select_cols.shape)\n",
    "print('The shape of data frame is', customers_select_cols.shape)\n",
    "print('The shape of data frame is', mailout_train_select_cols.shape)\n",
    "print('The shape of data frame is', mailout_test_select_cols.shape)"
   ]
  },
  {
   "cell_type": "code",
   "execution_count": 9,
   "metadata": {},
   "outputs": [
    {
     "name": "stdout",
     "output_type": "stream",
     "text": [
      "The shape of data frame is (191652, 351)\n"
     ]
    }
   ],
   "source": [
    "customers_extra_cols = customers_select_cols.copy()[['CUSTOMER_GROUP', 'ONLINE_PURCHASE', 'PRODUCT_GROUP']]\n",
    "customers_select_cols.drop(['CUSTOMER_GROUP', 'ONLINE_PURCHASE', 'PRODUCT_GROUP'], axis=1, inplace=True)\n",
    "print('The shape of data frame is', customers_select_cols.shape)"
   ]
  },
  {
   "cell_type": "code",
   "execution_count": 10,
   "metadata": {},
   "outputs": [
    {
     "name": "stdout",
     "output_type": "stream",
     "text": [
      "The shape of data frame is (42962, 351)\n"
     ]
    }
   ],
   "source": [
    "mailout_train_target = mailout_train_select_cols.copy()[['RESPONSE']]\n",
    "mailout_train_select_cols.drop(['RESPONSE'], axis=1, inplace=True)\n",
    "print('The shape of data frame is', mailout_train_select_cols.shape)"
   ]
  },
  {
   "cell_type": "code",
   "execution_count": 11,
   "metadata": {},
   "outputs": [
    {
     "name": "stdout",
     "output_type": "stream",
     "text": [
      "The shape of data frame is (891221, 351)\n",
      "The shape of data frame is (191652, 351)\n",
      "The shape of data frame is (42962, 351)\n",
      "The shape of data frame is (42833, 351)\n"
     ]
    }
   ],
   "source": [
    "print('The shape of data frame is', azdias_select_cols.shape)\n",
    "print('The shape of data frame is', customers_select_cols.shape)\n",
    "print('The shape of data frame is', mailout_train_select_cols.shape)\n",
    "print('The shape of data frame is', mailout_test_select_cols.shape)"
   ]
  },
  {
   "cell_type": "code",
   "execution_count": 14,
   "metadata": {},
   "outputs": [
    {
     "name": "stdout",
     "output_type": "stream",
     "text": [
      "Total column number is: 351\n",
      "Total categorical column number is: 48\n",
      "Total numerical column number is: 13\n",
      "Total ordinal column number is: 283\n",
      "Total mixed type column number is: 7\n",
      "Total onehot type column number is: 1\n"
     ]
    },
    {
     "data": {
      "text/plain": [
       "352"
      ]
     },
     "execution_count": 14,
     "metadata": {},
     "output_type": "execute_result"
    }
   ],
   "source": [
    "print(f'Total column number is: {len(azdias_select_cols.columns)}')\n",
    "print(f'Total categorical column number is: {len(categorical_features)}')\n",
    "print(f'Total numerical column number is: {len(numerical_features)}')\n",
    "print(f'Total ordinal column number is: {len(ordinal_features)}')\n",
    "print(f'Total mixed type column number is: {len(mixed_type_features)}')\n",
    "print(f'Total onehot type column number is: {len(onehot_features)}')\n",
    "len(categorical_features)+len(numerical_features)+len(ordinal_features)+len(mixed_type_features)+len(onehot_features)"
   ]
  },
  {
   "cell_type": "code",
   "execution_count": 15,
   "metadata": {},
   "outputs": [
    {
     "data": {
      "text/plain": [
       "['./outputs/feature_names.joblib']"
      ]
     },
     "execution_count": 15,
     "metadata": {},
     "output_type": "execute_result"
    }
   ],
   "source": [
    "feature_names = {\n",
    "    'categorical_features':categorical_features,\n",
    "    'numerical_features':numerical_features,\n",
    "    'ordinal_features':ordinal_features,\n",
    "    'mixed_type_features':mixed_type_features,\n",
    "    'onehot_features': onehot_features\n",
    "}\n",
    "\n",
    "dump(feature_names, './outputs/feature_names.joblib') "
   ]
  },
  {
   "cell_type": "code",
   "execution_count": 13,
   "metadata": {},
   "outputs": [],
   "source": [
    "feature_names = load('./outputs/feature_names.joblib') \n",
    "categorical_features = feature_names['categorical_features']\n",
    "numerical_features = feature_names['numerical_features']\n",
    "ordinal_features = feature_names['ordinal_features']\n",
    "mixed_type_features = feature_names['mixed_type_features']\n",
    "onehot_features = feature_names['onehot_features']"
   ]
  },
  {
   "cell_type": "markdown",
   "metadata": {},
   "source": [
    "### Rescaling and Onehot Encoding"
   ]
  },
  {
   "cell_type": "markdown",
   "metadata": {},
   "source": [
    "I tried three types of encoding schemes for this project. \n",
    "1. Drop one-hot features\n",
    "2. Onehot encode all categorical features and the only one-hot feature\n",
    "3. Only onehot encode the only one-hot feautre"
   ]
  },
  {
   "cell_type": "code",
   "execution_count": 4,
   "metadata": {},
   "outputs": [],
   "source": [
    "# encoding_code = 'encoding1' # no one-hot encoding and no D19_LETZTER_KAUF_BRANCHE\n",
    "encoding_code = 'encoding2' # all categorical one hot encoded\n",
    "# encoding_code = 'encoding3' # one one-hot encoding\n",
    "predictive_only = False"
   ]
  },
  {
   "cell_type": "markdown",
   "metadata": {},
   "source": [
    "### Standard Rescaling for numerical features"
   ]
  },
  {
   "cell_type": "code",
   "execution_count": 20,
   "metadata": {},
   "outputs": [
    {
     "name": "stderr",
     "output_type": "stream",
     "text": [
      "C:\\Miniconda3\\lib\\site-packages\\sklearn\\preprocessing\\data.py:645: DataConversionWarning: Data with input dtype int64 were all converted to float64 by StandardScaler.\n",
      "  return self.partial_fit(X, y)\n",
      "C:\\Miniconda3\\lib\\site-packages\\sklearn\\base.py:464: DataConversionWarning: Data with input dtype int64 were all converted to float64 by StandardScaler.\n",
      "  return self.fit(X, **fit_params).transform(X)\n",
      "C:\\Miniconda3\\lib\\site-packages\\sklearn\\preprocessing\\data.py:645: DataConversionWarning: Data with input dtype int64 were all converted to float64 by StandardScaler.\n",
      "  return self.partial_fit(X, y)\n",
      "C:\\Miniconda3\\lib\\site-packages\\sklearn\\base.py:464: DataConversionWarning: Data with input dtype int64 were all converted to float64 by StandardScaler.\n",
      "  return self.fit(X, **fit_params).transform(X)\n",
      "C:\\Miniconda3\\lib\\site-packages\\sklearn\\preprocessing\\data.py:645: DataConversionWarning: Data with input dtype int64 were all converted to float64 by StandardScaler.\n",
      "  return self.partial_fit(X, y)\n",
      "C:\\Miniconda3\\lib\\site-packages\\sklearn\\base.py:464: DataConversionWarning: Data with input dtype int64 were all converted to float64 by StandardScaler.\n",
      "  return self.fit(X, **fit_params).transform(X)\n",
      "C:\\Miniconda3\\lib\\site-packages\\ipykernel_launcher.py:6: DataConversionWarning: Data with input dtype int64 were all converted to float64 by StandardScaler.\n",
      "  \n"
     ]
    }
   ],
   "source": [
    "scaler = StandardScaler()\n",
    "if not predictive_only:\n",
    "    azdias_num = scaler.fit_transform(azdias_select_cols[numerical_features])\n",
    "    customers_num = scaler.fit_transform(customers_select_cols[numerical_features])\n",
    "mailout_train_num = scaler.fit_transform(mailout_train_select_cols[numerical_features])\n",
    "mailout_test_num = scaler.transform(mailout_test_select_cols[numerical_features])"
   ]
  },
  {
   "cell_type": "markdown",
   "metadata": {},
   "source": [
    "### encode other features and generate processed dataframe"
   ]
  },
  {
   "cell_type": "code",
   "execution_count": 21,
   "metadata": {},
   "outputs": [],
   "source": [
    "if encoding_code == 'encoding1':\n",
    "    # no one-hot encoding and no D19_LETZTER_KAUF_BRANCHE\n",
    "    other_features = categorical_features + ordinal_features + mixed_type_features\n",
    "    all_features = numerical_features + other_features\n",
    "    \n",
    "    if not predictive_only:\n",
    "        azdias_processed = pd.DataFrame(np.c_[azdias_num, azdias_select_cols[other_features].values], columns=all_features)\n",
    "        customers_processed = pd.DataFrame(np.c_[customers_num, customers_select_cols[other_features].values], columns=all_features)\n",
    "    mailout_train_processed = pd.DataFrame(np.c_[mailout_train_num, mailout_train_select_cols[other_features].values], columns=all_features)\n",
    "    mailout_test_processed = pd.DataFrame(np.c_[mailout_test_num, mailout_test_select_cols[other_features].values], columns=all_features)\n",
    "\n",
    "elif encoding_code == 'encoding2':\n",
    "    # all categorical one hot encoded\n",
    "    # onehot encoding only need one fit_transform\n",
    "    encoder = OneHotEncoder(categories='auto', sparse=False)\n",
    "    if not predictive_only:\n",
    "        azdias_cat = encoder.fit_transform(azdias_select_cols[categorical_features+onehot_features])\n",
    "        customers_cat = encoder.transform(customers_select_cols[categorical_features+onehot_features])\n",
    "\n",
    "        mailout_train_cat = encoder.transform(mailout_train_select_cols[categorical_features+onehot_features])\n",
    "        mailout_test_cat = encoder.transform(mailout_test_select_cols[categorical_features+onehot_features])\n",
    "    else:\n",
    "        mailout_train_cat = encoder.fit_transform(mailout_train_select_cols[categorical_features+onehot_features])\n",
    "        mailout_test_cat = encoder.transform(mailout_test_select_cols[categorical_features+onehot_features])\n",
    "    \n",
    "    categorical_features_1hot = list(encoder.get_feature_names(categorical_features+onehot_features))\n",
    "    \n",
    "    other_features = ordinal_features + mixed_type_features\n",
    "    all_features = numerical_features + categorical_features_1hot + other_features\n",
    "    \n",
    "    if not predictive_only:\n",
    "        azdias_processed = pd.DataFrame(np.c_[azdias_num, azdias_cat, azdias_select_cols[other_features].values], columns=all_features)\n",
    "        customers_processed = pd.DataFrame(np.c_[customers_num, customers_cat, customers_select_cols[other_features].values], columns=all_features)\n",
    "    mailout_train_processed = pd.DataFrame(np.c_[mailout_train_num, mailout_train_cat, mailout_train_select_cols[other_features].values], columns=all_features)\n",
    "    mailout_test_processed = pd.DataFrame(np.c_[mailout_test_num, mailout_test_cat, mailout_test_select_cols[other_features].values], columns=all_features)\n",
    "\n",
    "elif encoding_code == 'encoding3':\n",
    "    #  one one-hot encoding\n",
    "    # onehot encoding only need one fit_transform\n",
    "    encoder = OneHotEncoder(categories='auto', sparse=False)\n",
    "    \n",
    "    if not predictive_only:\n",
    "        azdias_onehot = encoder.fit_transform(azdias_select_cols[onehot_features])\n",
    "        customers_onehot = encoder.transform(customers_select_cols[onehot_features])\n",
    "        mailout_train_onehot = encoder.transform(mailout_train_select_cols[onehot_features])\n",
    "        mailout_test_onehot = encoder.transform(mailout_test_select_cols[onehot_features])\n",
    "    else:\n",
    "        mailout_train_onehot = encoder.fit_transform(mailout_train_select_cols[onehot_features])\n",
    "        mailout_test_onehot = encoder.transform(mailout_test_select_cols[onehot_features])\n",
    "    \n",
    "    categorical_features_onehot = list(encoder.get_feature_names(onehot_features))\n",
    "\n",
    "    other_features = categorical_features + ordinal_features + mixed_type_features\n",
    "    all_features = numerical_features + categorical_features_onehot + other_features\n",
    "    \n",
    "    if not predictive_only:\n",
    "        azdias_processed = pd.DataFrame(np.c_[azdias_num, azdias_onehot, azdias_select_cols[other_features].values], columns=all_features)\n",
    "        customers_processed = pd.DataFrame(np.c_[customers_num, customers_onehot, customers_select_cols[other_features].values], columns=all_features)\n",
    "    mailout_train_processed = pd.DataFrame(np.c_[mailout_train_num, mailout_train_onehot, mailout_train_select_cols[other_features].values], columns=all_features)\n",
    "    mailout_test_processed = pd.DataFrame(np.c_[mailout_test_num, mailout_test_onehot, mailout_test_select_cols[other_features].values], columns=all_features)\n",
    "\n"
   ]
  },
  {
   "cell_type": "code",
   "execution_count": 22,
   "metadata": {},
   "outputs": [
    {
     "name": "stdout",
     "output_type": "stream",
     "text": [
      "The shape of data frame is (891221, 585)\n",
      "The shape of data frame is (191652, 585)\n",
      "The shape of data frame is (42962, 585)\n",
      "The shape of data frame is (42833, 585)\n"
     ]
    }
   ],
   "source": [
    "if not predictive_only:\n",
    "    print('The shape of data frame is', azdias_processed.shape)\n",
    "    print('The shape of data frame is', customers_processed.shape)\n",
    "print('The shape of data frame is', mailout_train_processed.shape)\n",
    "print('The shape of data frame is', mailout_test_processed.shape)"
   ]
  },
  {
   "cell_type": "code",
   "execution_count": 23,
   "metadata": {},
   "outputs": [],
   "source": [
    "if not predictive_only:\n",
    "    azdias_processed.to_csv(f'./data/azdias_processed_{code}_{encoding_code}.csv', sep=';', index=False)\n",
    "    customers_processed.to_csv(f'./data/customers_processed_{code}_{encoding_code}.csv', sep=';', index=False)\n",
    "    customers_extra_cols.to_csv('./data/customers_extra_cols.csv', sep=';', index=False)\n",
    "mailout_train_processed.to_csv(f'./data/mailout_train_processed_{code}_{encoding_code}.csv', sep=';', index=False)\n",
    "mailout_train_target.to_csv('./data/mailout_train_target.csv', sep=';', index=False)\n",
    "mailout_test_processed.to_csv(f'./data/mailout_test_processed_{code}_{encoding_code}.csv', sep=';', index=False)"
   ]
  },
  {
   "cell_type": "code",
   "execution_count": 5,
   "metadata": {},
   "outputs": [
    {
     "name": "stdout",
     "output_type": "stream",
     "text": [
      "The shape of data frame is (891221, 585)\n",
      "The shape of data frame is (191652, 585)\n",
      "The shape of data frame is (42962, 585)\n",
      "The shape of data frame is (42833, 585)\n"
     ]
    }
   ],
   "source": [
    "if not predictive_only:\n",
    "    print('The shape of data frame is', azdias_processed.shape)\n",
    "    print('The shape of data frame is', customers_processed.shape)\n",
    "print('The shape of data frame is', mailout_train_processed.shape)\n",
    "print('The shape of data frame is', mailout_test_processed.shape)"
   ]
  },
  {
   "cell_type": "code",
   "execution_count": 2,
   "metadata": {},
   "outputs": [],
   "source": [
    "code = 'method2' \n",
    "encoding_code = 'encoding2' # all categorical one hot encoded\n",
    "\n",
    "feature_names = load('./outputs/feature_names.joblib') \n",
    "categorical_features = feature_names['categorical_features']\n",
    "numerical_features = feature_names['numerical_features']\n",
    "ordinal_features = feature_names['ordinal_features']\n",
    "mixed_type_features = feature_names['mixed_type_features']\n",
    "onehot_features = feature_names['onehot_features']\n",
    "\n",
    "azdias_processed = pd.read_csv(f'./data/azdias_processed_{code}_{encoding_code}.csv', sep=';')\n",
    "customers_processed = pd.read_csv(f'./data/customers_processed_{code}_{encoding_code}.csv', sep=';')\n",
    "customers_extra_cols = pd.read_csv('./data/customers_extra_cols.csv', sep=';')\n",
    "mailout_train_processed = pd.read_csv(f'./data/mailout_train_processed_{code}_{encoding_code}.csv', sep=';')\n",
    "mailout_train_target = pd.read_csv('./data/mailout_train_target.csv', sep=';')\n",
    "mailout_test_processed = pd.read_csv(f'./data/mailout_test_processed_{code}_{encoding_code}.csv', sep=';')"
   ]
  },
  {
   "cell_type": "code",
   "execution_count": 6,
   "metadata": {},
   "outputs": [
    {
     "name": "stdout",
     "output_type": "stream",
     "text": [
      "The shape of data frame is (891221, 585)\n",
      "The shape of data frame is (191652, 585)\n",
      "The shape of data frame is (42962, 585)\n",
      "The shape of data frame is (42833, 585)\n"
     ]
    }
   ],
   "source": [
    "if not predictive_only:\n",
    "    print('The shape of data frame is', azdias_processed.shape)\n",
    "    print('The shape of data frame is', customers_processed.shape)\n",
    "print('The shape of data frame is', mailout_train_processed.shape)\n",
    "print('The shape of data frame is', mailout_test_processed.shape)"
   ]
  },
  {
   "cell_type": "markdown",
   "metadata": {},
   "source": [
    "## Part 1: Customer Segmentation Report\n",
    "\n",
    "The main bulk of your analysis will come in this part of the project. Here, you should use unsupervised learning techniques to describe the relationship between the demographics of the company's existing customers and the general population of Germany. By the end of this part, you should be able to describe parts of the general population that are more likely to be part of the mail-order company's main customer base, and which parts of the general population are less so."
   ]
  },
  {
   "cell_type": "markdown",
   "metadata": {},
   "source": [
    "### Part 1-1: PCA Dimensionality Reduction"
   ]
  },
  {
   "cell_type": "markdown",
   "metadata": {},
   "source": [
    "There are 585 features after data preprocessing, it's  a good idea to apply Principal Components Analysis to reduce feature dimensions and analyze importance of different features. "
   ]
  },
  {
   "cell_type": "code",
   "execution_count": 8,
   "metadata": {},
   "outputs": [],
   "source": [
    "pca = PCA(random_state=23)\n",
    "azdias_pca = pca.fit_transform(azdias_processed)"
   ]
  },
  {
   "cell_type": "markdown",
   "metadata": {},
   "source": [
    "Plot cummulative explained variance ratio against number of components"
   ]
  },
  {
   "cell_type": "code",
   "execution_count": 9,
   "metadata": {},
   "outputs": [
    {
     "data": {
      "text/plain": [
       "Text(0, 0.5, 'Cumulative Explained Variance')"
      ]
     },
     "execution_count": 9,
     "metadata": {},
     "output_type": "execute_result"
    },
    {
     "data": {
      "image/png": "[encoded data removed]",
      "text/plain": [
       "<Figure size 1080x432 with 1 Axes>"
      ]
     },
     "metadata": {
      "needs_background": "light"
     },
     "output_type": "display_data"
    }
   ],
   "source": [
    "num_components = len(pca.explained_variance_ratio_)\n",
    "idx = np.arange(num_components)\n",
    "values = pca.explained_variance_ratio_\n",
    "\n",
    "plt.figure(figsize=(15, 6))\n",
    "cums = np.cumsum(values)\n",
    "plt.plot(idx, cums)\n",
    "plt.grid()\n",
    "\n",
    "plt.xlabel('Number of Components')\n",
    "plt.ylabel('Cumulative Explained Variance')"
   ]
  },
  {
   "cell_type": "markdown",
   "metadata": {},
   "source": [
    "Pick 150 as pca components number, and top 150 components account for more than 90% of total variance\n"
   ]
  },
  {
   "cell_type": "code",
   "execution_count": 10,
   "metadata": {},
   "outputs": [],
   "source": [
    "pca_150 = PCA(n_components=150, random_state=23)\n",
    "azdias_pca_150 = pca_150.fit_transform(azdias_processed)"
   ]
  },
  {
   "cell_type": "markdown",
   "metadata": {},
   "source": [
    "Save pca models"
   ]
  },
  {
   "cell_type": "code",
   "execution_count": 11,
   "metadata": {},
   "outputs": [
    {
     "data": {
      "text/plain": [
       "['./outputs/pca.joblib']"
      ]
     },
     "execution_count": 11,
     "metadata": {},
     "output_type": "execute_result"
    }
   ],
   "source": [
    "dump(pca_150, './outputs/pca_150.joblib') \n",
    "dump(pca, './outputs/pca.joblib')"
   ]
  },
  {
   "cell_type": "code",
   "execution_count": null,
   "metadata": {},
   "outputs": [],
   "source": [
    "# ## Pick 200 as pca components number\n",
    "# pca_200 = PCA(n_components=200, random_state=23)\n",
    "# azdias_pca_200 = pca_200.fit_transform(azdias_processed)\n",
    "# dump(pca_200, './outputs/pca_200.joblib') "
   ]
  },
  {
   "cell_type": "markdown",
   "metadata": {},
   "source": [
    "Analyze top 5 components"
   ]
  },
  {
   "cell_type": "code",
   "execution_count": 67,
   "metadata": {},
   "outputs": [],
   "source": [
    "def display_pca_results(nth_component, columns_names):\n",
    "#     coeff = np.round(np.abs(pca_150.components_[nth_component, :]), 4)\n",
    "    coeff = np.abs(pca_150.components_[nth_component, :])\n",
    "    coeff = np.round(coeff, 5)\n",
    "    results_df = pd.DataFrame(coeff, columns=['contribution'])\n",
    "    results_df.index=columns_names\n",
    "    results_df.sort_values(by='contribution', ascending=False, inplace=True)\n",
    "    return results_df"
   ]
  },
  {
   "cell_type": "code",
   "execution_count": 68,
   "metadata": {
    "scrolled": false
   },
   "outputs": [
    {
     "name": "stdout",
     "output_type": "stream",
     "text": [
      "\n",
      "Principal Component # 1\n",
      "                             contribution\n",
      "D19_GESAMT_ONLINE_QUOTE_12        0.30514\n",
      "D19_VERSAND_ONLINE_QUOTE_12       0.28691\n",
      "D19_GESAMT_OFFLINE_DATUM          0.27746\n",
      "D19_KONSUMTYP                     0.25384\n",
      "D19_VERSAND_OFFLINE_DATUM         0.25033\n",
      "D19_VERSAND_DATUM                 0.19096\n",
      "D19_TELKO_DATUM                   0.18951\n",
      "D19_VERSAND_ONLINE_DATUM          0.18464\n",
      "D19_GESAMT_ONLINE_DATUM           0.17497\n",
      "D19_BANKEN_DATUM                  0.16581\n",
      "\n",
      "Principal Component # 2\n",
      "                             contribution\n",
      "D19_VERSAND_ONLINE_QUOTE_12       0.41015\n",
      "D19_GESAMT_ONLINE_QUOTE_12        0.40931\n",
      "D19_GESAMT_DATUM                  0.36253\n",
      "D19_VERSAND_DATUM                 0.35171\n",
      "D19_GESAMT_ONLINE_DATUM           0.30124\n",
      "D19_VERSAND_ONLINE_DATUM          0.26437\n",
      "D19_KONSUMTYP                     0.12718\n",
      "D19_GESAMT_OFFLINE_DATUM          0.12598\n",
      "D19_GESAMT_ANZ_24                 0.11439\n",
      "D19_VERSAND_ANZ_24                0.11106\n",
      "\n",
      "Principal Component # 3\n",
      "                          contribution\n",
      "ORTSGR_KLS9                    0.21679\n",
      "D19_GESAMT_ONLINE_DATUM        0.20214\n",
      "D19_VERSAND_ONLINE_DATUM       0.17914\n",
      "INNENSTADT                     0.16417\n",
      "D19_TELKO_DATUM                0.16037\n",
      "D19_GESAMT_DATUM               0.15956\n",
      "EWDICHTE                       0.15902\n",
      "D19_VERSAND_DATUM              0.15097\n",
      "SEMIO_REL                      0.15052\n",
      "D19_BANKEN_DATUM               0.14670\n",
      "\n",
      "Principal Component # 4\n",
      "                contribution\n",
      "ORTSGR_KLS9          0.25866\n",
      "SEMIO_REL            0.20956\n",
      "BALLRAUM             0.20188\n",
      "INNENSTADT           0.19438\n",
      "EWDICHTE             0.17748\n",
      "SEMIO_ERL            0.17680\n",
      "SEMIO_KULT           0.17428\n",
      "SEMIO_FAM            0.16409\n",
      "SEMIO_PFLICHT        0.15299\n",
      "FINANZ_ANLEGER       0.14939\n",
      "\n",
      "Principal Component # 5\n",
      "                      contribution\n",
      "KBA13_KMH_211              0.17682\n",
      "KBA13_KMH_250              0.17432\n",
      "KBA13_SEG_SPORTWAGEN       0.16296\n",
      "KBA13_KW_121               0.16256\n",
      "KBA13_CCM_2501             0.15899\n",
      "KBA13_CCM_3001             0.15610\n",
      "KBA13_HERST_BMW_BENZ       0.14821\n",
      "KBA13_SEG_OBERKLASSE       0.14554\n",
      "KBA05_HERST1               0.13957\n",
      "KBA13_CCM_3000             0.13658\n"
     ]
    }
   ],
   "source": [
    "columns = list(azdias_processed.columns)\n",
    "for i in range(5):\n",
    "    temp =  display_pca_results(i, columns)\n",
    "    print (f'\\nPrincipal Component # {i+1}')\n",
    "    print (temp.head(10))"
   ]
  },
  {
   "cell_type": "markdown",
   "metadata": {},
   "source": [
    "### Part 1-2: Clustering Analysis"
   ]
  },
  {
   "cell_type": "markdown",
   "metadata": {},
   "source": [
    "In this part, `k-means` (from `sklearn`) with be applied on pca-transformed data and clustering analysis will be conducted\n",
    "1. Compute k-means score for different k values, and pick the right k values for following analysis\n",
    "2. Conduct clustering step to label each sample with the train k-mean model\n",
    "3. Analysis the discrepancy between general population and customer pool."
   ]
  },
  {
   "cell_type": "markdown",
   "metadata": {},
   "source": [
    "Calculate k-means scores for a range of k values"
   ]
  },
  {
   "cell_type": "code",
   "execution_count": 12,
   "metadata": {},
   "outputs": [],
   "source": [
    "scores = []\n",
    "for num_k in range(2, 21):\n",
    "    kmeans = KMeans(n_clusters = num_k, random_state=23).fit(azdias_pca_150)\n",
    "    scores.append(np.abs(kmeans.score(azdias_pca_150)))"
   ]
  },
  {
   "cell_type": "markdown",
   "metadata": {},
   "source": [
    "plot k-means scores against cluster numbers"
   ]
  },
  {
   "cell_type": "code",
   "execution_count": 13,
   "metadata": {},
   "outputs": [
    {
     "data": {
      "image/png": "[encoded data removed]",
      "text/plain": [
       "<Figure size 1080x360 with 1 Axes>"
      ]
     },
     "metadata": {
      "needs_background": "light"
     },
     "output_type": "display_data"
    }
   ],
   "source": [
    "plt.figure(figsize=(15, 5))\n",
    "plt.plot(list(range(2, 21)), scores, linestyle='-', marker='o', color='r');\n",
    "plt.xlabel('Cluster Number');\n",
    "plt.ylabel('Score');\n",
    "plt.xlim(2, 20)\n",
    "# plt.margins(x=0.1, y=0.1)\n",
    "plt.grid()\n",
    "plt.show()"
   ]
  },
  {
   "cell_type": "markdown",
   "metadata": {},
   "source": [
    "pick 10 as the cluster number for following processing and analysis"
   ]
  },
  {
   "cell_type": "code",
   "execution_count": 20,
   "metadata": {},
   "outputs": [],
   "source": [
    "kmeans_10 = KMeans(n_clusters = 10, random_state=23).fit(azdias_pca_150)"
   ]
  },
  {
   "cell_type": "code",
   "execution_count": 21,
   "metadata": {},
   "outputs": [
    {
     "data": {
      "text/plain": [
       "['./outputs/kmeans_10.joblib']"
      ]
     },
     "execution_count": 21,
     "metadata": {},
     "output_type": "execute_result"
    }
   ],
   "source": [
    "dump(kmeans_10, './outputs/kmeans_10.joblib')"
   ]
  },
  {
   "cell_type": "markdown",
   "metadata": {},
   "source": [
    "extract label for general population"
   ]
  },
  {
   "cell_type": "code",
   "execution_count": 69,
   "metadata": {},
   "outputs": [],
   "source": [
    "azdias_labels = kmeans_10.labels_"
   ]
  },
  {
   "cell_type": "markdown",
   "metadata": {},
   "source": [
    "### Apply PCA for custorm data"
   ]
  },
  {
   "cell_type": "markdown",
   "metadata": {},
   "source": [
    "First, I need to apply the pca model to customer data"
   ]
  },
  {
   "cell_type": "code",
   "execution_count": 72,
   "metadata": {},
   "outputs": [],
   "source": [
    "customers_pca_150 = pca_150.transform(customers_processed)"
   ]
  },
  {
   "cell_type": "markdown",
   "metadata": {},
   "source": [
    "calculate label for customer data"
   ]
  },
  {
   "cell_type": "code",
   "execution_count": 73,
   "metadata": {},
   "outputs": [],
   "source": [
    "customers_labels = kmeans_10.predict(customers_pca_150)"
   ]
  },
  {
   "cell_type": "markdown",
   "metadata": {},
   "source": [
    "### Compare general population data with customers data"
   ]
  },
  {
   "cell_type": "markdown",
   "metadata": {},
   "source": [
    "first let's look at the cluster label distribution in general population data"
   ]
  },
  {
   "cell_type": "code",
   "execution_count": 87,
   "metadata": {},
   "outputs": [
    {
     "data": {
      "image/png": "[encoded data removed]",
      "text/plain": [
       "<Figure size 864x360 with 1 Axes>"
      ]
     },
     "metadata": {
      "needs_background": "light"
     },
     "output_type": "display_data"
    }
   ],
   "source": [
    "azdias_label_fractions = pd.DataFrame(azdias_labels).loc[:, 0].value_counts().sort_index() / len(azdias_labels)\n",
    "azdias_label_fractions.plot(kind='bar', figsize=(12, 5))\n",
    "plt.title('General Population Cluster Label Fractions')\n",
    "plt.xlabel('Cluster')\n",
    "plt.ylabel('Fraction')\n",
    "plt.ylim(0, 0.25)\n",
    "plt.show()"
   ]
  },
  {
   "cell_type": "markdown",
   "metadata": {},
   "source": [
    "then let's look at the cluster label distribution in customer data"
   ]
  },
  {
   "cell_type": "code",
   "execution_count": 88,
   "metadata": {},
   "outputs": [
    {
     "data": {
      "image/png": "[encoded data removed]",
      "text/plain": [
       "<Figure size 864x360 with 1 Axes>"
      ]
     },
     "metadata": {
      "needs_background": "light"
     },
     "output_type": "display_data"
    }
   ],
   "source": [
    "customer_label_fractions = pd.DataFrame(customers_labels).loc[:, 0].value_counts().sort_index()/len(customers_labels)\n",
    "customer_label_fractions.plot(kind='bar', figsize=(12, 5))\n",
    "plt.title('Customer Cluster Label Fractions')\n",
    "plt.xlabel('Cluster')\n",
    "plt.ylabel('Fraction')\n",
    "plt.ylim(0, 0.25)\n",
    "plt.show()"
   ]
  },
  {
   "cell_type": "code",
   "execution_count": 90,
   "metadata": {},
   "outputs": [
    {
     "data": {
      "image/png": "[encoded data removed]",
      "text/plain": [
       "<Figure size 864x360 with 1 Axes>"
      ]
     },
     "metadata": {
      "needs_background": "light"
     },
     "output_type": "display_data"
    }
   ],
   "source": [
    "fractions_diff = customer_label_fractions - azdias_label_fractions\n",
    "fractions_diff.plot(kind='bar', figsize=(12, 5))\n",
    "plt.axhline(y=0, c='k')\n",
    "plt.title('Customer Label Fractions Minus General Population Label Fractions')\n",
    "plt.xlabel('Cluster')\n",
    "plt.ylabel('Fraction - Diff')\n",
    "plt.ylim(-0.25, 0.25)\n",
    "plt.show()"
   ]
  },
  {
   "cell_type": "markdown",
   "metadata": {},
   "source": [
    "Based on the `Customer Label Fractions Minus General Population Label Fractions` graph, the top 2 clusters which show large difference are cluster #8 and #5"
   ]
  },
  {
   "cell_type": "code",
   "execution_count": 126,
   "metadata": {},
   "outputs": [],
   "source": [
    "azdias_cluster_8 = azdias_select_cols.loc[azdias_labels==8, :]\n",
    "azdias_cluster_5 = azdias_select_cols.loc[azdias_labels==5, :]"
   ]
  },
  {
   "cell_type": "code",
   "execution_count": 127,
   "metadata": {},
   "outputs": [],
   "source": [
    "customers_cluster_8 = customers_select_cols.loc[customers_labels==8, :]\n",
    "customers_cluster_5 = customers_select_cols.loc[customers_labels==5, :]"
   ]
  },
  {
   "cell_type": "markdown",
   "metadata": {},
   "source": [
    "To Compare the difference between these two clusters,I will plot several attribute distribution between them; meanwhile, I will also plot the distribution between general population and customer to comfirm the effectiveness of clustering steps."
   ]
  },
  {
   "cell_type": "code",
   "execution_count": 146,
   "metadata": {},
   "outputs": [
    {
     "data": {
      "text/plain": [
       "<matplotlib.axes._subplots.AxesSubplot at 0x24f21609518>"
      ]
     },
     "execution_count": 146,
     "metadata": {},
     "output_type": "execute_result"
    },
    {
     "data": {
      "image/png": "[encoded data removed]",
      "text/plain": [
       "<Figure size 1080x576 with 4 Axes>"
      ]
     },
     "metadata": {
      "needs_background": "light"
     },
     "output_type": "display_data"
    }
   ],
   "source": [
    "column_of_interest = 'ONLINE_AFFINITAET'\n",
    "fig, axs = plt.subplots(2, 2, figsize=(15, 8))\n",
    "azdias_cluster_8[column_of_interest].value_counts().sort_index().plot(\n",
    "    kind='bar', ax=axs[0][0], title=f'general population cluster 8 - {column_of_interest}')\n",
    "customers_cluster_8[column_of_interest].value_counts().sort_index().plot(\n",
    "    kind='bar', ax=axs[0][1], title=f'customer cluster 8 - {column_of_interest}')\n",
    "azdias_cluster_5[column_of_interest].value_counts().sort_index().plot(\n",
    "    kind='bar', ax=axs[1][0], title=f'general population cluster 5 - {column_of_interest}')\n",
    "customers_cluster_5[column_of_interest].value_counts().sort_index().plot(\n",
    "    kind='bar', ax=axs[1][1], title=f'general population cluster 5 - {column_of_interest}')"
   ]
  },
  {
   "cell_type": "code",
   "execution_count": 147,
   "metadata": {},
   "outputs": [
    {
     "data": {
      "text/plain": [
       "<matplotlib.axes._subplots.AxesSubplot at 0x24f21919128>"
      ]
     },
     "execution_count": 147,
     "metadata": {},
     "output_type": "execute_result"
    },
    {
     "data": {
      "image/png": "[encoded data removed]",
      "text/plain": [
       "<Figure size 1080x576 with 4 Axes>"
      ]
     },
     "metadata": {
      "needs_background": "light"
     },
     "output_type": "display_data"
    }
   ],
   "source": [
    "column_of_interest = 'INNENSTADT'\n",
    "fig, axs = plt.subplots(2, 2, figsize=(15, 8))\n",
    "azdias_cluster_8[column_of_interest].value_counts().sort_index().plot(\n",
    "    kind='bar', ax=axs[0][0], title=f'general population cluster 8 - {column_of_interest}')\n",
    "customers_cluster_8[column_of_interest].value_counts().sort_index().plot(\n",
    "    kind='bar', ax=axs[0][1], title=f'customer cluster 8 - {column_of_interest}')\n",
    "azdias_cluster_5[column_of_interest].value_counts().sort_index().plot(\n",
    "    kind='bar', ax=axs[1][0], title=f'general population cluster 5 - {column_of_interest}')\n",
    "customers_cluster_5[column_of_interest].value_counts().sort_index().plot(\n",
    "    kind='bar', ax=axs[1][1], title=f'general population cluster 5 - {column_of_interest}')"
   ]
  },
  {
   "cell_type": "code",
   "execution_count": 148,
   "metadata": {},
   "outputs": [
    {
     "data": {
      "text/plain": [
       "<matplotlib.axes._subplots.AxesSubplot at 0x24f21ac1eb8>"
      ]
     },
     "execution_count": 148,
     "metadata": {},
     "output_type": "execute_result"
    },
    {
     "data": {
      "image/png": "[encoded data removed]",
      "text/plain": [
       "<Figure size 1080x576 with 4 Axes>"
      ]
     },
     "metadata": {
      "needs_background": "light"
     },
     "output_type": "display_data"
    }
   ],
   "source": [
    "column_of_interest = 'EWDICHTE'\n",
    "fig, axs = plt.subplots(2, 2, figsize=(15, 8))\n",
    "azdias_cluster_8[column_of_interest].value_counts().sort_index().plot(\n",
    "    kind='bar', ax=axs[0][0], title=f'general population cluster 8 - {column_of_interest}')\n",
    "customers_cluster_8[column_of_interest].value_counts().sort_index().plot(\n",
    "    kind='bar', ax=axs[0][1], title=f'customer cluster 8 - {column_of_interest}')\n",
    "azdias_cluster_5[column_of_interest].value_counts().sort_index().plot(\n",
    "    kind='bar', ax=axs[1][0], title=f'general population cluster 5 - {column_of_interest}')\n",
    "customers_cluster_5[column_of_interest].value_counts().sort_index().plot(\n",
    "    kind='bar', ax=axs[1][1], title=f'general population cluster 5 - {column_of_interest}')"
   ]
  },
  {
   "cell_type": "code",
   "execution_count": 149,
   "metadata": {},
   "outputs": [
    {
     "data": {
      "text/plain": [
       "<matplotlib.axes._subplots.AxesSubplot at 0x24f2206b898>"
      ]
     },
     "execution_count": 149,
     "metadata": {},
     "output_type": "execute_result"
    },
    {
     "data": {
      "image/png": "[encoded data removed]",
      "text/plain": [
       "<Figure size 1080x576 with 4 Axes>"
      ]
     },
     "metadata": {
      "needs_background": "light"
     },
     "output_type": "display_data"
    }
   ],
   "source": [
    "column_of_interest = 'ORTSGR_KLS9'\n",
    "fig, axs = plt.subplots(2, 2, figsize=(15, 8))\n",
    "azdias_cluster_8[column_of_interest].value_counts().sort_index().plot(\n",
    "    kind='bar', ax=axs[0][0], title=f'general population cluster 8 - {column_of_interest}')\n",
    "customers_cluster_8[column_of_interest].value_counts().sort_index().plot(\n",
    "    kind='bar', ax=axs[0][1], title=f'customer cluster 8 - {column_of_interest}')\n",
    "azdias_cluster_5[column_of_interest].value_counts().sort_index().plot(\n",
    "    kind='bar', ax=axs[1][0], title=f'general population cluster 5 - {column_of_interest}')\n",
    "customers_cluster_5[column_of_interest].value_counts().sort_index().plot(\n",
    "    kind='bar', ax=axs[1][1], title=f'general population cluster 5 - {column_of_interest}')"
   ]
  },
  {
   "cell_type": "code",
   "execution_count": 150,
   "metadata": {},
   "outputs": [
    {
     "data": {
      "text/plain": [
       "<matplotlib.axes._subplots.AxesSubplot at 0x24f22381dd8>"
      ]
     },
     "execution_count": 150,
     "metadata": {},
     "output_type": "execute_result"
    },
    {
     "data": {
      "image/png": "[encoded data removed]",
      "text/plain": [
       "<Figure size 1080x576 with 4 Axes>"
      ]
     },
     "metadata": {
      "needs_background": "light"
     },
     "output_type": "display_data"
    }
   ],
   "source": [
    "column_of_interest = 'SEMIO_REL'\n",
    "fig, axs = plt.subplots(2, 2, figsize=(15, 8))\n",
    "azdias_cluster_8[column_of_interest].value_counts().sort_index().plot(\n",
    "    kind='bar', ax=axs[0][0], title=f'general population cluster 8 - {column_of_interest}')\n",
    "customers_cluster_8[column_of_interest].value_counts().sort_index().plot(\n",
    "    kind='bar', ax=axs[0][1], title=f'customer cluster 8 - {column_of_interest}')\n",
    "azdias_cluster_5[column_of_interest].value_counts().sort_index().plot(\n",
    "    kind='bar', ax=axs[1][0], title=f'general population cluster 5 - {column_of_interest}')\n",
    "customers_cluster_5[column_of_interest].value_counts().sort_index().plot(\n",
    "    kind='bar', ax=axs[1][1], title=f'general population cluster 5 - {column_of_interest}')"
   ]
  },
  {
   "cell_type": "markdown",
   "metadata": {},
   "source": [
    "`ONLINE_AFFINITAET`: online affinity \\\n",
    "`INNENSTADT`: distance to city center \\\n",
    "`EWDICHTE`: density of inhabitants per square kilometer \\\n",
    "`ORTSGR_KLS9`: classified number of inhabitants \\\n",
    "`SEMIO_REL`:affinity indicating in what way the person is religious \\\n"
   ]
  },
  {
   "cell_type": "markdown",
   "metadata": {},
   "source": [
    "## Part 2: Supervised Learning Model\n",
    "\n",
    "Now that you've found which parts of the population are more likely to be customers of the mail-order company, it's time to build a prediction model. Each of the rows in the \"MAILOUT\" data files represents an individual that was targeted for a mailout campaign. Ideally, we should be able to use the demographic information from each individual to decide whether or not it will be worth it to include that person in the campaign.\n",
    "\n",
    "The \"MAILOUT\" data has been split into two approximately equal parts, each with almost 43 000 data rows. In this part, you can verify your model with the \"TRAIN\" partition, which includes a column, \"RESPONSE\", that states whether or not a person became a customer of the company following the campaign. In the next part, you'll need to create predictions on the \"TEST\" partition, where the \"RESPONSE\" column has been withheld."
   ]
  },
  {
   "cell_type": "markdown",
   "metadata": {},
   "source": [
    "Since the dataset is quite big, training with all data is slow; for some experiment, only part of the data set is used. "
   ]
  },
  {
   "cell_type": "code",
   "execution_count": 14,
   "metadata": {},
   "outputs": [],
   "source": [
    "all_data = False"
   ]
  },
  {
   "cell_type": "code",
   "execution_count": 15,
   "metadata": {},
   "outputs": [
    {
     "name": "stderr",
     "output_type": "stream",
     "text": [
      "C:\\Miniconda3\\lib\\site-packages\\IPython\\core\\interactiveshell.py:3058: DtypeWarning: Columns (18,19) have mixed types. Specify dtype option on import or set low_memory=False.\n",
      "  interactivity=interactivity, compiler=compiler, result=result)\n"
     ]
    }
   ],
   "source": [
    "# load in mailout train dataset\n",
    "mailout_train = pd.read_csv('./data/Udacity_MAILOUT_052018_TRAIN.csv', sep=';')"
   ]
  },
  {
   "cell_type": "code",
   "execution_count": 16,
   "metadata": {},
   "outputs": [
    {
     "data": {
      "text/plain": [
       "(42962, 587)"
      ]
     },
     "execution_count": 16,
     "metadata": {},
     "output_type": "execute_result"
    }
   ],
   "source": [
    "mailout_train_processed = mailout_train_processed.astype('float64')\n",
    "mailout_train_with_LNR = np.c_[mailout_train.LNR.values, mailout_train_target.values[:, 0], mailout_train_processed]\n",
    "mailout_train_with_LNR.shape"
   ]
  },
  {
   "cell_type": "markdown",
   "metadata": {},
   "source": [
    "If I only use part of the data for modeling, I keep all positive response samples since there are only 532 positive reponses; I will resample negative response samples. "
   ]
  },
  {
   "cell_type": "code",
   "execution_count": 17,
   "metadata": {},
   "outputs": [
    {
     "name": "stdout",
     "output_type": "stream",
     "text": [
      "(42430, 587)\n",
      "(532, 587)\n"
     ]
    }
   ],
   "source": [
    "if not all_data:\n",
    "    mailout_train_with_LNR_0 = mailout_train_with_LNR[mailout_train_with_LNR[:, 1] == 0, :]\n",
    "    mailout_train_with_LNR_1 = mailout_train_with_LNR[mailout_train_with_LNR[:, 1] == 1, :]\n",
    "    print (mailout_train_with_LNR_0.shape)\n",
    "    print (mailout_train_with_LNR_1.shape)\n",
    "    np.random.RandomState(seed=23)\n",
    "    idx_0 = np.random.choice(len(mailout_train_with_LNR_0), 5320, replace=False)\n",
    "    idx_1 = np.random.choice(len(mailout_train_with_LNR_1), 532, replace=False)\n",
    "    mailout_train_with_LNR_resampled = np.r_[mailout_train_with_LNR_0[idx_0, :], mailout_train_with_LNR_1[idx_1, :]]\n",
    "    np.random.RandomState(seed=23)\n",
    "    np.random.shuffle(mailout_train_with_LNR_resampled)\n",
    "    mailout_train_with_LNR = mailout_train_with_LNR_resampled"
   ]
  },
  {
   "cell_type": "markdown",
   "metadata": {},
   "source": [
    "X and y for training data"
   ]
  },
  {
   "cell_type": "code",
   "execution_count": 18,
   "metadata": {},
   "outputs": [],
   "source": [
    "X = mailout_train_with_LNR[:, 2:]\n",
    "y = mailout_train_with_LNR[:, 1]"
   ]
  },
  {
   "cell_type": "markdown",
   "metadata": {},
   "source": [
    "### Baseline Model"
   ]
  },
  {
   "cell_type": "code",
   "execution_count": 173,
   "metadata": {},
   "outputs": [],
   "source": [
    "# parameters = {'penalty': ['l1', 'l2'], 'solver': ['lbfgs', 'warn']}\n",
    "# search_baseline = GridSearchCV(cv=5, estimator=LogisticRegression(), param_grid=parameters, scoring = 'roc_auc')\n",
    "# search_baseline.fit(X, y])"
   ]
  },
  {
   "cell_type": "code",
   "execution_count": 174,
   "metadata": {},
   "outputs": [
    {
     "name": "stderr",
     "output_type": "stream",
     "text": [
      "C:\\Miniconda3\\lib\\site-packages\\sklearn\\linear_model\\logistic.py:758: ConvergenceWarning: lbfgs failed to converge. Increase the number of iterations.\n",
      "  \"of iterations.\", ConvergenceWarning)\n"
     ]
    },
    {
     "data": {
      "text/plain": [
       "LogisticRegression(C=1.0, class_weight=None, dual=False, fit_intercept=True,\n",
       "          intercept_scaling=1, max_iter=100, multi_class='warn',\n",
       "          n_jobs=None, penalty='l2', random_state=None, solver='lbfgs',\n",
       "          tol=0.0001, verbose=0, warm_start=False)"
      ]
     },
     "execution_count": 174,
     "metadata": {},
     "output_type": "execute_result"
    }
   ],
   "source": [
    "baseline_model = LogisticRegression(penalty='l2', solver='lbfgs')\n",
    "baseline_model.fit(X, y)"
   ]
  },
  {
   "cell_type": "markdown",
   "metadata": {},
   "source": [
    "### Gradient Boosting Classifier"
   ]
  },
  {
   "cell_type": "code",
   "execution_count": 19,
   "metadata": {},
   "outputs": [
    {
     "data": {
      "text/plain": [
       "['./outputs/search_gb.joblib']"
      ]
     },
     "execution_count": 19,
     "metadata": {},
     "output_type": "execute_result"
    }
   ],
   "source": [
    "parameters = {'learning_rate': [0.1, 0.05, 0.01], 'n_estimators': [100, 200], \n",
    "              'max_depth': [3, 5], 'min_samples_split': [2, 4, 6]}\n",
    "search_gb = GridSearchCV(cv=5, estimator=GradientBoostingClassifier(), param_grid=parameters, scoring = 'roc_auc')\n",
    "search_gb.fit(X, y)\n",
    "dump(search_gb, './outputs/search_gb.joblib')"
   ]
  },
  {
   "cell_type": "code",
   "execution_count": 161,
   "metadata": {},
   "outputs": [],
   "source": [
    "# column_list = ['rank_test_score', 'params', 'mean_test_score', 'mean_train_score']\n",
    "column_list = ['rank_test_score', 'params', 'mean_test_score']\n",
    "search_db_results = {key: search_gb.cv_results_[key] for key in search_gb.cv_results_ if key in column_list}"
   ]
  },
  {
   "cell_type": "code",
   "execution_count": 185,
   "metadata": {},
   "outputs": [
    {
     "data": {
      "text/html": [
       "<div>\n",
       "<style scoped>\n",
       "    .dataframe tbody tr th:only-of-type {\n",
       "        vertical-align: middle;\n",
       "    }\n",
       "\n",
       "    .dataframe tbody tr th {\n",
       "        vertical-align: top;\n",
       "    }\n",
       "\n",
       "    .dataframe thead th {\n",
       "        text-align: right;\n",
       "    }\n",
       "</style>\n",
       "<table border=\"1\" class=\"dataframe\">\n",
       "  <thead>\n",
       "    <tr style=\"text-align: right;\">\n",
       "      <th></th>\n",
       "      <th>params</th>\n",
       "      <th>mean_test_score</th>\n",
       "      <th>rank_test_score</th>\n",
       "    </tr>\n",
       "  </thead>\n",
       "  <tbody>\n",
       "    <tr>\n",
       "      <th>0</th>\n",
       "      <td>{'learning_rate': 0.01, 'max_depth': 3, 'min_samples_split': 4, 'n_estimators': 100}</td>\n",
       "      <td>0.762529</td>\n",
       "      <td>1</td>\n",
       "    </tr>\n",
       "    <tr>\n",
       "      <th>1</th>\n",
       "      <td>{'learning_rate': 0.01, 'max_depth': 3, 'min_samples_split': 4, 'n_estimators': 200}</td>\n",
       "      <td>0.762509</td>\n",
       "      <td>2</td>\n",
       "    </tr>\n",
       "    <tr>\n",
       "      <th>2</th>\n",
       "      <td>{'learning_rate': 0.01, 'max_depth': 5, 'min_samples_split': 4, 'n_estimators': 100}</td>\n",
       "      <td>0.762297</td>\n",
       "      <td>3</td>\n",
       "    </tr>\n",
       "    <tr>\n",
       "      <th>3</th>\n",
       "      <td>{'learning_rate': 0.05, 'max_depth': 5, 'min_samples_split': 6, 'n_estimators': 100}</td>\n",
       "      <td>0.762050</td>\n",
       "      <td>4</td>\n",
       "    </tr>\n",
       "    <tr>\n",
       "      <th>4</th>\n",
       "      <td>{'learning_rate': 0.01, 'max_depth': 5, 'min_samples_split': 2, 'n_estimators': 200}</td>\n",
       "      <td>0.761917</td>\n",
       "      <td>5</td>\n",
       "    </tr>\n",
       "  </tbody>\n",
       "</table>\n",
       "</div>"
      ],
      "text/plain": [
       "                                                                                 params  \\\n",
       "0  {'learning_rate': 0.01, 'max_depth': 3, 'min_samples_split': 4, 'n_estimators': 100}   \n",
       "1  {'learning_rate': 0.01, 'max_depth': 3, 'min_samples_split': 4, 'n_estimators': 200}   \n",
       "2  {'learning_rate': 0.01, 'max_depth': 5, 'min_samples_split': 4, 'n_estimators': 100}   \n",
       "3  {'learning_rate': 0.05, 'max_depth': 5, 'min_samples_split': 6, 'n_estimators': 100}   \n",
       "4  {'learning_rate': 0.01, 'max_depth': 5, 'min_samples_split': 2, 'n_estimators': 200}   \n",
       "\n",
       "   mean_test_score  rank_test_score  \n",
       "0  0.762529         1                \n",
       "1  0.762509         2                \n",
       "2  0.762297         3                \n",
       "3  0.762050         4                \n",
       "4  0.761917         5                "
      ]
     },
     "execution_count": 185,
     "metadata": {},
     "output_type": "execute_result"
    }
   ],
   "source": [
    "# display grid search results\n",
    "pd.set_option('display.max_colwidth', -1)\n",
    "df_results = pd.DataFrame(search_db_results).sort_values('rank_test_score').reset_index(drop=True)\n",
    "df_results.head(5)"
   ]
  },
  {
   "cell_type": "markdown",
   "metadata": {},
   "source": [
    "optimized hyperparameters : \\\n",
    "     `learning_rate`: 0.01, \\\n",
    "     `n_estimators`: 100, \\\n",
    "     `max_depth`: 3, \\\n",
    "     `min_samples_split`: 4"
   ]
  },
  {
   "cell_type": "code",
   "execution_count": 186,
   "metadata": {},
   "outputs": [
    {
     "data": {
      "text/plain": [
       "GradientBoostingClassifier(criterion='friedman_mse', init=None,\n",
       "              learning_rate=0.01, loss='deviance', max_depth=3,\n",
       "              max_features=None, max_leaf_nodes=None,\n",
       "              min_impurity_decrease=0.0, min_impurity_split=None,\n",
       "              min_samples_leaf=1, min_samples_split=4,\n",
       "              min_weight_fraction_leaf=0.0, n_estimators=100,\n",
       "              n_iter_no_change=None, presort='auto', random_state=23,\n",
       "              subsample=1.0, tol=0.0001, validation_fraction=0.1,\n",
       "              verbose=0, warm_start=False)"
      ]
     },
     "execution_count": 186,
     "metadata": {},
     "output_type": "execute_result"
    }
   ],
   "source": [
    "gb_model = GradientBoostingClassifier(random_state=23, n_estimators=100,\n",
    "                                      max_depth=3, learning_rate=0.01, \n",
    "                                      min_samples_split=4)\n",
    "gb_model.fit(X, y)"
   ]
  },
  {
   "cell_type": "markdown",
   "metadata": {},
   "source": [
    "## Part 3: Kaggle Competition\n",
    "\n",
    "Now that you've created a model to predict which individuals are most likely to respond to a mailout campaign, it's time to test that model in competition through Kaggle. If you click on the link [here](http://www.kaggle.com/t/21e6d45d4c574c7fa2d868f0e8c83140), you'll be taken to the competition page where, if you have a Kaggle account, you can enter. If you're one of the top performers, you may have the chance to be contacted by a hiring manager from Arvato or Bertelsmann for an interview!\n",
    "\n",
    "Your entry to the competition should be a CSV file with two columns. The first column should be a copy of \"LNR\", which acts as an ID number for each individual in the \"TEST\" partition. The second column, \"RESPONSE\", should be some measure of how likely each individual became a customer – this might not be a straightforward probability. As you should have found in Part 2, there is a large output class imbalance, where most individuals did not respond to the mailout. Thus, predicting individual classes and using accuracy does not seem to be an appropriate performance evaluation method. Instead, the competition will be using AUC to evaluate performance. The exact values of the \"RESPONSE\" column do not matter as much: only that the higher values try to capture as many of the actual customers as possible, early in the ROC curve sweep."
   ]
  },
  {
   "cell_type": "code",
   "execution_count": 187,
   "metadata": {},
   "outputs": [
    {
     "name": "stderr",
     "output_type": "stream",
     "text": [
      "C:\\Miniconda3\\lib\\site-packages\\IPython\\core\\interactiveshell.py:3058: DtypeWarning: Columns (18,19) have mixed types. Specify dtype option on import or set low_memory=False.\n",
      "  interactivity=interactivity, compiler=compiler, result=result)\n"
     ]
    }
   ],
   "source": [
    "mailout_test = pd.read_csv('./data/Udacity_MAILOUT_052018_TEST.csv', sep=';')"
   ]
  },
  {
   "cell_type": "code",
   "execution_count": 188,
   "metadata": {},
   "outputs": [],
   "source": [
    "predictions = gb_model.predict_proba(mailout_test_processed)\n",
    "mailout_test_pred_with_LNR = np.c_[mailout_test.LNR.values, predictions[:, 1]]\n",
    "\n",
    "results = pd.DataFrame(mailout_test_pred_with_LNR, columns=['LNR', 'RESPONSE'])\n",
    "results['LNR'] = results['LNR'].astype('int32')\n",
    "results.to_csv('./outputs/submission.csv', index=False)"
   ]
  },
  {
   "cell_type": "code",
   "execution_count": null,
   "metadata": {},
   "outputs": [],
   "source": []
  }
 ],
 "metadata": {
  "kernelspec": {
   "display_name": "Python 3",
   "language": "python",
   "name": "python3"
  },
  "language_info": {
   "codemirror_mode": {
    "name": "ipython",
    "version": 3
   },
   "file_extension": ".py",
   "mimetype": "text/x-python",
   "name": "python",
   "nbconvert_exporter": "python",
   "pygments_lexer": "ipython3",
   "version": "3.6.5"
  }
 },
 "nbformat": 4,
 "nbformat_minor": 2
}
